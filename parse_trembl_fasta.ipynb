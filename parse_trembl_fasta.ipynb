{
 "cells": [
  {
   "cell_type": "code",
   "execution_count": 1,
   "metadata": {},
   "outputs": [
    {
     "ename": "ModuleNotFoundError",
     "evalue": "No module named 'duckdb'",
     "output_type": "error",
     "traceback": [
      "\u001b[0;31m---------------------------------------------------------------------------\u001b[0m",
      "\u001b[0;31mModuleNotFoundError\u001b[0m                       Traceback (most recent call last)",
      "Cell \u001b[0;32mIn[1], line 4\u001b[0m\n\u001b[1;32m      2\u001b[0m \u001b[38;5;28;01mimport\u001b[39;00m \u001b[38;5;21;01mre\u001b[39;00m\n\u001b[1;32m      3\u001b[0m \u001b[38;5;28;01mimport\u001b[39;00m \u001b[38;5;21;01mcsv\u001b[39;00m\n\u001b[0;32m----> 4\u001b[0m \u001b[38;5;28;01mimport\u001b[39;00m \u001b[38;5;21;01mduckdb\u001b[39;00m\n\u001b[1;32m      6\u001b[0m \u001b[38;5;66;03m# internal representation\u001b[39;00m\n\u001b[1;32m      7\u001b[0m \u001b[38;5;28;01mfrom\u001b[39;00m \u001b[38;5;21;01mprotein_db\u001b[39;00m \u001b[38;5;28;01mimport\u001b[39;00m ProteinDB\n",
      "\u001b[0;31mModuleNotFoundError\u001b[0m: No module named 'duckdb'"
     ]
    }
   ],
   "source": [
    "from Bio import SeqIO\n",
    "import re\n",
    "import csv\n",
    "import duckdb\n",
    "\n",
    "# internal representation\n",
    "from protein_db import ProteinDB\n",
    "\n",
    "pdb = ProteinDB()"
   ]
  },
  {
   "cell_type": "markdown",
   "metadata": {},
   "source": [
    "TrEMBL\n",
    ">tr|A0A7C4TRX0|A0A7C4TRX0_9EURY Probable GTP 3',8-cyclase OS=Archaeoglobus sp. OX=1872626 GN=moaA PE=3 SV=1\n",
    "\n",
    "OX= Identifies a taxonomy id in ncbi\n",
    "This entry is a eukaryotic protein"
   ]
  },
  {
   "cell_type": "code",
   "execution_count": null,
   "metadata": {},
   "outputs": [],
   "source": [
    "#\n",
    "# PARSE TREMBL FASTA \n",
    "#\n",
    "def parse_trembl_fasta(dom_type):\n",
    "    path        = \"/Users/patrick/dev/ucl/comp0158_mscproject/data/uniprot_trembl_10M.fasta\"\n",
    "    uniprot_re  = \"tr\\|([A-Z0-9]+)\\|\" # modified for UniRef100\n",
    "    \n",
    "    con = duckdb.connect(database=ProteinDB.db_string) \n",
    "    \n",
    "    PROCESS_LIMIT = 10000\n",
    "    record_count = 0\n",
    "    \n",
    "    for record in SeqIO.parse(path, \"fasta\"):\n",
    "            \n",
    "        # -------- check for termination ------------\n",
    "        #\n",
    "        if(PROCESS_LIMIT != -1):\n",
    "            if record_count >= PROCESS_LIMIT:\n",
    "                print('Last entry:', record.name)\n",
    "                print('Processing limit reached %s stopping' % (PROCESS_LIMIT))\n",
    "                break\n",
    "        record_count += 1\n",
    "        # ------------------------------------\n",
    "\n",
    "        result      = re.search(uniprot_re, record.name)\n",
    "        uniprot_id  = result.group(1)\n",
    "                \n",
    "        pfam_res = con.execute(\"SELECT * FROM PROTEIN_WORD WHERE UNIPROT_ID = ?\", [uniprot_id]).fetchall()\n",
    "        if pfam_res is not None:\n",
    "            if len(pfam_res) > 0:\n",
    "                print(uniprot_id)\n",
    "                print(pfam_res)\n",
    "        \n",
    "        #con.execute(\"INSERT INTO PROTEIN (UNIPROT_ID, SHORT_DESCRIPTION, TAX_NAME, TAX_ID, DOM_TYPE, REP_ID, START_POS, END_POS) VALUES##(?,?,?,?,?,?,?,?)\", (uniprot_id, short_desc, tax_name, tax_id, dom_type, rep_id, start, end))\n",
    "     \n",
    "    #con.close()\n",
    "\n",
    "parse_trembl_fasta(\"LowComplexity\")\n",
    "#parse_trembl_fasta(file, \"CoiledCoil\")"
   ]
  }
 ],
 "metadata": {
  "kernelspec": {
   "display_name": "COMP0082_BIOINF_2",
   "language": "python",
   "name": "python3"
  },
  "language_info": {
   "codemirror_mode": {
    "name": "ipython",
    "version": 3
   },
   "file_extension": ".py",
   "mimetype": "text/x-python",
   "name": "python",
   "nbconvert_exporter": "python",
   "pygments_lexer": "ipython3",
   "version": "3.12.2"
  }
 },
 "nbformat": 4,
 "nbformat_minor": 2
}
