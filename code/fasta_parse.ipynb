{
 "cells": [
  {
   "cell_type": "code",
   "execution_count": 6,
   "metadata": {},
   "outputs": [],
   "source": [
    "import argparse\n",
    "from Bio import SeqIO\n",
    "import re\n",
    "import csv"
   ]
  },
  {
   "cell_type": "code",
   "execution_count": 7,
   "metadata": {},
   "outputs": [],
   "source": [
    "fasta_file = \"/Volumes/My Passport/ucl/MSc/uniref100.fasta\"\n",
    "\n",
    "# Interpro\n",
    "# https://ftp.ebi.ac.uk/pub/databases/interpro/current_release/\n",
    "ipr_file = \"data/protein2ipr_pfam.dat\""
   ]
  },
  {
   "cell_type": "code",
   "execution_count": 15,
   "metadata": {},
   "outputs": [
    {
     "name": "stdout",
     "output_type": "stream",
     "text": [
      "0 : A0A000\tIPR004839\tAminotransferase, class I/classII\tPF00155\t41\t381\n",
      "\n",
      "1 : A0A001\tIPR003439\tABC transporter-like, ATP-binding domain\tPF00005\t361\t503\n",
      "\n",
      "2 : A0A001\tIPR011527\tABC transporter type 1, transmembrane domain\tPF00664\t17\t276\n",
      "\n",
      "3 : A0A002\tIPR003439\tABC transporter-like, ATP-binding domain\tPF00005\t340\t489\n",
      "\n",
      "4 : A0A002\tIPR011527\tABC transporter type 1, transmembrane domain\tPF00664\t20\t279\n",
      "\n",
      "5 : A0A003\tIPR001509\tNAD-dependent epimerase/dehydratase\tPF01370\t15\t249\n",
      "\n",
      "6 : A0A004\tIPR001962\tAsparagine synthase\tPF00733\t240\t627\n",
      "\n",
      "7 : A0A006\tIPR001962\tAsparagine synthase\tPF00733\t166\t412\n",
      "\n",
      "8 : A0A007\tIPR006158\tCobalamin (vitamin B12)-binding domain\tPF02310\t3\t104\n",
      "\n",
      "9 : A0A007\tIPR007197\tRadical SAM\tPF04055\t163\t325\n",
      "\n",
      "10 : A0A009\tIPR003696\tCarbamoyltransferase\tPF02543\t6\t61\n",
      "\n"
     ]
    }
   ],
   "source": [
    "#\n",
    "# utility class\n",
    "# \n",
    "def print_lines(filename, num_lines):\n",
    "    with open(filename, 'r') as input_file:\n",
    "        for line_number, line in enumerate(input_file):\n",
    "            if line_number > num_lines:  # line_number starts at 0.\n",
    "                break\n",
    "            print(line_number, ':', line)\n",
    "        \n",
    "#print(print_lines(fasta_file, 10))\n",
    "print_lines(ipr_file, 10)"
   ]
  },
  {
   "cell_type": "markdown",
   "metadata": {},
   "source": [
    "### Extract ids from fasta and find in protein"
   ]
  },
  {
   "cell_type": "code",
   "execution_count": 23,
   "metadata": {},
   "outputs": [],
   "source": [
    "def find_interpro(protein_id):\n",
    "    print('Searching for protein', protein_id)\n",
    "    with open(ipr_file, 'r') as input_file:\n",
    "        for line in input_file:\n",
    "            #print(line)\n",
    "            match = re.search(protein_id, line)\n",
    "            if match is not None:\n",
    "                print('Found', protein_id, 'in :', line)"
   ]
  },
  {
   "cell_type": "code",
   "execution_count": null,
   "metadata": {},
   "outputs": [],
   "source": [
    "find_interpro('A0A000')\n",
    "find_interpro('A0A009GL41')"
   ]
  },
  {
   "cell_type": "code",
   "execution_count": 25,
   "metadata": {},
   "outputs": [
    {
     "name": "stdout",
     "output_type": "stream",
     "text": [
      "Found Q6GZX4 in >UniRef100_Q6GZX4 Putative transcription factor 001R n=4 Tax=Ranavirus TaxID=10492 RepID=001R_FRG3G\n",
      "\n",
      "Searching for protein Q6GZX4\n",
      "Found Q6GZX4 in : A0A1Q6GZX4\tIPR028053\tMembrane insertase YidC, N-terminal\tPF14849\t86\t354\n",
      "\n",
      "Found Q6GZX4 in : A0A1Q6GZX4\tIPR028055\tMembrane insertase YidC/Oxa/ALB, C-terminal\tPF02096\t370\t568\n",
      "\n",
      "Found Q6GZX4 in : Q6GZX4\tIPR007031\tPoxvirus VLTF3, late transcription factor\tPF04947\t81\t253\n",
      "\n",
      "Found Q6GZX3 in >UniRef100_Q6GZX3 Uncharacterized protein 002L n=3 Tax=Frog virus 3 TaxID=10493 RepID=002L_FRG3G\n",
      "\n",
      "Searching for protein Q6GZX3\n",
      "Found Q6GZX3 in : A0A1Q6GZX3\tIPR032164\tDomain of unknown function DUF5000\tPF16391\t255\t400\n",
      "\n",
      "Found Q6GZX3 in : A0A1Q6GZX3\tIPR032527\tDomain of unknown function DUF4959\tPF16323\t19\t122\n",
      "\n",
      "Found Q6GZX3 in : A0A1Q6GZX3\tIPR033431\tDomain of unknown function DUF5126\tPF17166\t123\t225\n",
      "\n",
      "Found Q6GZX3 in : A0A4Q6GZX3\tIPR002310\tGlycine-tRNA ligase, alpha subunit\tPF02091\t11\t292\n",
      "\n",
      "Found Q6GZX3 in : Q6GZX3\tIPR004251\tPox virus entry-fusion-complex G9/A16\tPF03003\t169\t247\n",
      "\n",
      "Found Q197F8 in >UniRef100_Q197F8 Uncharacterized protein 002R n=1 Tax=Invertebrate iridescent virus 3 TaxID=345201 RepID=002R_IIV3\n",
      "\n",
      "Searching for protein Q197F8\n",
      "Found Q197F7 in >UniRef100_Q197F7 Uncharacterized protein 003L n=1 Tax=Invertebrate iridescent virus 3 TaxID=345201 RepID=003L_IIV3\n",
      "\n",
      "Searching for protein Q197F7\n",
      "Found Q6GZX2 in >UniRef100_Q6GZX2 Uncharacterized protein 3R n=7 Tax=Ranavirus TaxID=10492 RepID=003R_FRG3G\n",
      "\n",
      "Searching for protein Q6GZX2\n",
      "Found Q6GZX2 in : A0A1Q6GZX2\tIPR021958\tProtein of unknown function DUF3575\tPF12099\t16\t186\n",
      "\n"
     ]
    },
    {
     "ename": "KeyboardInterrupt",
     "evalue": "",
     "output_type": "error",
     "traceback": [
      "\u001b[0;31m---------------------------------------------------------------------------\u001b[0m",
      "\u001b[0;31mKeyboardInterrupt\u001b[0m                         Traceback (most recent call last)",
      "Cell \u001b[0;32mIn[25], line 15\u001b[0m\n\u001b[1;32m     12\u001b[0m                     find_interpro(\u001b[38;5;28mid\u001b[39m)\n\u001b[1;32m     13\u001b[0m                 \u001b[38;5;66;03m#else:\u001b[39;00m\n\u001b[1;32m     14\u001b[0m                 \u001b[38;5;66;03m#    print('No id in :', line)\u001b[39;00m\n\u001b[0;32m---> 15\u001b[0m \u001b[43mget_id_from_fasta\u001b[49m\u001b[43m(\u001b[49m\u001b[43m)\u001b[49m\n",
      "Cell \u001b[0;32mIn[25], line 12\u001b[0m, in \u001b[0;36mget_id_from_fasta\u001b[0;34m()\u001b[0m\n\u001b[1;32m     10\u001b[0m \u001b[38;5;28mid\u001b[39m \u001b[38;5;241m=\u001b[39m match\u001b[38;5;241m.\u001b[39mgroup(\u001b[38;5;241m1\u001b[39m)\n\u001b[1;32m     11\u001b[0m \u001b[38;5;28mprint\u001b[39m(\u001b[38;5;124m'\u001b[39m\u001b[38;5;124mFound\u001b[39m\u001b[38;5;124m'\u001b[39m, \u001b[38;5;28mid\u001b[39m, \u001b[38;5;124m'\u001b[39m\u001b[38;5;124min\u001b[39m\u001b[38;5;124m'\u001b[39m, line)\n\u001b[0;32m---> 12\u001b[0m \u001b[43mfind_interpro\u001b[49m\u001b[43m(\u001b[49m\u001b[38;5;28;43mid\u001b[39;49m\u001b[43m)\u001b[49m\n",
      "Cell \u001b[0;32mIn[23], line 6\u001b[0m, in \u001b[0;36mfind_interpro\u001b[0;34m(protein_id)\u001b[0m\n\u001b[1;32m      3\u001b[0m \u001b[38;5;28;01mwith\u001b[39;00m \u001b[38;5;28mopen\u001b[39m(ipr_file, \u001b[38;5;124m'\u001b[39m\u001b[38;5;124mr\u001b[39m\u001b[38;5;124m'\u001b[39m) \u001b[38;5;28;01mas\u001b[39;00m input_file:\n\u001b[1;32m      4\u001b[0m     \u001b[38;5;28;01mfor\u001b[39;00m line \u001b[38;5;129;01min\u001b[39;00m input_file:\n\u001b[1;32m      5\u001b[0m         \u001b[38;5;66;03m#print(line)\u001b[39;00m\n\u001b[0;32m----> 6\u001b[0m         match \u001b[38;5;241m=\u001b[39m \u001b[43mre\u001b[49m\u001b[38;5;241;43m.\u001b[39;49m\u001b[43msearch\u001b[49m\u001b[43m(\u001b[49m\u001b[43mprotein_id\u001b[49m\u001b[43m,\u001b[49m\u001b[43m \u001b[49m\u001b[43mline\u001b[49m\u001b[43m)\u001b[49m\n\u001b[1;32m      7\u001b[0m         \u001b[38;5;28;01mif\u001b[39;00m match \u001b[38;5;129;01mis\u001b[39;00m \u001b[38;5;129;01mnot\u001b[39;00m \u001b[38;5;28;01mNone\u001b[39;00m:\n\u001b[1;32m      8\u001b[0m             \u001b[38;5;28mprint\u001b[39m(\u001b[38;5;124m'\u001b[39m\u001b[38;5;124mFound\u001b[39m\u001b[38;5;124m'\u001b[39m, protein_id, \u001b[38;5;124m'\u001b[39m\u001b[38;5;124min :\u001b[39m\u001b[38;5;124m'\u001b[39m, line)\n",
      "File \u001b[0;32m~/miniconda3/envs/conda_ucl_base/lib/python3.12/re/__init__.py:177\u001b[0m, in \u001b[0;36msearch\u001b[0;34m(pattern, string, flags)\u001b[0m\n\u001b[1;32m    174\u001b[0m \u001b[38;5;28;01mdef\u001b[39;00m \u001b[38;5;21msearch\u001b[39m(pattern, string, flags\u001b[38;5;241m=\u001b[39m\u001b[38;5;241m0\u001b[39m):\n\u001b[1;32m    175\u001b[0m \u001b[38;5;250m    \u001b[39m\u001b[38;5;124;03m\"\"\"Scan through string looking for a match to the pattern, returning\u001b[39;00m\n\u001b[1;32m    176\u001b[0m \u001b[38;5;124;03m    a Match object, or None if no match was found.\"\"\"\u001b[39;00m\n\u001b[0;32m--> 177\u001b[0m     \u001b[38;5;28;01mreturn\u001b[39;00m \u001b[43m_compile\u001b[49m\u001b[43m(\u001b[49m\u001b[43mpattern\u001b[49m\u001b[43m,\u001b[49m\u001b[43m \u001b[49m\u001b[43mflags\u001b[49m\u001b[43m)\u001b[49m\u001b[38;5;241;43m.\u001b[39;49m\u001b[43msearch\u001b[49m\u001b[43m(\u001b[49m\u001b[43mstring\u001b[49m\u001b[43m)\u001b[49m\n",
      "\u001b[0;31mKeyboardInterrupt\u001b[0m: "
     ]
    }
   ],
   "source": [
    "def get_id_from_fasta():\n",
    "    with open(fasta_file, 'r') as input_file:\n",
    "        for line_number, line in enumerate(input_file):\n",
    "            if line[0] == \">\":\n",
    "                if line_number > 1000000:  # line_number starts at 0.\n",
    "                    break\n",
    "                #print(line)\n",
    "                match = re.search(\"UniRef100_([a-zA-Z0-9-]*) \", line)\n",
    "                if match is not None:\n",
    "                    id = match.group(1)\n",
    "                    print('Found', id, 'in', line)\n",
    "                    find_interpro(id)\n",
    "                #else:\n",
    "                #    print('No id in :', line)\n",
    "get_id_from_fasta()"
   ]
  }
 ],
 "metadata": {
  "kernelspec": {
   "display_name": "conda_ucl_base",
   "language": "python",
   "name": "python3"
  },
  "language_info": {
   "codemirror_mode": {
    "name": "ipython",
    "version": 3
   },
   "file_extension": ".py",
   "mimetype": "text/x-python",
   "name": "python",
   "nbconvert_exporter": "python",
   "pygments_lexer": "ipython3",
   "version": "3.12.3"
  }
 },
 "nbformat": 4,
 "nbformat_minor": 2
}
