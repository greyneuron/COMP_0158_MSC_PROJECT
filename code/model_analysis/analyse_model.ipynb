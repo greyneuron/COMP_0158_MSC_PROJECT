{
 "cells": [
  {
   "cell_type": "code",
   "execution_count": 1,
   "metadata": {},
   "outputs": [],
   "source": [
    "import gensim\n",
    "import logging\n",
    "import itertools\n",
    "import math\n",
    "import glob\n",
    "import numpy as np\n",
    "from gensim.models import Word2Vec\n",
    "import duckdb\n",
    "import re\n",
    "import os"
   ]
  },
  {
   "cell_type": "code",
   "execution_count": 2,
   "metadata": {},
   "outputs": [],
   "source": [
    "db_string = \"/Users/patrick/dev/ucl/comp0158_mscproject/database/w2v_20240731_test.db\""
   ]
  },
  {
   "cell_type": "markdown",
   "metadata": {},
   "source": [
    "#### Create NUMPY Distance Matrix"
   ]
  },
  {
   "cell_type": "code",
   "execution_count": 3,
   "metadata": {},
   "outputs": [
    {
     "name": "stderr",
     "output_type": "stream",
     "text": [
      "<>:5: SyntaxWarning: invalid escape sequence '\\/'\n",
      "<>:5: SyntaxWarning: invalid escape sequence '\\/'\n",
      "/var/folders/kp/bqnb4b7n4ng50xtbznpbx7xh0000gn/T/ipykernel_46940/2440657872.py:5: SyntaxWarning: invalid escape sequence '\\/'\n",
      "  model_id_search  = re.search(\"\\/(w2v_.*)\\.model\", model)\n"
     ]
    }
   ],
   "source": [
    "# Takes a model and loops through a list of pfam ids and outputs a npy file\n",
    "\n",
    "def calculate_distances_numpy(model, output_folder):\n",
    "    \n",
    "    model_id_search  = re.search(\"\\/(w2v_.*)\\.model\", model)\n",
    "    model_id         = model_id_search.group(1)\n",
    "    \n",
    "    # get pfam ids - could make this query more complex at some point\n",
    "    pfam_ids = []\n",
    "    con         = duckdb.connect(database=db_string)           \n",
    "    \n",
    "    missing_pfams_file = output_folder+model_id+\"_missing_pfams.txt\"\n",
    "    of = open(missing_pfams_file, \"w\")\n",
    "    \n",
    "    #\n",
    "    # First try with eukaryotic thatI have extracted\n",
    "    #\n",
    "    results     = con.execute(\"SELECT COUNTER, PFAM_ID FROM W2V_PFAM_E ORDER BY COUNTER \").fetchall()\n",
    "    \n",
    "    con.close()\n",
    "    for res in results:\n",
    "        pfam_ids.append(res[1])\n",
    "    \n",
    "    # load the model\n",
    "    model = Word2Vec.load(model)\n",
    "\n",
    "    # calculate matrix size and initialise\n",
    "    num_entries = len(pfam_ids)\n",
    "    distance_matrix = np.zeros((num_entries, num_entries))\n",
    "    \n",
    "    # create empty distance matrix\n",
    "    print(f\"Calculating distances for {num_entries} pfam ids under model {model_id}\")\n",
    "    error_count = 0\n",
    "    success_count = 0\n",
    "    for i in range(num_entries):\n",
    "        for j in range(i+1, num_entries):\n",
    "            pfam_1 = pfam_ids[i]\n",
    "            pfam_2 = pfam_ids[j]\n",
    "            try:\n",
    "                v1 = model.wv[pfam_1]\n",
    "                v2 = model.wv[pfam_2]\n",
    "                distance = np.linalg.norm(v1 - v2)\n",
    "                distance_matrix[i][j] = distance\n",
    "                success_count +=1\n",
    "            except Exception as e: # a bit convoluted, but want to print out the missing pfam\n",
    "                #print(f\"Exception calculating {pfam_1} to {pfam_2} : {e.args[0]}\")\n",
    "                missing = re.search(\"Key '(.*)' not\", e.args[0] )\n",
    "                #print(missing.group(1))\n",
    "                of.write(missing.group(1) + '\\n')\n",
    "                error_count +=1\n",
    "                continue\n",
    "    # close the output file\n",
    "    of.close()\n",
    "    output_name = output_folder+model_id+\"_dist\"\n",
    "    np.save(output_name, distance_matrix)\n",
    "    print(f\"Distances complete for model {model_id}. success: {success_count} fail: {error_count} output: {output_name}.npy\")\n"
   ]
  },
  {
   "cell_type": "code",
   "execution_count": 4,
   "metadata": {},
   "outputs": [
    {
     "name": "stdout",
     "output_type": "stream",
     "text": [
      "Calculating distances for 15577 pfam ids under model w2v_20240810_v5_w2\n"
     ]
    },
    {
     "name": "stderr",
     "output_type": "stream",
     "text": [
      "/var/folders/kp/bqnb4b7n4ng50xtbznpbx7xh0000gn/T/ipykernel_46940/2440657872.py:5: SyntaxWarning: invalid escape sequence '\\/'\n",
      "  model_id_search  = re.search(\"\\/(w2v_.*)\\.model\", model)\n"
     ]
    },
    {
     "ename": "KeyboardInterrupt",
     "evalue": "",
     "output_type": "error",
     "traceback": [
      "\u001b[0;31m---------------------------------------------------------------------------\u001b[0m",
      "\u001b[0;31mKeyboardInterrupt\u001b[0m                         Traceback (most recent call last)",
      "Cell \u001b[0;32mIn[4], line 4\u001b[0m\n\u001b[1;32m      1\u001b[0m model           \u001b[38;5;241m=\u001b[39m \u001b[38;5;124m\"\u001b[39m\u001b[38;5;124m/Users/patrick/dev/ucl/comp0158_mscproject/data/models/w2v_20240810_v5_w2.model\u001b[39m\u001b[38;5;124m\"\u001b[39m\n\u001b[1;32m      2\u001b[0m output_folder   \u001b[38;5;241m=\u001b[39m \u001b[38;5;124m\"\u001b[39m\u001b[38;5;124m/Users/patrick/dev/ucl/comp0158_mscproject/data/analysis/\u001b[39m\u001b[38;5;124m\"\u001b[39m\n\u001b[0;32m----> 4\u001b[0m \u001b[43mcalculate_distances_numpy\u001b[49m\u001b[43m(\u001b[49m\u001b[43mmodel\u001b[49m\u001b[43m,\u001b[49m\u001b[43m \u001b[49m\u001b[43moutput_folder\u001b[49m\u001b[43m)\u001b[49m\n",
      "Cell \u001b[0;32mIn[3], line 44\u001b[0m, in \u001b[0;36mcalculate_distances_numpy\u001b[0;34m(model, output_folder)\u001b[0m\n\u001b[1;32m     42\u001b[0m     distance \u001b[38;5;241m=\u001b[39m np\u001b[38;5;241m.\u001b[39mlinalg\u001b[38;5;241m.\u001b[39mnorm(v1 \u001b[38;5;241m-\u001b[39m v2)\n\u001b[1;32m     43\u001b[0m     distance_matrix[i][j] \u001b[38;5;241m=\u001b[39m distance\n\u001b[0;32m---> 44\u001b[0m     success_count \u001b[38;5;241m+\u001b[39m\u001b[38;5;241m=\u001b[39m\u001b[38;5;241m1\u001b[39m\n\u001b[1;32m     45\u001b[0m \u001b[38;5;28;01mexcept\u001b[39;00m \u001b[38;5;167;01mException\u001b[39;00m \u001b[38;5;28;01mas\u001b[39;00m e: \u001b[38;5;66;03m# a bit convoluted, but want to print out the missing pfam\u001b[39;00m\n\u001b[1;32m     46\u001b[0m     \u001b[38;5;66;03m#print(f\"Exception calculating {pfam_1} to {pfam_2} : {e.args[0]}\")\u001b[39;00m\n\u001b[1;32m     47\u001b[0m     missing \u001b[38;5;241m=\u001b[39m re\u001b[38;5;241m.\u001b[39msearch(\u001b[38;5;124m\"\u001b[39m\u001b[38;5;124mKey \u001b[39m\u001b[38;5;124m'\u001b[39m\u001b[38;5;124m(.*)\u001b[39m\u001b[38;5;124m'\u001b[39m\u001b[38;5;124m not\u001b[39m\u001b[38;5;124m\"\u001b[39m, e\u001b[38;5;241m.\u001b[39margs[\u001b[38;5;241m0\u001b[39m] )\n",
      "\u001b[0;31mKeyboardInterrupt\u001b[0m: "
     ]
    }
   ],
   "source": [
    "    \n",
    "model           = \"/Users/patrick/dev/ucl/comp0158_mscproject/data/models/w2v_20240810_v5_w2.model\"\n",
    "output_folder   = \"/Users/patrick/dev/ucl/comp0158_mscproject/data/analysis/\"\n",
    "\n",
    "calculate_distances_numpy(model, output_folder)"
   ]
  },
  {
   "cell_type": "markdown",
   "metadata": {},
   "source": [
    "## Scratchpad area"
   ]
  },
  {
   "cell_type": "code",
   "execution_count": 8,
   "metadata": {},
   "outputs": [
    {
     "name": "stdout",
     "output_type": "stream",
     "text": [
      "[-10.612822   -0.6756388   4.104623    0.3811658   0.3067643]\n"
     ]
    }
   ],
   "source": [
    "# check if a pfam entry is in a model\n",
    "model = Word2Vec.load(\"/Users/patrick/dev/ucl/comp0158_mscproject/data/models/w2v_20240810_v5_w5.model\")\n",
    "\n",
    "#pfam_id = 'PF19687'     # present in model\n",
    "#pfam_id = 'PF01257'    # not present in model - but shouldn't be\n",
    "#pfam_id = 'PF00424'     # not present in model - but should be\n",
    "pfam_id = 'PF14033'     # not present in model - but should be\n",
    "\n",
    "try:\n",
    "    print(model.wv[pfam_id])\n",
    "except Exception as e:\n",
    "    print(e)"
   ]
  },
  {
   "cell_type": "markdown",
   "metadata": {},
   "source": []
  },
  {
   "cell_type": "code",
   "execution_count": 11,
   "metadata": {},
   "outputs": [
    {
     "name": "stdout",
     "output_type": "stream",
     "text": [
      "type object 'Word2Vec' has no attribute 'load_word2vec_format'\n"
     ]
    }
   ],
   "source": [
    "from gensim import models\n",
    "\n",
    "model_file   = Word2Vec.load(\"/Users/patrick/dev/ucl/comp0158_mscproject/data/models/w2v_20240809_v5_w5.model\")\n",
    "\n",
    "pfam_id = 'PF19687'\n",
    "\n",
    "try:\n",
    "    #my_model = Word2Vec.load(model_file)\n",
    "    \n",
    "    my_model = models.Word2Vec.load_word2vec_format(model_file, binary=True)\n",
    "\n",
    "    print(my_model.wv[pfam_id])\n",
    "except Exception as e:\n",
    "    print(e)\n"
   ]
  },
  {
   "cell_type": "code",
   "execution_count": null,
   "metadata": {},
   "outputs": [],
   "source": []
  }
 ],
 "metadata": {
  "kernelspec": {
   "display_name": "conda_ucl_base",
   "language": "python",
   "name": "python3"
  },
  "language_info": {
   "codemirror_mode": {
    "name": "ipython",
    "version": 3
   },
   "file_extension": ".py",
   "mimetype": "text/x-python",
   "name": "python",
   "nbconvert_exporter": "python",
   "pygments_lexer": "ipython3",
   "version": "3.12.4"
  }
 },
 "nbformat": 4,
 "nbformat_minor": 2
}
