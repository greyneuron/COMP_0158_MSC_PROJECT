{
 "cells": [
  {
   "cell_type": "code",
   "execution_count": null,
   "metadata": {},
   "outputs": [],
   "source": [
    "from Bio import SeqIO\n",
    "import re\n",
    "import csv\n",
    "import duckdb\n",
    "from protein_db import ProteinDB\n",
    "pdb = ProteinDB()\n"
   ]
  },
  {
   "cell_type": "code",
   "execution_count": null,
   "metadata": {},
   "outputs": [],
   "source": [
    "import csv\n",
    "\n",
    "#\n",
    "# 2,588,170 lines in nodes.dump - took 27mins to load\n",
    "#\n",
    "nodes_file = \"/Users/patrick/dev/ucl/comp0158_mscproject/data/taxonomy/nodes.dmp\"\n",
    "\n",
    "con = duckdb.connect(database=ProteinDB.db_string)\n",
    "#con.execute(\"DROP TABLE TAX_NAME\")\n",
    "con.execute(\" \\\n",
    "    CREATE TABLE TAX_NODE (\\\n",
    "                TAX_ID VARCHAR,\\\n",
    "                PARENT_TAX_ID VARCHAR,\\\n",
    "                EMBL_CODE VARCHAR)\" \\\n",
    "                )\n",
    "\n",
    "with open(nodes_file, mode='r') as csv_file:\n",
    "    csv_reader = csv.reader(csv_file, delimiter='|')\n",
    "    line_count = 0\n",
    "    for row in csv_reader:\n",
    "        #print(f'{row[0]} : {row[1]} : {row[2]}')\n",
    "        id = row[0]\n",
    "        parent = row[1]\n",
    "        code = row[2]\n",
    "        \n",
    "        con.execute(\"INSERT INTO TAX_NODE (TAX_ID, PARENT_TAX_ID, EMBL_CODE) VALUES(?,?,?)\", (id, parent, code))\n",
    "        \n",
    "        line_count += 1\n",
    "        if (line_count % 10000 == 0):\n",
    "            print(f'Processed {line_count} lines.')\n",
    "con.close()"
   ]
  },
  {
   "cell_type": "code",
   "execution_count": null,
   "metadata": {},
   "outputs": [],
   "source": [
    "con = duckdb.connect(database=ProteinDB.db_string)\n",
    "con.execute(\"CREATE INDEX TN_TXIDX ON TAX_NODE(TAX_ID)\")\n",
    "con.close()"
   ]
  },
  {
   "cell_type": "code",
   "execution_count": null,
   "metadata": {},
   "outputs": [],
   "source": [
    "con = duckdb.connect(database=ProteinDB.db_string)\n",
    "nodes = con.execute(\"SELECT * FROM TAX_NODE\").fetchall()\n",
    "for i in range(10):\n",
    "    print(nodes[i])\n",
    "con.close()\n"
   ]
  },
  {
   "cell_type": "code",
   "execution_count": null,
   "metadata": {},
   "outputs": [],
   "source": [
    "con = duckdb.connect(database=ProteinDB.db_string)\n",
    "\n",
    "#specific_id = '2759' # eukaryotic\n",
    "specific_id = '2182604' # eukaryotic\n",
    "#specific_id = '1872626'\n",
    "\n",
    "print('Search for:', specific_id)\n",
    "\n",
    "cat_species_result = con.execute(\"SELECT SPECIES_ID, CAT_ID FROM TAX_CAT WHERE SPECIES_ID = ?\", [specific_id] ).fetchall()\n",
    "cat_cat_result = con.execute(\"SELECT SPECIES_ID, CAT_ID, TYPE FROM TAX_CAT WHERE CAT_ID = ?\", [specific_id] ).fetchall()\n",
    "name_result = con.execute(\"SELECT NAME, UNIQUE_NAME, NAME_CLASS FROM TAX_NAME WHERE TAX_ID = ? AND UNIQUE_NAME='scientific name'\", [specific_id] ).fetchall()\n",
    "node_name = '\\t'+specific_id+'\\t'\n",
    "node_result = con.execute(\"SELECT TAX_ID, PARENT_TAX_ID, EMBL_CODE FROM TAX_NODE WHERE PARENT_TAX_ID = ?\", [node_name]).fetchall()\n",
    "\n",
    "print('cat by species:\\t',cat_species_result)\n",
    "print('cat by cat:\\t',cat_cat_result)\n",
    "print('name by cat:\\t',name_result)\n",
    "print('node by parent:\\t',node_result)\n",
    "con.close()"
   ]
  },
  {
   "cell_type": "code",
   "execution_count": null,
   "metadata": {},
   "outputs": [],
   "source": [
    "con = duckdb.connect(database=ProteinDB.db_string)\n",
    "\n",
    "species_result = con.execute(\"SELECT DISTINCT SPECIES_ID FROM TAX_CAT WHERE TYPE='E' ORDER BY SPECIES_ID\" ).fetchall()\n",
    "cat_result = con.execute(\"SELECT DISTINCT CAT_ID FROM TAX_CAT WHERE TYPE='E' ORDER BY CAT_ID\").fetchall()\n",
    "\n",
    "print('species:')\n",
    "for i in range(10):\n",
    "    species_id = species_result[i]\n",
    "    species_name_result = con.execute(\"SELECT NAME FROM TAX_NAME WHERE TAX_ID = ?\", species_id).fetchall()\n",
    "    print(species_id, len(species_name_result), ':', species_name_result)\n",
    "\n",
    "print('\\n')\n",
    "\n",
    "print('categories:')    \n",
    "for i in range(10):\n",
    "    cat_id = cat_result[i]\n",
    "    cat_name_result = con.execute(\"SELECT NAME FROM TAX_NAME WHERE TAX_ID = ?\", cat_id).fetchall()\n",
    "    print(cat_result[i], ':', len(cat_name_result), ':', cat_name_result)\n",
    "\n"
   ]
  }
 ],
 "metadata": {
  "kernelspec": {
   "display_name": "conda_ucl_base",
   "language": "python",
   "name": "python3"
  },
  "language_info": {
   "codemirror_mode": {
    "name": "ipython",
    "version": 3
   },
   "file_extension": ".py",
   "mimetype": "text/x-python",
   "name": "python",
   "nbconvert_exporter": "python",
   "pygments_lexer": "ipython3",
   "version": "3.1.-1"
  }
 },
 "nbformat": 4,
 "nbformat_minor": 2
}
