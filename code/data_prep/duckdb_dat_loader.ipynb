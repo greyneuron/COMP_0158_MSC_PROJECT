{
 "cells": [
  {
   "cell_type": "markdown",
   "metadata": {},
   "source": [
    "### Overview\n",
    "\n",
    "Tested again on July 31st and August 1st\n",
    "\n",
    "\n",
    "This notebook contains various scripts to load data into tables on a local DuckDB database. <br>\n",
    "- proteins are loaded into W2V_PROTEIN\n",
    "- pfam entries are loaded into W2V_TOKEN\n",
    "- disorder regions are also loaded into W2V_TOKEN\n",
    "\n",
    "The tables are created at the time the data is loaded - so see the appropariate cells for the table definition.\n",
    "\n",
    "Indexes are applied after the data is loaded.\n",
    "\n",
    "\n",
    "DuckDB is very easy to install on a mac and can load tab-delimited files extremely quickly.\n",
    "To recreate this environment, you just need to install DuckDB and then set the db_string at the top of this file\n",
    "to the location where you wish the database file to be stored\n"
   ]
  },
  {
   "cell_type": "markdown",
   "metadata": {},
   "source": [
    "### SETUP AND TEST"
   ]
  },
  {
   "cell_type": "code",
   "execution_count": 1,
   "metadata": {},
   "outputs": [],
   "source": [
    "import duckdb\n",
    "\n",
    "#\n",
    "# TODO - SET THIS STRING TO WHERE YOU WANT THE DB TO STORE ITS DATA\n",
    "#\n",
    "db_string = \"/Users/patrick/dev/ucl/comp0158_mscproject/database/w2v_20240731_test.db\""
   ]
  },
  {
   "cell_type": "markdown",
   "metadata": {},
   "source": [
    "Test the DB works OK"
   ]
  },
  {
   "cell_type": "code",
   "execution_count": 3,
   "metadata": {},
   "outputs": [],
   "source": [
    "# CREATE A TABLE\n",
    "#con = duckdb.connect(database=':memory:')\n",
    "con = duckdb.connect(database=db_string)  \n",
    "duckdb.sql(\"\\\n",
    "    CREATE TABLE TEST (\\\n",
    "        ID VARCHAR,\\\n",
    "    )\")\n",
    "con.close()"
   ]
  },
  {
   "cell_type": "code",
   "execution_count": 4,
   "metadata": {},
   "outputs": [
    {
     "name": "stdout",
     "output_type": "stream",
     "text": [
      "┌─────────────┬─────────────┬─────────┬─────────┬─────────┬─────────┐\n",
      "│ column_name │ column_type │  null   │   key   │ default │  extra  │\n",
      "│   varchar   │   varchar   │ varchar │ varchar │ varchar │ varchar │\n",
      "├─────────────┼─────────────┼─────────┼─────────┼─────────┼─────────┤\n",
      "│ ID          │ VARCHAR     │ YES     │ NULL    │ NULL    │ NULL    │\n",
      "└─────────────┴─────────────┴─────────┴─────────┴─────────┴─────────┘\n",
      "\n"
     ]
    }
   ],
   "source": [
    "# DESCRIBE\n",
    "con = duckdb.connect(database=db_string)\n",
    "res = duckdb.sql(\"DESCRIBE TEST\")\n",
    "print(res)\n",
    "con.close()"
   ]
  },
  {
   "cell_type": "code",
   "execution_count": 17,
   "metadata": {},
   "outputs": [],
   "source": [
    "# DROP\n",
    "con = duckdb.connect(database=db_string)  \n",
    "duckdb.sql(\"DROP TABLE TEST\")\n",
    "con.close()"
   ]
  },
  {
   "cell_type": "markdown",
   "metadata": {},
   "source": [
    "### LOAD PROTEINS INTO W2V_PROTEIN"
   ]
  },
  {
   "cell_type": "code",
   "execution_count": null,
   "metadata": {},
   "outputs": [],
   "source": [
    "# load protein file into protein table\n",
    "# 20 July 2024 - This took 12.9s to load uniprotkb-2759_78494531.dat (78M proteins)\n",
    "# 31 July testing again to check code works\n",
    "con = duckdb.connect(database=db_string)           \n",
    "con.execute(\"CREATE TABLE W2V_PROTEIN AS SELECT * FROM read_csv_auto('/Volumes/My Passport/data/protein/dat/uniprotkb-2759_78494531.dat', columns={'uniprot_id' :'VARCHAR', 'start': 'USMALLINT', 'end': 'USMALLINT'})\")\n",
    "con.close()"
   ]
  },
  {
   "cell_type": "code",
   "execution_count": 11,
   "metadata": {},
   "outputs": [
    {
     "name": "stdout",
     "output_type": "stream",
     "text": [
      "[(78494529,)]\n"
     ]
    }
   ],
   "source": [
    "# This should output that there are 78,494,529 items\n",
    "con = duckdb.connect(database=db_string)           \n",
    "protein_count = con.execute(\"SELECT COUNT(*) FROM W2V_PROTEIN\").fetchall()\n",
    "print(protein_count)\n",
    "con.close()"
   ]
  },
  {
   "cell_type": "code",
   "execution_count": 9,
   "metadata": {},
   "outputs": [],
   "source": [
    "con = duckdb.connect(database=db_string)           \n",
    "#con.execute(\"DROP TABLE W2V_PROTEIN\")\n",
    "con.close()"
   ]
  },
  {
   "cell_type": "code",
   "execution_count": 12,
   "metadata": {},
   "outputs": [
    {
     "name": "stdout",
     "output_type": "stream",
     "text": [
      "index created\n"
     ]
    }
   ],
   "source": [
    "# create an index (after loading the data)\n",
    "con = duckdb.connect(database=db_string)   \n",
    "con.execute(\"CREATE INDEX UNIP_IDX ON W2V_PROTEIN(UNIPROT_ID)\")\n",
    "print('index created')\n",
    "con.close()"
   ]
  },
  {
   "cell_type": "code",
   "execution_count": 10,
   "metadata": {},
   "outputs": [
    {
     "name": "stdout",
     "output_type": "stream",
     "text": [
      "[('A0A010PZU8', 1, 1389)]\n"
     ]
    }
   ],
   "source": [
    "con = duckdb.connect(database=db_string)      \n",
    "\n",
    "# SELECT FROM LIST OF IDS - REALLY SLOW\n",
    "#list = ['A0A010R6E0', 'A0A010RP22']\n",
    "#entries = con.execute(\"SELECT * FROM PFAM_TOKEN WHERE column0 IN (SELECT UNNEST(?))\", [list]).fetchall()\n",
    "\n",
    "res = con.execute(\"SELECT * FROM PROTEIN WHERE ID = (?)\", ['A0A010PZU8']).fetchall()\n",
    "\n",
    "print(res)\n",
    "con.close()"
   ]
  },
  {
   "cell_type": "markdown",
   "metadata": {},
   "source": [
    "#### UniRef100 - All Proteins with Taxonomy"
   ]
  },
  {
   "cell_type": "code",
   "execution_count": 18,
   "metadata": {},
   "outputs": [],
   "source": [
    "# load protein file into protein table\n",
    "# 02 Aug 2024 - This took 3min 33s to load uniref100_tax_20240801.dat (408,368,587 proteins)\n",
    "con = duckdb.connect(database=db_string)           \n",
    "con.execute(\"CREATE TABLE W2V_PROTEIN_UNIREF_100_ALL_TAX AS SELECT * FROM read_csv_auto('/Volumes/My Passport/data/protein/dat/uniref100_tax_20240801.dat', columns={'uniprot_id' :'VARCHAR', 'start': 'USMALLINT', 'end': 'USMALLINT', 'tax_id' :'VARCHAR'})\")\n",
    "con.close()"
   ]
  },
  {
   "cell_type": "code",
   "execution_count": 19,
   "metadata": {},
   "outputs": [
    {
     "name": "stdout",
     "output_type": "stream",
     "text": [
      "[(408368587,)]\n"
     ]
    }
   ],
   "source": [
    "# This should output that there are 408,368,587 items\n",
    "con = duckdb.connect(database=db_string)           \n",
    "protein_count = con.execute(\"SELECT COUNT(*) FROM W2V_PROTEIN_UNIREF_100_ALL_TAX\").fetchall()\n",
    "print(protein_count)\n",
    "con.close()"
   ]
  },
  {
   "cell_type": "code",
   "execution_count": 20,
   "metadata": {},
   "outputs": [
    {
     "ename": "OutOfMemoryException",
     "evalue": "Out of Memory Error: failed to pin block of size 256.0 KiB (12.7 GiB/12.7 GiB used)",
     "output_type": "error",
     "traceback": [
      "\u001b[0;31m---------------------------------------------------------------------------\u001b[0m",
      "\u001b[0;31mOutOfMemoryException\u001b[0m                      Traceback (most recent call last)",
      "Cell \u001b[0;32mIn[20], line 3\u001b[0m\n\u001b[1;32m      1\u001b[0m \u001b[38;5;66;03m# create an index (after loading the data)\u001b[39;00m\n\u001b[1;32m      2\u001b[0m con \u001b[38;5;241m=\u001b[39m duckdb\u001b[38;5;241m.\u001b[39mconnect(database\u001b[38;5;241m=\u001b[39mdb_string)   \n\u001b[0;32m----> 3\u001b[0m \u001b[43mcon\u001b[49m\u001b[38;5;241;43m.\u001b[39;49m\u001b[43mexecute\u001b[49m\u001b[43m(\u001b[49m\u001b[38;5;124;43m\"\u001b[39;49m\u001b[38;5;124;43mCREATE INDEX UNIREF100_IDX ON W2V_PROTEIN_UNIREF_100_ALL_TAX(UNIPROT_ID)\u001b[39;49m\u001b[38;5;124;43m\"\u001b[39;49m\u001b[43m)\u001b[49m\n\u001b[1;32m      4\u001b[0m \u001b[38;5;28mprint\u001b[39m(\u001b[38;5;124m'\u001b[39m\u001b[38;5;124mindex created\u001b[39m\u001b[38;5;124m'\u001b[39m)\n\u001b[1;32m      5\u001b[0m con\u001b[38;5;241m.\u001b[39mclose()\n",
      "\u001b[0;31mOutOfMemoryException\u001b[0m: Out of Memory Error: failed to pin block of size 256.0 KiB (12.7 GiB/12.7 GiB used)"
     ]
    }
   ],
   "source": [
    "# create an index (after loading the data) - ran out of memory\n",
    "con = duckdb.connect(database=db_string)   \n",
    "con.execute(\"CREATE INDEX UNIREF100_IDX ON W2V_PROTEIN_UNIREF_100_ALL_TAX(UNIPROT_ID)\")\n",
    "print('index created')\n",
    "con.close()"
   ]
  },
  {
   "cell_type": "markdown",
   "metadata": {},
   "source": [
    "### LOAD PFAM TOKENS INTO W2V_TOKEN"
   ]
  },
  {
   "cell_type": "code",
   "execution_count": 14,
   "metadata": {},
   "outputs": [],
   "source": [
    "# July 20 2024 - Took 1m 55s to load 296,017,815 entries from a directory on a macbook\n",
    "# July 31 2024 - Restest took 3m 10s from an external drive attached to macbook\n",
    "con = duckdb.connect(database=db_string)\n",
    "\n",
    "con.execute(\"CREATE TABLE W2V_TOKEN AS SELECT * FROM read_csv_auto('/Volumes/My Passport/data/pfam/protein2ipr_pfam_20240715.dat', columns={'uniprot_id' :'VARCHAR', 'type' : 'VARCHAR', 'token' : 'VARCHAR', 'start': 'USMALLINT', 'end': 'USMALLINT'})\")\n",
    "con.close()"
   ]
  },
  {
   "cell_type": "code",
   "execution_count": 15,
   "metadata": {},
   "outputs": [
    {
     "name": "stdout",
     "output_type": "stream",
     "text": [
      "[(296017815,)]\n"
     ]
    }
   ],
   "source": [
    "# with pfam only this shows 296,017,815 entries\n",
    "# after loading disorder as well this shows 377,274,915 (81,257,100 disorder entries)\n",
    "con = duckdb.connect(database=db_string)           \n",
    "protein_count = con.execute(\"SELECT COUNT(*) FROM W2V_TOKEN\").fetchall()\n",
    "print(protein_count)\n",
    "con.close()"
   ]
  },
  {
   "cell_type": "code",
   "execution_count": 16,
   "metadata": {},
   "outputs": [],
   "source": [
    "# create an index (after loading data)\n",
    "con = duckdb.connect(database=db_string)  \n",
    "res = con.execute(\"CREATE INDEX PF_TKN_IDX ON W2V_TOKEN(UNIPROT_ID)\")\n",
    "con.close()"
   ]
  },
  {
   "cell_type": "markdown",
   "metadata": {},
   "source": [
    " ### LOAD DISORDER ITEMS INTO W2V_TOKEN"
   ]
  },
  {
   "cell_type": "code",
   "execution_count": 18,
   "metadata": {},
   "outputs": [],
   "source": [
    "# Load disorder entries\n",
    "# First run : July 19\n",
    "# Retest    : August 1st (on Macbook - took 2mn 25s)\n",
    "con = duckdb.connect(database=db_string) \n",
    "con.execute(\"INSERT INTO W2V_TOKEN SELECT * FROM read_csv_auto('/Volumes/My Passport/data/disorder/dat/disordered_tokens_20240719.dat')\")\n",
    "con.close()"
   ]
  },
  {
   "cell_type": "code",
   "execution_count": 20,
   "metadata": {},
   "outputs": [
    {
     "name": "stdout",
     "output_type": "stream",
     "text": [
      "[(377274915,)]\n"
     ]
    }
   ],
   "source": [
    "# with pfam only this shows 296,017,815 entries\n",
    "# after loading disorder as well this shows 377,274,915\n",
    "con = duckdb.connect(database=db_string)           \n",
    "token_count = con.execute(\"SELECT COUNT(*) FROM W2V_TOKEN\").fetchall()\n",
    "print(token_count)\n",
    "con.close()"
   ]
  },
  {
   "cell_type": "code",
   "execution_count": 22,
   "metadata": {},
   "outputs": [
    {
     "name": "stdout",
     "output_type": "stream",
     "text": [
      "[('A0A010PZU8', 'PFAM', 'PF00400', 865, 900), ('A0A010PZU8', 'PFAM', 'PF00400', 928, 955), ('A0A010PZU8', 'PFAM', 'PF00400', 960, 998), ('A0A010PZU8', 'PFAM', 'PF00400', 1017, 1040), ('A0A010PZU8', 'PFAM', 'PF00400', 1078, 1108), ('A0A010PZU8', 'PFAM', 'PF00400', 1233, 1260), ('A0A010PZU8', 'PFAM', 'PF05729', 358, 479), ('A0A010PZU8', 'PFAM', 'PF17100', 152, 254), ('A0A010PZU8', 'DISORDER', 'Consensus Disorder Prediction', 1, 30)]\n"
     ]
    }
   ],
   "source": [
    "# test that W2V_TOKEN has all pfam and disorder entries\n",
    "con = duckdb.connect(database=db_string)           \n",
    "tokens = con.execute(\"SELECT * FROM W2V_TOKEN WHERE UNIPROT_ID=(?)\", ['A0A010PZU8']).fetchall()\n",
    "print(tokens)\n",
    "con.close()"
   ]
  },
  {
   "cell_type": "markdown",
   "metadata": {},
   "source": [
    "### LOAD TAXONOMY INFO"
   ]
  },
  {
   "cell_type": "markdown",
   "metadata": {},
   "source": [
    "#### Names"
   ]
  },
  {
   "cell_type": "code",
   "execution_count": 4,
   "metadata": {},
   "outputs": [],
   "source": [
    "# see the data-preparation folder for a shell script that produces the .dat file loaded here\n",
    "con = duckdb.connect(database=db_string)\n",
    "con.execute(\"CREATE TABLE W2V_TAX_NAME AS SELECT * FROM read_csv_auto('/Volumes/My Passport/data/taxonomy/dat/scientific_names_20240802.dat', columns={'tax_id' :'VARCHAR', 'name' : 'VARCHAR'})\")\n",
    "con.close()"
   ]
  },
  {
   "cell_type": "code",
   "execution_count": 5,
   "metadata": {},
   "outputs": [
    {
     "name": "stdout",
     "output_type": "stream",
     "text": [
      "[(2588170,)]\n"
     ]
    }
   ],
   "source": [
    "# count  - should have 2,588,170 entries\n",
    "con = duckdb.connect(database=db_string)           \n",
    "token_count = con.execute(\"SELECT COUNT(*) FROM W2V_TAX_NAME\").fetchall()\n",
    "print(token_count)\n",
    "con.close()"
   ]
  },
  {
   "cell_type": "code",
   "execution_count": 10,
   "metadata": {},
   "outputs": [],
   "source": [
    "# create an index (after loading data)\n",
    "con = duckdb.connect(database=db_string)  \n",
    "res = con.execute(\"CREATE INDEX TAX_NM_IDX ON W2V_TAX_NAME(TAX_ID)\")\n",
    "con.close()"
   ]
  },
  {
   "cell_type": "markdown",
   "metadata": {},
   "source": [
    "#### Categories"
   ]
  },
  {
   "cell_type": "code",
   "execution_count": 7,
   "metadata": {},
   "outputs": [],
   "source": [
    "# see the data-preparation folder for a shell script that produces the .dat file loaded here\n",
    "con = duckdb.connect(database=db_string)\n",
    "con.execute(\"CREATE TABLE W2V_TAX_CAT AS SELECT * FROM read_csv_auto('/Volumes/My Passport/data/taxonomy/dat/categories_20240802.dat', columns={'type' : 'VARCHAR', 'parent_id' :'VARCHAR', 'id' : 'VARCHAR'})\")\n",
    "con.close()"
   ]
  },
  {
   "cell_type": "code",
   "execution_count": 9,
   "metadata": {},
   "outputs": [
    {
     "name": "stdout",
     "output_type": "stream",
     "text": [
      "[(1567316,)]\n"
     ]
    }
   ],
   "source": [
    "# count  - should have 1,567,316 entries\n",
    "con = duckdb.connect(database=db_string)           \n",
    "token_count = con.execute(\"SELECT COUNT(*) FROM W2V_TAX_CAT\").fetchall()\n",
    "print(token_count)\n",
    "con.close()"
   ]
  },
  {
   "cell_type": "code",
   "execution_count": 11,
   "metadata": {},
   "outputs": [],
   "source": [
    "# create an index (after loading data)\n",
    "con = duckdb.connect(database=db_string)  \n",
    "res = con.execute(\"CREATE INDEX TAX_CT_IDX ON W2V_TAX_CAT(ID)\")\n",
    "con.close()"
   ]
  },
  {
   "cell_type": "code",
   "execution_count": 2,
   "metadata": {},
   "outputs": [
    {
     "name": "stdout",
     "output_type": "stream",
     "text": [
      "[('1310608', 'Acinetobacter sp. 1295259')]\n"
     ]
    }
   ],
   "source": [
    "# test that W2V_TOKEN has all pfam and disorder entries\n",
    "# 1445577   : Colletotrichum fioriniae PJ7\n",
    "# 10116     : Rattus norvegicus\n",
    "con = duckdb.connect(database=db_string)           \n",
    "tokens = con.execute(\"SELECT * FROM W2V_TAX_NAME WHERE TAX_ID=(?)\", ['1310608']).fetchall()\n",
    "print(tokens)\n",
    "con.close()"
   ]
  },
  {
   "cell_type": "markdown",
   "metadata": {},
   "source": [
    "### UTILITIES"
   ]
  },
  {
   "cell_type": "code",
   "execution_count": 37,
   "metadata": {},
   "outputs": [
    {
     "name": "stdout",
     "output_type": "stream",
     "text": [
      "W2V_PROTEIN [('A0A010PZJ8', 1, 494)]\n",
      "W2V_PROTEIN_UNIREF_100_ALL_TAX []\n"
     ]
    }
   ],
   "source": [
    "# test that W2V_TOKEN has all pfam and disorder entries\n",
    "# 1445577   : Colletotrichum fioriniae PJ7\n",
    "# 10116     : Rattus norvegicus\n",
    "con = duckdb.connect(database=db_string)\n",
    "\n",
    "\n",
    "\n",
    "# 1. Test - find a protein with pfam entries\n",
    "#    - Both of these work\n",
    "#protein_id = \"A0A009GYB3\" # this is prob not eukaryotic\n",
    "protein_id = \"A0A010PZJ8\"\n",
    "\n",
    "#tokens = con.execute(\"SELECT * FROM W2V_TOKEN WHERE UNIPROT_ID = 'A0A009GYB3'\").fetchall()\n",
    "#tokens = con.execute(\"SELECT * FROM W2V_TOKEN WHERE UNIPROT_ID = (?)\", [protein_id] ).fetchall()\n",
    "\n",
    "# 2. Find that same protein in W2V_PROTEIN\n",
    "# doesn't work - possibly because the pfam entries are from all proteins whereas W2V_PROTEIN only\n",
    "# has TrEMBL Eukaryotic proteins\n",
    "#tokens = con.execute(\"SELECT * FROM W2V_PROTEIN WHERE UNIPROT_ID = 'A0A009GYB3'\").fetchall()\n",
    "tokens = con.execute(\"SELECT * FROM W2V_PROTEIN WHERE UNIPROT_ID = (?)\", [protein_id]).fetchall()\n",
    "print('W2V_PROTEIN', tokens)\n",
    "\n",
    "# doesn't work\n",
    "#tokens = con.execute(\"SELECT * FROM W2V_TOKEN WHERE UNIPROT_ID = (?)\", ['protein_id']).fetchall()\n",
    "\n",
    "# none of these work - is the protein A0A009GYB3 in UniRef??\n",
    "# tokens = con.execute(\"SELECT * FROM W2V_PROTEIN_UNIREF_100_ALL_TAX WHERE UNIPROT_ID = 'A0A009GYB3'\").fetchall()\n",
    "tokens = con.execute(\"SELECT * FROM W2V_PROTEIN_UNIREF_100_ALL_TAX WHERE UNIPROT_ID = (?)\", ['protein_id']).fetchall()\n",
    "# tokens = con.execute(\"SELECT * FROM W2V_PROTEIN_UNIREF_100_ALL_TAX WHERE UNIPROT_ID = (?)\", [protein_id]).fetchall()\n",
    "# grep \"A0A009GYB3\" uniref100_tax_20240801.dat > returns nothing\n",
    "\n",
    "print('W2V_PROTEIN_UNIREF_100_ALL_TAX', tokens)\n",
    "con.close()"
   ]
  },
  {
   "cell_type": "code",
   "execution_count": 40,
   "metadata": {},
   "outputs": [
    {
     "name": "stdout",
     "output_type": "stream",
     "text": [
      "[('E', '710243', '1445577')]\n",
      "[('1445577', 'Colletotrichum fioriniae PJ7')]\n"
     ]
    }
   ],
   "source": [
    "# test that W2V_TOKEN has all pfam and disorder entries\n",
    "# 1445577   : Colletotrichum fioriniae PJ7\n",
    "# 10116     : Rattus norvegicus\n",
    "con = duckdb.connect(database=db_string)           \n",
    "tokens = con.execute(\"SELECT * FROM W2V_TAX_CAT WHERE ID=(?)\", ['1445577']).fetchall()\n",
    "print(tokens)\n",
    "tokens = con.execute(\"SELECT * FROM W2V_TAX_NAME WHERE TAX_ID=(?)\", ['1445577']).fetchall()\n",
    "print(tokens)\n",
    "con.close()"
   ]
  },
  {
   "cell_type": "markdown",
   "metadata": {},
   "source": [
    "#### Drop Table"
   ]
  },
  {
   "cell_type": "code",
   "execution_count": 16,
   "metadata": {},
   "outputs": [],
   "source": [
    "con = duckdb.connect(database=db_string)           \n",
    "con.execute(\"DROP TABLE PROTEIN\")\n",
    "con.close()"
   ]
  },
  {
   "cell_type": "markdown",
   "metadata": {},
   "source": [
    "#### Unlock database"
   ]
  },
  {
   "cell_type": "code",
   "execution_count": 21,
   "metadata": {},
   "outputs": [
    {
     "data": {
      "text/plain": [
       "False"
      ]
     },
     "execution_count": 21,
     "metadata": {},
     "output_type": "execute_result"
    },
    {
     "ename": "",
     "evalue": "",
     "output_type": "error",
     "traceback": [
      "\u001b[1;31mThe Kernel crashed while executing code in the current cell or a previous cell. \n",
      "\u001b[1;31mPlease review the code in the cell(s) to identify a possible cause of the failure. \n",
      "\u001b[1;31mClick <a href='https://aka.ms/vscodeJupyterKernelCrash'>here</a> for more info. \n",
      "\u001b[1;31mView Jupyter <a href='command:jupyter.viewOutput'>log</a> for further details."
     ]
    }
   ],
   "source": [
    "import duckdb\n",
    "import os\n",
    "\n",
    "# this doesn;t seem to work....\n",
    "def is_locked():\n",
    "    lock_file = f'{db_string}.lock'\n",
    "    return os.path.exists(lock_file)\n",
    "\n",
    "is_locked()\n",
    "\n",
    "# ... but this does from a command prompt\n",
    "#fuser database/proteins.db\n",
    "\n",
    "fuser /Users/patrick/dev/ucl/comp0158_mscproject/database/w2v_20240731_test.db\n",
    "\n",
    "# then kill -9 <id if there is one list>"
   ]
  }
 ],
 "metadata": {
  "kernelspec": {
   "display_name": "conda_ucl_base",
   "language": "python",
   "name": "python3"
  },
  "language_info": {
   "codemirror_mode": {
    "name": "ipython",
    "version": 3
   },
   "file_extension": ".py",
   "mimetype": "text/x-python",
   "name": "python",
   "nbconvert_exporter": "python",
   "pygments_lexer": "ipython3",
   "version": "3.12.4"
  }
 },
 "nbformat": 4,
 "nbformat_minor": 2
}
