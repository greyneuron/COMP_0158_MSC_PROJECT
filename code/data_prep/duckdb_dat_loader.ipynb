{
 "cells": [
  {
   "cell_type": "markdown",
   "metadata": {},
   "source": [
    "### Overview\n",
    "\n",
    "Tested again on July 31st and August 1st\n",
    "\n",
    "\n",
    "This notebook contains various scripts to load data into tables on a local DuckDB database. <br>\n",
    "- proteins are loaded into W2V_PROTEIN\n",
    "- pfam entries are loaded into W2V_TOKEN\n",
    "- disorder regions are also loaded into W2V_TOKEN\n",
    "\n",
    "The tables are created at the time the data is loaded - so see the appropariate cells for the table definition.\n",
    "\n",
    "Indexes are applied after the data is loaded.\n",
    "\n",
    "\n",
    "DuckDB is very easy to install on a mac and can load tab-delimited files extremely quickly.\n",
    "To recreate this environment, you just need to install DuckDB and then set the db_string at the top of this file\n",
    "to the location where you wish the database file to be stored\n"
   ]
  },
  {
   "cell_type": "markdown",
   "metadata": {},
   "source": [
    "### SETUP AND TEST"
   ]
  },
  {
   "cell_type": "code",
   "execution_count": 2,
   "metadata": {},
   "outputs": [],
   "source": [
    "import duckdb\n",
    "\n",
    "#\n",
    "# TODO - SET THIS STRING TO WHERE YOU WANT THE DB TO STORE ITS DATA\n",
    "#\n",
    "db_string = \"/Users/patrick/dev/ucl/comp0158_mscproject/database/w2v_20240731_test.db\""
   ]
  },
  {
   "cell_type": "markdown",
   "metadata": {},
   "source": [
    "Test the DB works OK"
   ]
  },
  {
   "cell_type": "code",
   "execution_count": 3,
   "metadata": {},
   "outputs": [],
   "source": [
    "# CREATE A TABLE\n",
    "#con = duckdb.connect(database=':memory:')\n",
    "con = duckdb.connect(database=db_string)  \n",
    "duckdb.sql(\"\\\n",
    "    CREATE TABLE TEST (\\\n",
    "        ID VARCHAR,\\\n",
    "    )\")\n",
    "con.close()"
   ]
  },
  {
   "cell_type": "code",
   "execution_count": 4,
   "metadata": {},
   "outputs": [
    {
     "name": "stdout",
     "output_type": "stream",
     "text": [
      "┌─────────────┬─────────────┬─────────┬─────────┬─────────┬─────────┐\n",
      "│ column_name │ column_type │  null   │   key   │ default │  extra  │\n",
      "│   varchar   │   varchar   │ varchar │ varchar │ varchar │ varchar │\n",
      "├─────────────┼─────────────┼─────────┼─────────┼─────────┼─────────┤\n",
      "│ ID          │ VARCHAR     │ YES     │ NULL    │ NULL    │ NULL    │\n",
      "└─────────────┴─────────────┴─────────┴─────────┴─────────┴─────────┘\n",
      "\n"
     ]
    }
   ],
   "source": [
    "# DESCRIBE\n",
    "con = duckdb.connect(database=db_string)\n",
    "res = duckdb.sql(\"DESCRIBE TEST\")\n",
    "print(res)\n",
    "con.close()"
   ]
  },
  {
   "cell_type": "code",
   "execution_count": 17,
   "metadata": {},
   "outputs": [],
   "source": [
    "# DROP\n",
    "con = duckdb.connect(database=db_string)  \n",
    "duckdb.sql(\"DROP TABLE TEST\")\n",
    "con.close()"
   ]
  },
  {
   "cell_type": "markdown",
   "metadata": {},
   "source": [
    "### LOAD PROTEINS INTO W2V_PROTEIN"
   ]
  },
  {
   "cell_type": "code",
   "execution_count": 10,
   "metadata": {},
   "outputs": [],
   "source": [
    "# load protein file into protein table\n",
    "# 20 July 2024 - This took 12.9s to load uniprotkb-2759_78494531.dat (78M proteins)\n",
    "# 31 July testing again to check code works\n",
    "con = duckdb.connect(database=db_string)           \n",
    "con.execute(\"CREATE TABLE W2V_PROTEIN AS SELECT * FROM read_csv_auto('/Volumes/My Passport/data/protein/uniprotkb-2759_78494531.dat', columns={'uniprot_id' :'VARCHAR', 'start': 'USMALLINT', 'end': 'USMALLINT'})\")\n",
    "con.close()"
   ]
  },
  {
   "cell_type": "code",
   "execution_count": 11,
   "metadata": {},
   "outputs": [
    {
     "name": "stdout",
     "output_type": "stream",
     "text": [
      "[(78494529,)]\n"
     ]
    }
   ],
   "source": [
    "# This should output that there are 78,494,529 items\n",
    "con = duckdb.connect(database=db_string)           \n",
    "protein_count = con.execute(\"SELECT COUNT(*) FROM W2V_PROTEIN\").fetchall()\n",
    "print(protein_count)\n",
    "con.close()"
   ]
  },
  {
   "cell_type": "code",
   "execution_count": 9,
   "metadata": {},
   "outputs": [],
   "source": [
    "con = duckdb.connect(database=db_string)           \n",
    "#con.execute(\"DROP TABLE W2V_PROTEIN\")\n",
    "con.close()"
   ]
  },
  {
   "cell_type": "code",
   "execution_count": 12,
   "metadata": {},
   "outputs": [
    {
     "name": "stdout",
     "output_type": "stream",
     "text": [
      "index created\n"
     ]
    }
   ],
   "source": [
    "# create an index (after loading the data)\n",
    "con = duckdb.connect(database=db_string)   \n",
    "con.execute(\"CREATE INDEX UNIP_IDX ON W2V_PROTEIN(UNIPROT_ID)\")\n",
    "print('index created')\n",
    "con.close()"
   ]
  },
  {
   "cell_type": "code",
   "execution_count": 10,
   "metadata": {},
   "outputs": [
    {
     "name": "stdout",
     "output_type": "stream",
     "text": [
      "[('A0A010PZU8', 1, 1389)]\n"
     ]
    }
   ],
   "source": [
    "con = duckdb.connect(database=db_string)      \n",
    "\n",
    "# SELECT FROM LIST OF IDS - REALLY SLOW\n",
    "#list = ['A0A010R6E0', 'A0A010RP22']\n",
    "#entries = con.execute(\"SELECT * FROM PFAM_TOKEN WHERE column0 IN (SELECT UNNEST(?))\", [list]).fetchall()\n",
    "\n",
    "res = con.execute(\"SELECT * FROM PROTEIN WHERE ID = (?)\", ['A0A010PZU8']).fetchall()\n",
    "\n",
    "print(res)\n",
    "con.close()"
   ]
  },
  {
   "cell_type": "markdown",
   "metadata": {},
   "source": [
    "### LOAD PFAM TOKENS INTO W2V_TOKEN"
   ]
  },
  {
   "cell_type": "code",
   "execution_count": 14,
   "metadata": {},
   "outputs": [],
   "source": [
    "# July 20 2024 - Took 1m 55s to load 296,017,815 entries from a directory on a macbook\n",
    "# July 31 2024 - Restest took 3m 10s from an external drive attached to macbook\n",
    "con = duckdb.connect(database=db_string)\n",
    "\n",
    "con.execute(\"CREATE TABLE W2V_TOKEN AS SELECT * FROM read_csv_auto('/Volumes/My Passport/data/pfam/protein2ipr_pfam_20240715.dat', columns={'uniprot_id' :'VARCHAR', 'type' : 'VARCHAR', 'token' : 'VARCHAR', 'start': 'USMALLINT', 'end': 'USMALLINT'})\")\n",
    "con.close()"
   ]
  },
  {
   "cell_type": "code",
   "execution_count": 15,
   "metadata": {},
   "outputs": [
    {
     "name": "stdout",
     "output_type": "stream",
     "text": [
      "[(296017815,)]\n"
     ]
    }
   ],
   "source": [
    "# with pfam only this shows 296,017,815 entries\n",
    "# after loading disorder as well this shows 377,274,915 (81,257,100 disorder entries)\n",
    "con = duckdb.connect(database=db_string)           \n",
    "protein_count = con.execute(\"SELECT COUNT(*) FROM W2V_TOKEN\").fetchall()\n",
    "print(protein_count)\n",
    "con.close()"
   ]
  },
  {
   "cell_type": "code",
   "execution_count": 16,
   "metadata": {},
   "outputs": [],
   "source": [
    "# create an index (after loading data)\n",
    "con = duckdb.connect(database=db_string)  \n",
    "res = con.execute(\"CREATE INDEX PF_TKN_IDX ON W2V_TOKEN(UNIPROT_ID)\")\n",
    "con.close()"
   ]
  },
  {
   "cell_type": "markdown",
   "metadata": {},
   "source": [
    " ### LOAD DISORDER ITEMS INTO W2V_TOKEN"
   ]
  },
  {
   "cell_type": "code",
   "execution_count": 18,
   "metadata": {},
   "outputs": [],
   "source": [
    "# Load disorder entries\n",
    "# First run : July 19\n",
    "# Retest    : August 1st (on Macbook - took 2mn 25s)\n",
    "con = duckdb.connect(database=db_string) \n",
    "con.execute(\"INSERT INTO W2V_TOKEN SELECT * FROM read_csv_auto('/Volumes/My Passport/data/disorder/dat/disordered_tokens_20240719.dat')\")\n",
    "con.close()"
   ]
  },
  {
   "cell_type": "code",
   "execution_count": 20,
   "metadata": {},
   "outputs": [
    {
     "name": "stdout",
     "output_type": "stream",
     "text": [
      "[(377274915,)]\n"
     ]
    }
   ],
   "source": [
    "# with pfam only this shows 296,017,815 entries\n",
    "# after loading disorder as well this shows 377,274,915\n",
    "con = duckdb.connect(database=db_string)           \n",
    "token_count = con.execute(\"SELECT COUNT(*) FROM W2V_TOKEN\").fetchall()\n",
    "print(token_count)\n",
    "con.close()"
   ]
  },
  {
   "cell_type": "code",
   "execution_count": 22,
   "metadata": {},
   "outputs": [
    {
     "name": "stdout",
     "output_type": "stream",
     "text": [
      "[('A0A010PZU8', 'PFAM', 'PF00400', 865, 900), ('A0A010PZU8', 'PFAM', 'PF00400', 928, 955), ('A0A010PZU8', 'PFAM', 'PF00400', 960, 998), ('A0A010PZU8', 'PFAM', 'PF00400', 1017, 1040), ('A0A010PZU8', 'PFAM', 'PF00400', 1078, 1108), ('A0A010PZU8', 'PFAM', 'PF00400', 1233, 1260), ('A0A010PZU8', 'PFAM', 'PF05729', 358, 479), ('A0A010PZU8', 'PFAM', 'PF17100', 152, 254), ('A0A010PZU8', 'DISORDER', 'Consensus Disorder Prediction', 1, 30)]\n"
     ]
    }
   ],
   "source": [
    "# test that W2V_TOKEN has all pfam and disorder entries\n",
    "con = duckdb.connect(database=db_string)           \n",
    "tokens = con.execute(\"SELECT * FROM W2V_TOKEN WHERE UNIPROT_ID=(?)\", ['A0A010PZU8']).fetchall()\n",
    "print(tokens)\n",
    "con.close()"
   ]
  },
  {
   "cell_type": "markdown",
   "metadata": {},
   "source": [
    "### LOAD TAXONOMY INFO"
   ]
  },
  {
   "cell_type": "markdown",
   "metadata": {},
   "source": [
    "#### Names"
   ]
  },
  {
   "cell_type": "code",
   "execution_count": 4,
   "metadata": {},
   "outputs": [],
   "source": [
    "# see the data-preparation folder for a shell script that produces the .dat file loaded here\n",
    "con = duckdb.connect(database=db_string)\n",
    "con.execute(\"CREATE TABLE W2V_TAX_NAME AS SELECT * FROM read_csv_auto('/Volumes/My Passport/data/taxonomy/dat/scientific_names_20240802.dat', columns={'tax_id' :'VARCHAR', 'name' : 'VARCHAR'})\")\n",
    "con.close()"
   ]
  },
  {
   "cell_type": "code",
   "execution_count": 5,
   "metadata": {},
   "outputs": [
    {
     "name": "stdout",
     "output_type": "stream",
     "text": [
      "[(2588170,)]\n"
     ]
    }
   ],
   "source": [
    "# count  - should have 2,588,170 entries\n",
    "con = duckdb.connect(database=db_string)           \n",
    "token_count = con.execute(\"SELECT COUNT(*) FROM W2V_TAX_NAME\").fetchall()\n",
    "print(token_count)\n",
    "con.close()"
   ]
  },
  {
   "cell_type": "markdown",
   "metadata": {},
   "source": [
    "### UTILITIES"
   ]
  },
  {
   "cell_type": "markdown",
   "metadata": {},
   "source": [
    "#### Drop Table"
   ]
  },
  {
   "cell_type": "code",
   "execution_count": 16,
   "metadata": {},
   "outputs": [],
   "source": [
    "con = duckdb.connect(database=db_string)           \n",
    "con.execute(\"DROP TABLE PROTEIN\")\n",
    "con.close()"
   ]
  },
  {
   "cell_type": "markdown",
   "metadata": {},
   "source": [
    "#### Unlock database"
   ]
  },
  {
   "cell_type": "code",
   "execution_count": 1,
   "metadata": {},
   "outputs": [
    {
     "data": {
      "text/plain": [
       "False"
      ]
     },
     "execution_count": 1,
     "metadata": {},
     "output_type": "execute_result"
    }
   ],
   "source": [
    "import duckdb\n",
    "import os\n",
    "db_path = \"/Users/patrick/dev/ucl/comp0158_mscproject/database/proteins.db\"\n",
    "\n",
    "def is_locked():\n",
    "    db_path = \"/Users/patrick/dev/ucl/comp0158_mscproject/database/proteins.db\"\n",
    "\n",
    "    lock_file = f'{db_path}.lock'\n",
    "    return os.path.exists(lock_file)\n",
    "\n",
    "is_locked()\n",
    "\n",
    "# this works from a command prompt\n",
    "#fuser database/proteins.db\n",
    "\n",
    "# then kill the id if there is one liset"
   ]
  }
 ],
 "metadata": {
  "kernelspec": {
   "display_name": "conda_ucl_base",
   "language": "python",
   "name": "python3"
  },
  "language_info": {
   "codemirror_mode": {
    "name": "ipython",
    "version": 3
   },
   "file_extension": ".py",
   "mimetype": "text/x-python",
   "name": "python",
   "nbconvert_exporter": "python",
   "pygments_lexer": "ipython3",
   "version": "3.12.4"
  }
 },
 "nbformat": 4,
 "nbformat_minor": 2
}
