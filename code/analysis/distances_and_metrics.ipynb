{
 "cells": [
  {
   "cell_type": "code",
   "execution_count": 2,
   "metadata": {},
   "outputs": [],
   "source": [
    "import gensim\n",
    "import logging\n",
    "import itertools\n",
    "import math\n",
    "import glob\n",
    "import numpy as np\n",
    "from gensim.models import Word2Vec\n",
    "import duckdb\n",
    "import re\n",
    "import os"
   ]
  },
  {
   "cell_type": "code",
   "execution_count": 3,
   "metadata": {},
   "outputs": [],
   "source": [
    "db_string = \"/Users/patrick/dev/ucl/comp0158_mscproject/database/w2v_20240731_test.db\""
   ]
  },
  {
   "cell_type": "markdown",
   "metadata": {},
   "source": [
    "### Output to dat file"
   ]
  },
  {
   "cell_type": "code",
   "execution_count": null,
   "metadata": {},
   "outputs": [],
   "source": [
    "#\n",
    "# Calcualtes distances between paris of pfam ids\n",
    "# Assumes pfam ids are in a database - but can esily be changed to work with a list\n",
    "# Outputs a dat file containin al distances:\n",
    "#\n",
    "# pfam_from | pfam_to | model_id |distance\n",
    "#\n",
    "def calculate_distances_to_dat(model, output_file, output_folder):\n",
    "    \n",
    "    model_id_search  = re.search(\"\\/(w2v_.*)\\.model\", model)\n",
    "    model_id         = model_id_search.group(1)\n",
    "    #print('Currrent model id for distance calculation:', model_id)\n",
    "    \n",
    "    if output_file is None:\n",
    "        output_file = output_folder+model_id+'_distances_e_.dat'\n",
    "    \n",
    "    # open a file to append output to\n",
    "    output      = open(output_file, \"a\")\n",
    "    \n",
    "    # get pfam ids - could make this query more complex at some point\n",
    "    pfam_ids = []\n",
    "    con         = duckdb.connect(database=db_string)           \n",
    "    results     = con.execute(\"SELECT COUNTER, PFAM_ID, STRIPPED_PFAM_ID FROM W2V_PFAM_E ORDER BY COUNTER \").fetchall()\n",
    "    con.close()\n",
    "    for res in results:\n",
    "        pfam_ids.append(res[1])\n",
    "    \n",
    "    # load the model\n",
    "    #print('loading model:', model)\n",
    "    model = Word2Vec.load(model)\n",
    "\n",
    "    # calculate distances\n",
    "    num_entries = len(pfam_ids)\n",
    "    print(f\"Calculating distances for {num_entries} pfam ids under model {model_id} output to {output_file}\")\n",
    "    error_count = 0\n",
    "    success_count = 0\n",
    "    for i in range(num_entries):\n",
    "        for j in range(i+1, num_entries):\n",
    "            pfam_1 = pfam_ids[i]\n",
    "            pfam_2 = pfam_ids[j]\n",
    "            try:\n",
    "                v1 = model.wv[pfam_1]\n",
    "                v2 = model.wv[pfam_2]\n",
    "                distance = np.linalg.norm(v1 - v2)\n",
    "                dist_line = \"|\".join([pfam_1, pfam_2, model_id, str(distance)])\n",
    "                #print(dist_line)\n",
    "                output.write(dist_line + '\\n')\n",
    "                success_count +=1\n",
    "            except Exception as e:\n",
    "                #print(f\"Exception calculating {pfam_1} to {pfam_2} {e}\")\n",
    "                error_count +=1\n",
    "                continue\n",
    "    # close the output file\n",
    "    print(f\"Distances complete for model {model_id}. success: {success_count} fail: {error_count}\")\n",
    "    output.close()  "
   ]
  },
  {
   "cell_type": "code",
   "execution_count": null,
   "metadata": {},
   "outputs": [],
   "source": [
    "#\n",
    "# parses a directory to build up sentences to create a model - done in evening Tues Aug 6th\n",
    "#\n",
    "\n",
    "models_dir    = \"/Users/patrick/dev/ucl/comp0158_mscproject/models/\"\n",
    "output_folder = \"/Users/patrick/dev/ucl/comp0158_mscproject/data/analysis/\"\n",
    "output_file   = \"/Users/patrick/dev/ucl/comp0158_mscproject/data/analysis/distances_all_models_20240806.dat\"\n",
    "\n",
    "def calc_dist_all_models(models_dir, output_file):\n",
    "    # find the files in the target directory\n",
    "    #print('Searching for corpi files in:', corpus_dir)\n",
    "    file_list = glob.glob(os.path.join(models_dir, '*.model'))\n",
    "    \n",
    "    # initialise\n",
    "    s = time.time()\n",
    "\n",
    "    # parse each corpus file to build up the sentences\n",
    "    for file_path in file_list:\n",
    "        #with open(file_path, 'r') as file:\n",
    "        print(f'calculating distances for model: {file_path}')\n",
    "        calculate_distances_to_dat(file_path, None, output_folder)\n",
    "            \n",
    "    # time check\n",
    "    e = time.time()\n",
    "    print(f\"Overall distance time {e - s}\" )\n",
    "    \n",
    "calc_dist_all_models(models_dir, output_file)"
   ]
  },
  {
   "cell_type": "markdown",
   "metadata": {},
   "source": [
    "#### Output to Numpy"
   ]
  },
  {
   "cell_type": "code",
   "execution_count": 39,
   "metadata": {},
   "outputs": [
    {
     "name": "stderr",
     "output_type": "stream",
     "text": [
      "<>:3: SyntaxWarning: invalid escape sequence '\\/'\n",
      "<>:3: SyntaxWarning: invalid escape sequence '\\/'\n",
      "/var/folders/kp/bqnb4b7n4ng50xtbznpbx7xh0000gn/T/ipykernel_16108/2503427598.py:3: SyntaxWarning: invalid escape sequence '\\/'\n",
      "  model_id_search  = re.search(\"\\/(w2v_.*)\\.model\", model)\n"
     ]
    }
   ],
   "source": [
    "def calculate_distances_numpy(model, output_folder):\n",
    "    \n",
    "    model_id_search  = re.search(\"\\/(w2v_.*)\\.model\", model)\n",
    "    model_id         = model_id_search.group(1)\n",
    "    \n",
    "    # get pfam ids - could make this query more complex at some point\n",
    "    pfam_ids = []\n",
    "    con         = duckdb.connect(database=db_string)           \n",
    "    #results     = con.execute(\"SELECT COUNTER, PFAM_ID, STRIPPED_PFAM_ID FROM W2V_PFAM_E ORDER BY COUNTER \").fetchall()\n",
    "    \n",
    "    of = open(\"missing_pfams\", \"w\")\n",
    "    #\n",
    "    # Want our encoding to only have those in Daniels list\n",
    "    #\n",
    "    results     = con.execute(\"SELECT COUNTER, PFAM_ID FROM W2V_EVO_PFAM ORDER BY COUNTER \").fetchall()\n",
    "    \n",
    "    con.close()\n",
    "    for res in results:\n",
    "        pfam_ids.append(res[1])\n",
    "    \n",
    "    # load the model\n",
    "    model = Word2Vec.load(model)\n",
    "\n",
    "    # calculate matrix size and initialise\n",
    "    num_entries = len(pfam_ids)\n",
    "    distance_matrix = np.zeros((num_entries, num_entries))\n",
    "    \n",
    "    # create empty distance matrix\n",
    "    print(f\"Calculating distances for {num_entries} pfam ids under model {model_id}\")\n",
    "    error_count = 0\n",
    "    success_count = 0\n",
    "    for i in range(num_entries):\n",
    "        for j in range(i+1, num_entries):\n",
    "            pfam_1 = pfam_ids[i]\n",
    "            pfam_2 = pfam_ids[j]\n",
    "            try:\n",
    "                v1 = model.wv[pfam_1]\n",
    "                v2 = model.wv[pfam_2]\n",
    "                distance = np.linalg.norm(v1 - v2)\n",
    "                distance_matrix[i][j] = distance\n",
    "                success_count +=1\n",
    "            except Exception as e: # a bit convoluted, but want to print out the missing pfam\n",
    "                #print(f\"Exception calculating {pfam_1} to {pfam_2} : {e.args[0]}\")\n",
    "                missing = re.search(\"Key '(.*)' not\", e.args[0] )\n",
    "                #print(missing.group(1))\n",
    "                of.write(missing.group(1) + '\\n')\n",
    "                error_count +=1\n",
    "                continue\n",
    "    # close the output file\n",
    "    of.close()\n",
    "    output_name = output_folder+model_id+\"_dist\"\n",
    "    np.save(output_name, distance_matrix)\n",
    "    print(f\"Distances complete for model {model_id}. success: {success_count} fail: {error_count} output: {output_name}.npy\")\n"
   ]
  },
  {
   "cell_type": "code",
   "execution_count": 40,
   "metadata": {},
   "outputs": [
    {
     "name": "stdout",
     "output_type": "stream",
     "text": [
      "Calculating distances for 20651 pfam ids under model w2v_20240805_vs10_w15\n"
     ]
    },
    {
     "name": "stderr",
     "output_type": "stream",
     "text": [
      "/var/folders/kp/bqnb4b7n4ng50xtbznpbx7xh0000gn/T/ipykernel_16108/2503427598.py:3: SyntaxWarning: invalid escape sequence '\\/'\n",
      "  model_id_search  = re.search(\"\\/(w2v_.*)\\.model\", model)\n"
     ]
    },
    {
     "ename": "KeyboardInterrupt",
     "evalue": "",
     "output_type": "error",
     "traceback": [
      "\u001b[0;31m---------------------------------------------------------------------------\u001b[0m",
      "\u001b[0;31mKeyboardInterrupt\u001b[0m                         Traceback (most recent call last)",
      "Cell \u001b[0;32mIn[40], line 6\u001b[0m\n\u001b[1;32m      3\u001b[0m model           \u001b[38;5;241m=\u001b[39m \u001b[38;5;124m\"\u001b[39m\u001b[38;5;124m/Users/patrick/dev/ucl/comp0158_mscproject/models/w2v_20240805_vs10_w15.model\u001b[39m\u001b[38;5;124m\"\u001b[39m\n\u001b[1;32m      4\u001b[0m output_folder   \u001b[38;5;241m=\u001b[39m \u001b[38;5;124m\"\u001b[39m\u001b[38;5;124m/Users/patrick/dev/ucl/comp0158_mscproject/data/analysis/\u001b[39m\u001b[38;5;124m\"\u001b[39m\n\u001b[0;32m----> 6\u001b[0m \u001b[43mcalculate_distances_numpy\u001b[49m\u001b[43m(\u001b[49m\u001b[43mmodel\u001b[49m\u001b[43m,\u001b[49m\u001b[43m \u001b[49m\u001b[43moutput_folder\u001b[49m\u001b[43m)\u001b[49m\n",
      "Cell \u001b[0;32mIn[39], line 37\u001b[0m, in \u001b[0;36mcalculate_distances_numpy\u001b[0;34m(model, output_folder)\u001b[0m\n\u001b[1;32m     35\u001b[0m pfam_2 \u001b[38;5;241m=\u001b[39m pfam_ids[j]\n\u001b[1;32m     36\u001b[0m \u001b[38;5;28;01mtry\u001b[39;00m:\n\u001b[0;32m---> 37\u001b[0m     v1 \u001b[38;5;241m=\u001b[39m \u001b[43mmodel\u001b[49m\u001b[38;5;241;43m.\u001b[39;49m\u001b[43mwv\u001b[49m\u001b[43m[\u001b[49m\u001b[43mpfam_1\u001b[49m\u001b[43m]\u001b[49m\n\u001b[1;32m     38\u001b[0m     v2 \u001b[38;5;241m=\u001b[39m model\u001b[38;5;241m.\u001b[39mwv[pfam_2]\n\u001b[1;32m     39\u001b[0m     distance \u001b[38;5;241m=\u001b[39m np\u001b[38;5;241m.\u001b[39mlinalg\u001b[38;5;241m.\u001b[39mnorm(v1 \u001b[38;5;241m-\u001b[39m v2)\n",
      "File \u001b[0;32m~/miniconda3/envs/conda_ucl_base/lib/python3.12/site-packages/gensim/models/keyedvectors.py:403\u001b[0m, in \u001b[0;36mKeyedVectors.__getitem__\u001b[0;34m(self, key_or_keys)\u001b[0m\n\u001b[1;32m    389\u001b[0m \u001b[38;5;250m\u001b[39m\u001b[38;5;124;03m\"\"\"Get vector representation of `key_or_keys`.\u001b[39;00m\n\u001b[1;32m    390\u001b[0m \n\u001b[1;32m    391\u001b[0m \u001b[38;5;124;03mParameters\u001b[39;00m\n\u001b[0;32m   (...)\u001b[0m\n\u001b[1;32m    400\u001b[0m \n\u001b[1;32m    401\u001b[0m \u001b[38;5;124;03m\"\"\"\u001b[39;00m\n\u001b[1;32m    402\u001b[0m \u001b[38;5;28;01mif\u001b[39;00m \u001b[38;5;28misinstance\u001b[39m(key_or_keys, _KEY_TYPES):\n\u001b[0;32m--> 403\u001b[0m     \u001b[38;5;28;01mreturn\u001b[39;00m \u001b[38;5;28;43mself\u001b[39;49m\u001b[38;5;241;43m.\u001b[39;49m\u001b[43mget_vector\u001b[49m\u001b[43m(\u001b[49m\u001b[43mkey_or_keys\u001b[49m\u001b[43m)\u001b[49m\n\u001b[1;32m    405\u001b[0m \u001b[38;5;28;01mreturn\u001b[39;00m vstack([\u001b[38;5;28mself\u001b[39m\u001b[38;5;241m.\u001b[39mget_vector(key) \u001b[38;5;28;01mfor\u001b[39;00m key \u001b[38;5;129;01min\u001b[39;00m key_or_keys])\n",
      "File \u001b[0;32m~/miniconda3/envs/conda_ucl_base/lib/python3.12/site-packages/gensim/models/keyedvectors.py:422\u001b[0m, in \u001b[0;36mKeyedVectors.get_vector\u001b[0;34m(self, key, norm)\u001b[0m\n\u001b[1;32m    419\u001b[0m     \u001b[38;5;28;01melse\u001b[39;00m:\n\u001b[1;32m    420\u001b[0m         \u001b[38;5;28;01mraise\u001b[39;00m \u001b[38;5;167;01mKeyError\u001b[39;00m(\u001b[38;5;124mf\u001b[39m\u001b[38;5;124m\"\u001b[39m\u001b[38;5;124mKey \u001b[39m\u001b[38;5;124m'\u001b[39m\u001b[38;5;132;01m{\u001b[39;00mkey\u001b[38;5;132;01m}\u001b[39;00m\u001b[38;5;124m'\u001b[39m\u001b[38;5;124m not present\u001b[39m\u001b[38;5;124m\"\u001b[39m)\n\u001b[0;32m--> 422\u001b[0m \u001b[38;5;28;01mdef\u001b[39;00m \u001b[38;5;21mget_vector\u001b[39m(\u001b[38;5;28mself\u001b[39m, key, norm\u001b[38;5;241m=\u001b[39m\u001b[38;5;28;01mFalse\u001b[39;00m):\n\u001b[1;32m    423\u001b[0m \u001b[38;5;250m    \u001b[39m\u001b[38;5;124;03m\"\"\"Get the key's vector, as a 1D numpy array.\u001b[39;00m\n\u001b[1;32m    424\u001b[0m \n\u001b[1;32m    425\u001b[0m \u001b[38;5;124;03m    Parameters\u001b[39;00m\n\u001b[0;32m   (...)\u001b[0m\n\u001b[1;32m    444\u001b[0m \n\u001b[1;32m    445\u001b[0m \u001b[38;5;124;03m    \"\"\"\u001b[39;00m\n\u001b[1;32m    446\u001b[0m     index \u001b[38;5;241m=\u001b[39m \u001b[38;5;28mself\u001b[39m\u001b[38;5;241m.\u001b[39mget_index(key)\n",
      "\u001b[0;31mKeyboardInterrupt\u001b[0m: "
     ]
    }
   ],
   "source": [
    "#model           = \"/Users/patrick/dev/ucl/comp0158_mscproject/models/w2v_20240805_vs10_w5.model\"\n",
    "#model           = \"/Users/patrick/dev/ucl/comp0158_mscproject/models/w2v_20240805_vs10_w10.model\"\n",
    "model           = \"/Users/patrick/dev/ucl/comp0158_mscproject/models/w2v_20240805_vs10_w15.model\"\n",
    "output_folder   = \"/Users/patrick/dev/ucl/comp0158_mscproject/data/analysis/\"\n",
    "\n",
    "calculate_distances_numpy(model, output_folder)"
   ]
  },
  {
   "cell_type": "markdown",
   "metadata": {},
   "source": [
    "#### Distance Comparison"
   ]
  },
  {
   "cell_type": "code",
   "execution_count": null,
   "metadata": {},
   "outputs": [],
   "source": []
  },
  {
   "cell_type": "markdown",
   "metadata": {},
   "source": [
    "## Scratchpad area"
   ]
  },
  {
   "cell_type": "code",
   "execution_count": null,
   "metadata": {},
   "outputs": [],
   "source": [
    "model = Word2Vec.load(\"/Users/patrick/dev/ucl/comp0158_mscproject/models/w2v_20240805_vs10_w5.model\")\n",
    "print(model.wv['PF19687'])"
   ]
  },
  {
   "cell_type": "code",
   "execution_count": 59,
   "metadata": {},
   "outputs": [
    {
     "name": "stdout",
     "output_type": "stream",
     "text": [
      "calculating distances for model: /Users/patrick/dev/ucl/comp0158_mscproject/models/w2v_20240806_vs20_w5.model\n",
      "[ 2.9066389   3.5860233   4.6226587  -0.963702    2.6453066  -1.3669956\n",
      "  6.3653183  -0.42857066  1.3111105   0.47835028  0.13663353 -0.29985735\n",
      " -1.3757349  -5.241645    0.57515144  5.6618195  -1.5268751   2.5389545\n",
      "  2.0167305  -0.819868  ]\n",
      "calculating distances for model: /Users/patrick/dev/ucl/comp0158_mscproject/models/w2v_20240806_vs5_w15.model\n",
      "[  0.85574126   5.801419   -10.04899     -1.3114487  -12.985388  ]\n",
      "calculating distances for model: /Users/patrick/dev/ucl/comp0158_mscproject/models/w2v_20240806_vs15_w20.model\n",
      "[ 1.9627786   3.7906158  -3.2945726  -3.7155714  -2.663767   -0.93325514\n",
      "  2.9249983   2.4891574   2.440626    2.0488322   4.792761   -4.138822\n",
      " -0.479754   -0.2977415  -1.2628495 ]\n",
      "calculating distances for model: /Users/patrick/dev/ucl/comp0158_mscproject/models/w2v_20240805_vs10_w10.model\n",
      "[-2.2945354  -5.3206587   1.2935404  -2.6940527   3.2355013   7.5603104\n",
      " -3.5395148   7.3943243   3.2826967  -0.72330314]\n",
      "calculating distances for model: /Users/patrick/dev/ucl/comp0158_mscproject/models/w2v_20240806_vs20_w20.model\n",
      "[ 3.0647538  -2.913943    2.0545459  -2.6371038   1.9076946  -1.4229369\n",
      "  6.915997    1.6749542  -0.1020483   0.52547604  0.7845414  -1.8988029\n",
      " -1.7255805   0.9862078  -5.414975    1.0498396  -1.2307914   2.690055\n",
      " -2.5598834   0.09014694]\n",
      "calculating distances for model: /Users/patrick/dev/ucl/comp0158_mscproject/models/w2v_20240806_vs15_w5.model\n",
      "[ 0.4122036   1.0917339  -5.297777    0.7753786  -1.2480692   1.6524417\n",
      " -3.9740207   3.1938612   5.457819   -0.63993293  3.701011   -6.020354\n",
      " -4.6514664   0.8652133  -3.178866  ]\n",
      "calculating distances for model: /Users/patrick/dev/ucl/comp0158_mscproject/models/w2v_20240806_vs5_w10.model\n",
      "[-6.742768  12.736134  -6.3865924  4.8286867  2.2624164]\n",
      "calculating distances for model: /Users/patrick/dev/ucl/comp0158_mscproject/models/w2v_20240806_vs5_w5.model\n",
      "[-7.758416  -0.6904877 -6.8820443  6.932471  10.538188 ]\n",
      "calculating distances for model: /Users/patrick/dev/ucl/comp0158_mscproject/models/w2v_20240805_vs10_w15.model\n",
      "[-6.3965664  2.0503109 -3.469512   1.7325568 -5.450032   5.2260976\n",
      " -1.2924281  1.1387105 -7.540313   3.018104 ]\n",
      "calculating distances for model: /Users/patrick/dev/ucl/comp0158_mscproject/models/w2v_20240806_vs20_w10.model\n",
      "[ 3.5058658  -1.0742488  -1.8373244  -4.2825775   5.1899843  -3.3754554\n",
      "  5.76682     3.578192   -0.14440262 -1.6785587  -0.34946385  1.2446262\n",
      " -2.1525059   0.24823649 -0.739867    1.4899752  -2.844524    3.4917927\n",
      " -2.03518     2.6984491 ]\n",
      "calculating distances for model: /Users/patrick/dev/ucl/comp0158_mscproject/models/w2v_20240805_vs10_w20.model\n",
      "[-9.953372    0.8558673   0.48674884  0.16747603 -0.8797701   7.147223\n",
      " -1.475954    3.350695   -2.2044697   4.5980935 ]\n",
      "calculating distances for model: /Users/patrick/dev/ucl/comp0158_mscproject/models/w2v_20240806_vs15_w10.model\n",
      "[ 3.2867467   0.9424204  -6.583746    2.7001364  -1.3353517   1.721804\n",
      " -2.0529175   2.974237   -4.07855    -3.2990718   0.24416904 -4.819074\n",
      " -3.9192479  -2.4225335  -0.87194264]\n",
      "calculating distances for model: /Users/patrick/dev/ucl/comp0158_mscproject/models/w2v_20240806_vs5_w20.model\n",
      "[-4.9917746 -5.708183  -1.8999734 -2.7164087 12.604584 ]\n",
      "calculating distances for model: /Users/patrick/dev/ucl/comp0158_mscproject/models/w2v_20240806_vs15_w15.model\n",
      "[ 2.0958822  -3.68056    -7.9107156   3.9456646   1.00565     1.6162071\n",
      " -2.580685    0.47857022  2.152303   -0.5900809   2.744508   -5.210794\n",
      " -2.914611   -3.953645   -2.065165  ]\n",
      "calculating distances for model: /Users/patrick/dev/ucl/comp0158_mscproject/models/w2v_20240805_vs10_w25.model\n",
      "[-5.1525984  -7.7123165  -3.7070699   0.21718954  0.11855166  3.8002799\n",
      " -6.8874135   3.796058   -0.13789071  1.2313515 ]\n",
      "calculating distances for model: /Users/patrick/dev/ucl/comp0158_mscproject/models/w2v_20240806_vs20_w15.model\n",
      "[ 5.1874056   0.6270997   2.2517457  -1.8082056   1.5577735  -0.41731665\n",
      "  1.0059782   2.9540656  -2.5093179  -1.252344    1.0734055  -2.063989\n",
      " -2.9518032  -1.4808186  -4.6118574   4.282703   -0.88496023  3.4319859\n",
      " -4.185183    1.5755546 ]\n",
      "calculating distances for model: /Users/patrick/dev/ucl/comp0158_mscproject/models/w2v_20240805_vs10_w5.model\n",
      "[-7.256429   -7.898225    0.29580253 -1.464      -0.23070337 -0.4044962\n",
      " -1.2228546   7.747699    0.07900179 -6.111979  ]\n"
     ]
    }
   ],
   "source": [
    "#model = Word2Vec.load(\"/Users/patrick/dev/ucl/comp0158_mscproject/models/test/w2v_20240806_vs5_w5.model\")\n",
    "model = Word2Vec.load(\"/Users/patrick/dev/ucl/comp0158_mscproject/modelsw2v_20240805_vs10_w5.model\")\n",
    "\n",
    "models_dir    = \"/Users/patrick/dev/ucl/comp0158_mscproject/models/\"\n",
    "file_list = glob.glob(os.path.join(models_dir, '*.model'))\n",
    "\n",
    "# parse each corpus file to build up the sentences\n",
    "for file_path in file_list:\n",
    "    with open(file_path, 'r') as file:\n",
    "        print(f'calculating distances for model: {file_path}')\n",
    "        model = Word2Vec.load(file_path)\n",
    "        try:\n",
    "            print(model.wv['PF19687'])\n",
    "        except Exception as e:\n",
    "            print(f\"Not present in {file_path}, e\")\n",
    "            continue\n",
    "        \n"
   ]
  },
  {
   "cell_type": "code",
   "execution_count": null,
   "metadata": {},
   "outputs": [],
   "source": []
  }
 ],
 "metadata": {
  "kernelspec": {
   "display_name": "conda_ucl_base",
   "language": "python",
   "name": "python3"
  },
  "language_info": {
   "codemirror_mode": {
    "name": "ipython",
    "version": 3
   },
   "file_extension": ".py",
   "mimetype": "text/x-python",
   "name": "python",
   "nbconvert_exporter": "python",
   "pygments_lexer": "ipython3",
   "version": "3.12.4"
  }
 },
 "nbformat": 4,
 "nbformat_minor": 2
}
