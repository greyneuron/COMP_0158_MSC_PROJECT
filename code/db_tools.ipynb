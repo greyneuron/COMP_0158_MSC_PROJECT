{
 "cells": [
  {
   "cell_type": "code",
   "execution_count": 1,
   "metadata": {},
   "outputs": [],
   "source": [
    "import duckdb\n",
    "\n",
    "test_db_string = \"/Users/patrick/dev/ucl/comp0158_mscproject/database/test.db\""
   ]
  },
  {
   "cell_type": "code",
   "execution_count": null,
   "metadata": {},
   "outputs": [],
   "source": [
    "# CREATE A TABLE\n",
    "con = duckdb.connect(database=':memory:')\n",
    "duckdb.sql(\"\\\n",
    "    CREATE TABLE TEST (\\\n",
    "        ID VARCHAR,\\\n",
    "    )\")\n",
    "con.close()"
   ]
  },
  {
   "cell_type": "code",
   "execution_count": 6,
   "metadata": {},
   "outputs": [
    {
     "name": "stdout",
     "output_type": "stream",
     "text": [
      "┌─────────────┬─────────────┬─────────┬─────────┬─────────┬─────────┐\n",
      "│ column_name │ column_type │  null   │   key   │ default │  extra  │\n",
      "│   varchar   │   varchar   │ varchar │ varchar │ varchar │ varchar │\n",
      "├─────────────┼─────────────┼─────────┼─────────┼─────────┼─────────┤\n",
      "│ ID          │ VARCHAR     │ YES     │ NULL    │ NULL    │ NULL    │\n",
      "└─────────────┴─────────────┴─────────┴─────────┴─────────┴─────────┘\n",
      "\n"
     ]
    }
   ],
   "source": [
    "# DESCRIBE\n",
    "con = duckdb.connect(database=':memory:')\n",
    "res = duckdb.sql(\"DESCRIBE TEST\")\n",
    "print(res)\n",
    "con.close()"
   ]
  },
  {
   "cell_type": "code",
   "execution_count": 14,
   "metadata": {},
   "outputs": [
    {
     "name": "stdout",
     "output_type": "stream",
     "text": [
      "┌─────────────┬─────────────┬─────────┬─────────┬─────────┬─────────┐\n",
      "│ column_name │ column_type │  null   │   key   │ default │  extra  │\n",
      "│   varchar   │   varchar   │ varchar │ varchar │ varchar │ varchar │\n",
      "├─────────────┼─────────────┼─────────┼─────────┼─────────┼─────────┤\n",
      "│ column0     │ VARCHAR     │ YES     │ NULL    │ NULL    │ NULL    │\n",
      "│ column1     │ BIGINT      │ YES     │ NULL    │ NULL    │ NULL    │\n",
      "│ column2     │ BIGINT      │ YES     │ NULL    │ NULL    │ NULL    │\n",
      "└─────────────┴─────────────┴─────────┴─────────┴─────────┴─────────┘\n",
      "\n"
     ]
    }
   ],
   "source": [
    "con = duckdb.connect(database=':memory:')        \n",
    "\n",
    "duckdb.sql(\"CREATE TABLE MY_UNIPROT_DATA AS SELECT * FROM read_csv_auto('/Users/patrick/dev/ucl/comp0158_mscproject/data/uniprot/uniprot_reduced_1000.dat')\")\n",
    "\n",
    "print(duckdb.sql(\"DESCRIBE MY_UNIPROT_DATA\"))\n",
    "con.close()"
   ]
  },
  {
   "cell_type": "code",
   "execution_count": 11,
   "metadata": {},
   "outputs": [
    {
     "name": "stdout",
     "output_type": "stream",
     "text": [
      "[('id', 'VARCHAR', 'YES', None, None, None), ('start', 'USMALLINT', 'YES', None, None, None), ('end', 'USMALLINT', 'YES', None, None, None)]\n"
     ]
    }
   ],
   "source": [
    "# load file into table into database file\n",
    "con = duckdb.connect(database=test_db_string)           \n",
    "con.execute(\"CREATE TABLE MY_UNIPROT_DATA AS SELECT * FROM read_csv_auto('/Users/patrick/dev/ucl/comp0158_mscproject/data/uniprot/uniprotkb-2759_78494531_reduced.dat', columns={'id' :'VARCHAR', 'start': 'USMALLINT', 'end': 'USMALLINT'})\")\n",
    "description = con.execute(\"DESCRIBE MY_UNIPROT_DATA\").fetchall()\n",
    "print(description)\n",
    "con.close()"
   ]
  },
  {
   "cell_type": "code",
   "execution_count": 3,
   "metadata": {},
   "outputs": [
    {
     "name": "stdout",
     "output_type": "stream",
     "text": [
      "[(298766058,)]\n"
     ]
    }
   ],
   "source": [
    "import duckdb\n",
    "db_string = \"/Users/patrick/dev/ucl/comp0158_mscproject/database/proteins.db\"\n",
    "con = duckdb.connect(database=db_string)           \n",
    "pfam_count = con.execute(\"SELECT COUNT(*) FROM PFAM_TOKEN\").fetchall()\n",
    "print(pfam_count)\n",
    "con.close()"
   ]
  },
  {
   "cell_type": "code",
   "execution_count": 2,
   "metadata": {},
   "outputs": [
    {
     "name": "stdout",
     "output_type": "stream",
     "text": [
      "[(78494529,)]\n"
     ]
    }
   ],
   "source": [
    "import duckdb\n",
    "db_string = \"/Users/patrick/dev/ucl/comp0158_mscproject/database/test.db\"\n",
    "con = duckdb.connect(database=db_string)           \n",
    "pfam_count = con.execute(\"SELECT COUNT(*) FROM MY_UNIPROT_DATA\").fetchall()\n",
    "print(pfam_count)\n",
    "con.close()"
   ]
  },
  {
   "cell_type": "code",
   "execution_count": 9,
   "metadata": {},
   "outputs": [],
   "source": [
    "import duckdb\n",
    "db_string = \"/Users/patrick/dev/ucl/comp0158_mscproject/database/test.db\"\n",
    "output      = \"/Users/patrick/dev/ucl/comp0158_mscproject/data/uniprot/proteins_ordered.dat\"\n",
    "con = duckdb.connect(database=db_string)\n",
    "\n",
    "output_file = open(output, \"w\")\n",
    "\n",
    "proteins = con.execute(\"SELECT * FROM MY_UNIPROT_DATA ORDER BY ID ASC\").fetchall()\n",
    "\n",
    "for i in range (len(proteins)):\n",
    "    print(proteins[i])\n",
    "    #print(proteins[i][0], '|', proteins[i][1])\n",
    "    line = \"|\".join([proteins[i][0], str(proteins[i][1]), str(proteins[i][2])]) +'\\n'\n",
    "    output_file.write(line)\n",
    "output_file.close()\n",
    "con.close()"
   ]
  },
  {
   "cell_type": "code",
   "execution_count": 9,
   "metadata": {},
   "outputs": [],
   "source": [
    "con = duckdb.connect(database=test_db_string)           \n",
    "con.execute(\"DROP TABLE MY_UNIPROT_DATA\")\n",
    "con.close()"
   ]
  },
  {
   "cell_type": "code",
   "execution_count": null,
   "metadata": {},
   "outputs": [],
   "source": []
  },
  {
   "cell_type": "code",
   "execution_count": 4,
   "metadata": {},
   "outputs": [
    {
     "ename": "IOException",
     "evalue": "IO Error: Could not set lock on file \"/Users/patrick/dev/ucl/comp0158_mscproject/database/test.db\": Conflicting lock is held in /Users/patrick/miniconda3/envs/conda_ucl_base/bin/python3.12 (PID 9680) by user patrick. See also https://duckdb.org/docs/connect/concurrency",
     "output_type": "error",
     "traceback": [
      "\u001b[0;31m---------------------------------------------------------------------------\u001b[0m",
      "\u001b[0;31mIOException\u001b[0m                               Traceback (most recent call last)",
      "Cell \u001b[0;32mIn[4], line 3\u001b[0m\n\u001b[1;32m      1\u001b[0m \u001b[38;5;28;01mimport\u001b[39;00m \u001b[38;5;21;01mduckdb\u001b[39;00m\n\u001b[1;32m      2\u001b[0m db_string \u001b[38;5;241m=\u001b[39m \u001b[38;5;124m\"\u001b[39m\u001b[38;5;124m/Users/patrick/dev/ucl/comp0158_mscproject/database/test.db\u001b[39m\u001b[38;5;124m\"\u001b[39m\n\u001b[0;32m----> 3\u001b[0m con \u001b[38;5;241m=\u001b[39m \u001b[43mduckdb\u001b[49m\u001b[38;5;241;43m.\u001b[39;49m\u001b[43mconnect\u001b[49m\u001b[43m(\u001b[49m\u001b[43mdatabase\u001b[49m\u001b[38;5;241;43m=\u001b[39;49m\u001b[43mdb_string\u001b[49m\u001b[43m)\u001b[49m        \n\u001b[1;32m      5\u001b[0m \u001b[38;5;66;03m#res = con.execute(\"DESCRIBE PFAM_TOKEN\").fetchall()\u001b[39;00m\n\u001b[1;32m      6\u001b[0m \n\u001b[1;32m      7\u001b[0m \u001b[38;5;66;03m# SELECT FROM LIST OF IDS - REALLY SLOW\u001b[39;00m\n\u001b[0;32m   (...)\u001b[0m\n\u001b[1;32m     10\u001b[0m \n\u001b[1;32m     11\u001b[0m \u001b[38;5;66;03m# FAST\u001b[39;00m\n\u001b[1;32m     12\u001b[0m entries_1 \u001b[38;5;241m=\u001b[39m con\u001b[38;5;241m.\u001b[39mexecute(\u001b[38;5;124m\"\u001b[39m\u001b[38;5;124mSELECT * FROM PFAM_TOKEN WHERE UNIPROT_ID = (?)\u001b[39m\u001b[38;5;124m\"\u001b[39m, [\u001b[38;5;124m'\u001b[39m\u001b[38;5;124mA0A010PZU8\u001b[39m\u001b[38;5;124m'\u001b[39m])\u001b[38;5;241m.\u001b[39mfetchall()\n",
      "\u001b[0;31mIOException\u001b[0m: IO Error: Could not set lock on file \"/Users/patrick/dev/ucl/comp0158_mscproject/database/test.db\": Conflicting lock is held in /Users/patrick/miniconda3/envs/conda_ucl_base/bin/python3.12 (PID 9680) by user patrick. See also https://duckdb.org/docs/connect/concurrency"
     ]
    }
   ],
   "source": [
    "import duckdb\n",
    "db_string = \"/Users/patrick/dev/ucl/comp0158_mscproject/database/test.db\"\n",
    "con = duckdb.connect(database=db_string)        \n",
    "\n",
    "#res = con.execute(\"DESCRIBE PFAM_TOKEN\").fetchall()\n",
    "\n",
    "# SELECT FROM LIST OF IDS - REALLY SLOW\n",
    "#list = ['A0A010R6E0', 'A0A010RP22']\n",
    "#entries = con.execute(\"SELECT * FROM PFAM_TOKEN WHERE column0 IN (SELECT UNNEST(?))\", [list]).fetchall()\n",
    "\n",
    "# FAST\n",
    "entries_1 = con.execute(\"SELECT * FROM PFAM_TOKEN WHERE UNIPROT_ID = (?)\", ['A0A010PZU8']).fetchall()\n",
    "\n",
    "#print(res)\n",
    "print(entries_1)\n",
    "con.close()"
   ]
  },
  {
   "cell_type": "markdown",
   "metadata": {},
   "source": [
    "## Unlock"
   ]
  },
  {
   "cell_type": "code",
   "execution_count": 1,
   "metadata": {},
   "outputs": [
    {
     "data": {
      "text/plain": [
       "False"
      ]
     },
     "execution_count": 1,
     "metadata": {},
     "output_type": "execute_result"
    }
   ],
   "source": [
    "import duckdb\n",
    "import os\n",
    "db_path = \"/Users/patrick/dev/ucl/comp0158_mscproject/database/proteins.db\"\n",
    "\n",
    "def is_locked():\n",
    "    db_path = \"/Users/patrick/dev/ucl/comp0158_mscproject/database/proteins.db\"\n",
    "\n",
    "    lock_file = f'{db_path}.lock'\n",
    "    return os.path.exists(lock_file)\n",
    "\n",
    "\n",
    "is_locked()\n",
    "\n",
    "# this works from a command prompt\n",
    "#fuser database/proteins.db\n",
    "\n",
    "# then kill the id if there is one liset"
   ]
  }
 ],
 "metadata": {
  "kernelspec": {
   "display_name": "conda_ucl_base",
   "language": "python",
   "name": "python3"
  },
  "language_info": {
   "codemirror_mode": {
    "name": "ipython",
    "version": 3
   },
   "file_extension": ".py",
   "mimetype": "text/x-python",
   "name": "python",
   "nbconvert_exporter": "python",
   "pygments_lexer": "ipython3",
   "version": "3.12.3"
  }
 },
 "nbformat": 4,
 "nbformat_minor": 2
}
