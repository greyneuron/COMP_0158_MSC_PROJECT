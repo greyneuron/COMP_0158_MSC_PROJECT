{
 "cells": [
  {
   "cell_type": "code",
   "execution_count": 37,
   "metadata": {},
   "outputs": [],
   "source": [
    "import gensim\n",
    "import logging\n",
    "import itertools\n",
    "import math\n",
    "import glob\n",
    "import numpy as np\n",
    "from gensim.models import Word2Vec\n",
    "import duckdb\n",
    "import re\n",
    "import os\n",
    "import time"
   ]
  },
  {
   "cell_type": "code",
   "execution_count": 2,
   "metadata": {},
   "outputs": [],
   "source": [
    "db_string = \"/Users/patrick/dev/ucl/comp0158_mscproject/database/w2v_20240731_test.db\""
   ]
  },
  {
   "cell_type": "markdown",
   "metadata": {},
   "source": [
    "#### Create NUMPY Distance Matrix"
   ]
  },
  {
   "cell_type": "code",
   "execution_count": 3,
   "metadata": {},
   "outputs": [
    {
     "name": "stderr",
     "output_type": "stream",
     "text": [
      "<>:5: SyntaxWarning: invalid escape sequence '\\/'\n",
      "<>:5: SyntaxWarning: invalid escape sequence '\\/'\n",
      "/var/folders/kp/bqnb4b7n4ng50xtbznpbx7xh0000gn/T/ipykernel_46940/2440657872.py:5: SyntaxWarning: invalid escape sequence '\\/'\n",
      "  model_id_search  = re.search(\"\\/(w2v_.*)\\.model\", model)\n"
     ]
    }
   ],
   "source": [
    "# Takes a model and loops through a list of pfam ids and outputs a npy file\n",
    "\n",
    "def calculate_distances_numpy(model, output_folder):\n",
    "    \n",
    "    model_id_search  = re.search(\"\\/(w2v_.*)\\.model\", model)\n",
    "    model_id         = model_id_search.group(1)\n",
    "    \n",
    "    # get pfam ids - could make this query more complex at some point\n",
    "    pfam_ids = []\n",
    "    con         = duckdb.connect(database=db_string)           \n",
    "    \n",
    "    missing_pfams_file = output_folder+model_id+\"_missing_pfams.txt\"\n",
    "    of = open(missing_pfams_file, \"w\")\n",
    "    \n",
    "    #\n",
    "    # First try with eukaryotic thatI have extracted\n",
    "    #\n",
    "    results     = con.execute(\"SELECT COUNTER, PFAM_ID FROM W2V_PFAM_E ORDER BY COUNTER \").fetchall()\n",
    "    \n",
    "    con.close()\n",
    "    for res in results:\n",
    "        pfam_ids.append(res[1])\n",
    "    \n",
    "    # load the model\n",
    "    model = Word2Vec.load(model)\n",
    "\n",
    "    # calculate matrix size and initialise\n",
    "    num_entries = len(pfam_ids)\n",
    "    distance_matrix = np.zeros((num_entries, num_entries))\n",
    "    \n",
    "    # create empty distance matrix\n",
    "    print(f\"Calculating distances for {num_entries} pfam ids under model {model_id}\")\n",
    "    error_count = 0\n",
    "    success_count = 0\n",
    "    for i in range(num_entries):\n",
    "        for j in range(i+1, num_entries):\n",
    "            pfam_1 = pfam_ids[i]\n",
    "            pfam_2 = pfam_ids[j]\n",
    "            try:\n",
    "                v1 = model.wv[pfam_1]\n",
    "                v2 = model.wv[pfam_2]\n",
    "                distance = np.linalg.norm(v1 - v2)\n",
    "                distance_matrix[i][j] = distance\n",
    "                success_count +=1\n",
    "            except Exception as e: # a bit convoluted, but want to print out the missing pfam\n",
    "                #print(f\"Exception calculating {pfam_1} to {pfam_2} : {e.args[0]}\")\n",
    "                missing = re.search(\"Key '(.*)' not\", e.args[0] )\n",
    "                #print(missing.group(1))\n",
    "                of.write(missing.group(1) + '\\n')\n",
    "                error_count +=1\n",
    "                continue\n",
    "    # close the output file\n",
    "    of.close()\n",
    "    output_name = output_folder+model_id+\"_dist\"\n",
    "    np.save(output_name, distance_matrix)\n",
    "    print(f\"Distances complete for model {model_id}. success: {success_count} fail: {error_count} output: {output_name}.npy\")\n"
   ]
  },
  {
   "cell_type": "code",
   "execution_count": null,
   "metadata": {},
   "outputs": [],
   "source": [
    "model           = \"/Users/patrick/dev/ucl/comp0158_mscproject/data/models/w2v_20240810_v5_w2.model\"\n",
    "output_folder   = \"/Users/patrick/dev/ucl/comp0158_mscproject/data/analysis/\"\n",
    "calculate_distances_numpy(model, output_folder)"
   ]
  },
  {
   "cell_type": "markdown",
   "metadata": {},
   "source": [
    "### New"
   ]
  },
  {
   "cell_type": "code",
   "execution_count": 35,
   "metadata": {},
   "outputs": [],
   "source": [
    "def encode_pfams(model_dir, model_name, vocab_dir):\n",
    "    vocab_file = vocab_dir+model_name+'_vocab.txt'\n",
    "    \n",
    "    # get pfam ids from the models vocab\n",
    "    #print(f\"Encoding vocab file: {vocab_file}\")\n",
    "    model = Word2Vec.load(model_dir+model_name+'.model')\n",
    "    pfam_ids = []\n",
    "    with open(vocab_file, 'r') as vf:\n",
    "        for line in vf:\n",
    "            line = line.rstrip()\n",
    "            line =  line.lstrip()\n",
    "            if line.startswith('PF'):\n",
    "                pfam_ids.append(line)\n",
    "                #encoding = model.wv[line]\n",
    "                #print(f\"Encoding :{line}: {encoding}\")\n",
    "    #print(pfam_ids)\n",
    "    vf.close()\n",
    "    \n",
    "    # calculate matrix size and initialise\n",
    "    num_entries = len(pfam_ids)\n",
    "    distance_matrix = np.zeros((num_entries, num_entries))\n",
    "    \n",
    "    # create empty distance matrix\n",
    "    #print(f\"Calculating distances for {num_entries} pfam ids under model {model_name}\")\n",
    "    error_count = 0\n",
    "    success_count = 0\n",
    "    s = time.time()\n",
    "    for i in range(num_entries):\n",
    "        for j in range(i+1, num_entries):\n",
    "            pfam_1 = pfam_ids[i]\n",
    "            pfam_2 = pfam_ids[j]\n",
    "            try:\n",
    "                v1 = model.wv[pfam_1]\n",
    "                v2 = model.wv[pfam_2]\n",
    "                distance = np.linalg.norm(v1 - v2)\n",
    "                distance_matrix[i][j] = distance\n",
    "                success_count +=1\n",
    "            except Exception as e: # a bit convoluted, but want to print out the missing pfam\n",
    "                #print(f\"Exception calculating {pfam_1} to {pfam_2} : {e.args[0]}\")\n",
    "                missing = re.search(\"Key '(.*)' not\", e.args[0] )\n",
    "                print(missing.group(1))\n",
    "                #of.write(missing.group(1) + '\\n')\n",
    "                error_count +=1\n",
    "                continue\n",
    "    # close the output file\n",
    "    #of.close()\n",
    "    \n",
    "    output_name = vocab_dir+model_name+\"_dist\"\n",
    "    np.save(output_name, distance_matrix)\n",
    "    e = time.time()\n",
    "    print(f\"distance matrix computed for model: {model_name}. num words: {num_entries}. time: {round(e-s,2)}s. success: {success_count} fail: {error_count} output: {output_name}.npy\")\n",
    "    "
   ]
  },
  {
   "cell_type": "code",
   "execution_count": null,
   "metadata": {},
   "outputs": [],
   "source": [
    "# get vocab for one model\n",
    "vocab_dir=\"/Users/patrick/dev/ucl/word2vec/COMP_0158_MSC_PROJECT/data/models/vocab/\"\n",
    "model_dir=\"/Users/patrick/dev/ucl/word2vec/COMP_0158_MSC_PROJECT/data/models/\"\n",
    "\n",
    "# get vocab for a particular file\n",
    "model_name = \"w2v_20240811_v5_w5_mc3\"\n",
    "#encode_pfams(model_dir, model_name, vocab_dir)"
   ]
  },
  {
   "cell_type": "code",
   "execution_count": 38,
   "metadata": {},
   "outputs": [
    {
     "name": "stderr",
     "output_type": "stream",
     "text": [
      "<>:7: SyntaxWarning: invalid escape sequence '\\.'\n",
      "<>:7: SyntaxWarning: invalid escape sequence '\\.'\n",
      "/var/folders/kp/bqnb4b7n4ng50xtbznpbx7xh0000gn/T/ipykernel_15954/1831602445.py:7: SyntaxWarning: invalid escape sequence '\\.'\n",
      "  model_name_s  = re.search(\"(w2v_.*)\\.model\", file_path)\n"
     ]
    },
    {
     "name": "stdout",
     "output_type": "stream",
     "text": [
      "distance matrix computed for model: w2v_20240811_v5_w10_mc5. num words: 12802. time: 438.42s. success: 81939201 fail: 0 output: /Users/patrick/dev/ucl/word2vec/COMP_0158_MSC_PROJECT/data/models/vocab/w2v_20240811_v5_w10_mc5_dist.npy\n",
      "distance matrix computed for model: w2v_20240811_v5_w10_mc3. num words: 13529. time: 489.65s. success: 91510156 fail: 0 output: /Users/patrick/dev/ucl/word2vec/COMP_0158_MSC_PROJECT/data/models/vocab/w2v_20240811_v5_w10_mc3_dist.npy\n",
      "distance matrix computed for model: w2v_20240811_v10_w5_mc3. num words: 13529. time: 491.76s. success: 91510156 fail: 0 output: /Users/patrick/dev/ucl/word2vec/COMP_0158_MSC_PROJECT/data/models/vocab/w2v_20240811_v10_w5_mc3_dist.npy\n",
      "distance matrix computed for model: w2v_20240811_v10_w10_mc5. num words: 12802. time: 435.7s. success: 81939201 fail: 0 output: /Users/patrick/dev/ucl/word2vec/COMP_0158_MSC_PROJECT/data/models/vocab/w2v_20240811_v10_w10_mc5_dist.npy\n",
      "distance matrix computed for model: w2v_20240811_v5_w5_mc5. num words: 12802. time: 430.51s. success: 81939201 fail: 0 output: /Users/patrick/dev/ucl/word2vec/COMP_0158_MSC_PROJECT/data/models/vocab/w2v_20240811_v5_w5_mc5_dist.npy\n",
      "distance matrix computed for model: w2v_20240811_v20_w5_mc5. num words: 12802. time: 437.17s. success: 81939201 fail: 0 output: /Users/patrick/dev/ucl/word2vec/COMP_0158_MSC_PROJECT/data/models/vocab/w2v_20240811_v20_w5_mc5_dist.npy\n",
      "distance matrix computed for model: w2v_20240811_v5_w5_mc3. num words: 13529. time: 481.46s. success: 91510156 fail: 0 output: /Users/patrick/dev/ucl/word2vec/COMP_0158_MSC_PROJECT/data/models/vocab/w2v_20240811_v5_w5_mc3_dist.npy\n",
      "distance matrix computed for model: w2v_20240811_v10_w10_mc3. num words: 13529. time: 485.07s. success: 91510156 fail: 0 output: /Users/patrick/dev/ucl/word2vec/COMP_0158_MSC_PROJECT/data/models/vocab/w2v_20240811_v10_w10_mc3_dist.npy\n",
      "distance matrix computed for model: w2v_20240811_v10_w5_mc5. num words: 12802. time: 428.45s. success: 81939201 fail: 0 output: /Users/patrick/dev/ucl/word2vec/COMP_0158_MSC_PROJECT/data/models/vocab/w2v_20240811_v10_w5_mc5_dist.npy\n",
      "distance matrix computed for model: w2v_20240811_v20_w5_mc3. num words: 13529. time: 446.22s. success: 91510156 fail: 0 output: /Users/patrick/dev/ucl/word2vec/COMP_0158_MSC_PROJECT/data/models/vocab/w2v_20240811_v20_w5_mc3_dist.npy\n",
      "distance matrix computed for model: w2v_20240811_v20_w10_mc5. num words: 12802. time: 398.49s. success: 81939201 fail: 0 output: /Users/patrick/dev/ucl/word2vec/COMP_0158_MSC_PROJECT/data/models/vocab/w2v_20240811_v20_w10_mc5_dist.npy\n",
      "distance matrix computed for model: w2v_20240811_v20_w10_mc3. num words: 13529. time: 465.78s. success: 91510156 fail: 0 output: /Users/patrick/dev/ucl/word2vec/COMP_0158_MSC_PROJECT/data/models/vocab/w2v_20240811_v20_w10_mc3_dist.npy\n"
     ]
    }
   ],
   "source": [
    "# get distances for all models\n",
    "vocab_dir=\"/Users/patrick/dev/ucl/word2vec/COMP_0158_MSC_PROJECT/data/models/vocab/\"\n",
    "model_dir=\"/Users/patrick/dev/ucl/word2vec/COMP_0158_MSC_PROJECT/data/models/\"\n",
    "\n",
    "file_list = glob.glob(os.path.join(model_dir, '*.model'))\n",
    "for file_path in file_list:\n",
    "    model_name_s  = re.search(\"(w2v_.*)\\.model\", file_path)\n",
    "    model_name         = model_name_s.group(1)\n",
    "    encode_pfams(model_dir, model_name, vocab_dir)\n"
   ]
  },
  {
   "cell_type": "markdown",
   "metadata": {},
   "source": []
  }
 ],
 "metadata": {
  "kernelspec": {
   "display_name": "conda_ucl_base",
   "language": "python",
   "name": "python3"
  },
  "language_info": {
   "codemirror_mode": {
    "name": "ipython",
    "version": 3
   },
   "file_extension": ".py",
   "mimetype": "text/x-python",
   "name": "python",
   "nbconvert_exporter": "python",
   "pygments_lexer": "ipython3",
   "version": "3.12.4"
  }
 },
 "nbformat": 4,
 "nbformat_minor": 2
}
