{
 "cells": [
  {
   "cell_type": "code",
   "execution_count": 7,
   "metadata": {},
   "outputs": [],
   "source": [
    "import numpy as np\n",
    "\n",
    "evo_npy_file = \"/Users/patrick/dev/ucl/word2vec/COMP_0158_MSC_PROJECT/data/evolutionary/evo_distance_matrix.npy\"\n",
    "evo_pfam_ids_out = \"/Users/patrick/dev/ucl/word2vec/COMP_0158_MSC_PROJECT/data/evolutionary/evo_pfam_ids.dat\""
   ]
  },
  {
   "cell_type": "code",
   "execution_count": 2,
   "metadata": {},
   "outputs": [],
   "source": [
    "# extract distance matrix and vector of pfam ids\n",
    "# from evolutoinary distnaces file \n",
    "def read_evo_files(evo_npy_file):\n",
    "    print('loading distance matrix and vectors')\n",
    "    with open(evo_npy_file, 'rb') as f:\n",
    "        distance_matrix = np.load(f)\n",
    "        pfam_vector_file = np.load(f)\n",
    "    return distance_matrix, pfam_vector_file\n",
    "\n",
    "\n",
    "# extracts pfam ids from the vecotr\n",
    "def parse_pfam_list(pfam_vector):\n",
    "    #print(f\"{len(pfam_vector)}\")\n",
    "    pfam_ids = []\n",
    "    of = open(evo_pfam_ids_out, \"w\")\n",
    "    \n",
    "    counter = 0\n",
    "    for i in range (len(pfam_vector)):\n",
    "        line = pfam_vector[i]\n",
    "        tokens = line.split('|')\n",
    "        pfam_id = tokens[1]\n",
    "        pfam_id = pfam_id.rstrip()\n",
    "        pfam_id = pfam_id.lstrip()\n",
    "        buffer = \"|\".join([str(counter), pfam_id])\n",
    "        pfam_ids.append(pfam_id)\n",
    "        of.write(buffer + '\\n')\n",
    "        #print(buffer)\n",
    "        counter+=1\n",
    "    of.close()\n",
    "    return pfam_ids"
   ]
  },
  {
   "cell_type": "code",
   "execution_count": 8,
   "metadata": {},
   "outputs": [
    {
     "name": "stdout",
     "output_type": "stream",
     "text": [
      "loading distance matrix and vectors\n",
      "20651\n",
      "distance matrix dimensions, (20651, 20651)\n",
      "vector dimensions: 20651\n"
     ]
    },
    {
     "ename": "TypeError",
     "evalue": "object of type 'NoneType' has no len()",
     "output_type": "error",
     "traceback": [
      "\u001b[0;31m---------------------------------------------------------------------------\u001b[0m",
      "\u001b[0;31mTypeError\u001b[0m                                 Traceback (most recent call last)",
      "Cell \u001b[0;32mIn[8], line 10\u001b[0m\n\u001b[1;32m      8\u001b[0m \u001b[38;5;28mprint\u001b[39m(\u001b[38;5;124mf\u001b[39m\u001b[38;5;124m\"\u001b[39m\u001b[38;5;124mdistance matrix dimensions, \u001b[39m\u001b[38;5;132;01m{\u001b[39;00mdistance_matrix\u001b[38;5;241m.\u001b[39mshape\u001b[38;5;132;01m}\u001b[39;00m\u001b[38;5;124m\"\u001b[39m)\n\u001b[1;32m      9\u001b[0m \u001b[38;5;28mprint\u001b[39m(\u001b[38;5;124mf\u001b[39m\u001b[38;5;124m\"\u001b[39m\u001b[38;5;124mvector dimensions: \u001b[39m\u001b[38;5;132;01m{\u001b[39;00m\u001b[38;5;28mlen\u001b[39m(pfam_vector)\u001b[38;5;132;01m}\u001b[39;00m\u001b[38;5;124m\"\u001b[39m)\n\u001b[0;32m---> 10\u001b[0m \u001b[38;5;28mprint\u001b[39m(\u001b[38;5;124mf\u001b[39m\u001b[38;5;124m\"\u001b[39m\u001b[38;5;124mnum pfam ids: \u001b[39m\u001b[38;5;132;01m{\u001b[39;00m\u001b[38;5;28;43mlen\u001b[39;49m\u001b[43m(\u001b[49m\u001b[43mevo_pfam_ids\u001b[49m\u001b[43m)\u001b[49m\u001b[38;5;132;01m}\u001b[39;00m\u001b[38;5;124m\"\u001b[39m)\n",
      "\u001b[0;31mTypeError\u001b[0m: object of type 'NoneType' has no len()"
     ]
    }
   ],
   "source": [
    "#read_evo_matrix()\n",
    "distance_matrix, pfam_vector = read_evo_files(evo_npy_file)\n",
    "\n",
    "# get the pfam ids used in evo distance\n",
    "evo_pfam_ids = parse_pfam_list(pfam_vector)\n",
    "\n",
    "\n",
    "print(f\"distance matrix dimensions, {distance_matrix.shape}\")\n",
    "print(f\"vector dimensions: {len(pfam_vector)}\")\n",
    "print(f\"num pfam ids: {len(evo_pfam_ids)}\")"
   ]
  },
  {
   "cell_type": "code",
   "execution_count": null,
   "metadata": {},
   "outputs": [],
   "source": []
  }
 ],
 "metadata": {
  "kernelspec": {
   "display_name": "conda_ucl_base",
   "language": "python",
   "name": "python3"
  },
  "language_info": {
   "codemirror_mode": {
    "name": "ipython",
    "version": 3
   },
   "file_extension": ".py",
   "mimetype": "text/x-python",
   "name": "python",
   "nbconvert_exporter": "python",
   "pygments_lexer": "ipython3",
   "version": "3.12.4"
  }
 },
 "nbformat": 4,
 "nbformat_minor": 2
}
