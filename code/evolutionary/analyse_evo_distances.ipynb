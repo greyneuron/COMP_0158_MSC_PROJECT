{
 "cells": [
  {
   "cell_type": "code",
   "execution_count": 7,
   "metadata": {},
   "outputs": [],
   "source": [
    "import numpy as np\n",
    "\n",
    "evo_npy_file = \"/Users/patrick/dev/ucl/word2vec/COMP_0158_MSC_PROJECT/data/evolutionary/evo_distance_matrix.npy\"\n",
    "evo_pfam_ids_out = \"/Users/patrick/dev/ucl/word2vec/COMP_0158_MSC_PROJECT/data/evolutionary/evo_pfam_ids.dat\""
   ]
  },
  {
   "cell_type": "code",
   "execution_count": 9,
   "metadata": {},
   "outputs": [],
   "source": [
    "# extract distance matrix and vector of pfam ids\n",
    "# from evolutoinary distnaces file \n",
    "def read_evo_files(evo_npy_file):\n",
    "    print('loading distance matrix and vectors')\n",
    "    with open(evo_npy_file, 'rb') as f:\n",
    "        distance_matrix = np.load(f)\n",
    "        pfam_vector_file = np.load(f)\n",
    "    return distance_matrix, pfam_vector_file\n",
    "\n",
    "\n",
    "# extracts pfam ids from the vecotr\n",
    "def parse_pfam_list(pfam_vector):\n",
    "    #print(f\"{len(pfam_vector)}\")\n",
    "    pfam_ids = []\n",
    "    of = open(evo_pfam_ids_out, \"w\")\n",
    "    \n",
    "    counter = 0\n",
    "    for i in range (len(pfam_vector)):\n",
    "        line = pfam_vector[i]\n",
    "        tokens = line.split('|')\n",
    "        pfam_id = tokens[1]\n",
    "        pfam_id = pfam_id.rstrip()\n",
    "        pfam_id = pfam_id.lstrip()\n",
    "        buffer = \"|\".join([str(counter), pfam_id])\n",
    "        pfam_ids.append(pfam_id)\n",
    "        of.write(buffer + '\\n')\n",
    "        #print(buffer)\n",
    "        counter+=1\n",
    "    of.close()\n",
    "    return pfam_ids"
   ]
  },
  {
   "cell_type": "code",
   "execution_count": 20,
   "metadata": {},
   "outputs": [
    {
     "name": "stdout",
     "output_type": "stream",
     "text": [
      "loading distance matrix and vectors\n",
      "distance matrix dimensions, (20651, 20651)\n",
      "vector dimensions: 20651\n",
      "num pfam ids: 20651\n"
     ]
    },
    {
     "ename": "NameError",
     "evalue": "name 'pfam_ids' is not defined",
     "output_type": "error",
     "traceback": [
      "\u001b[0;31m---------------------------------------------------------------------------\u001b[0m",
      "\u001b[0;31mNameError\u001b[0m                                 Traceback (most recent call last)",
      "Cell \u001b[0;32mIn[20], line 11\u001b[0m\n\u001b[1;32m      8\u001b[0m \u001b[38;5;28mprint\u001b[39m(\u001b[38;5;124mf\u001b[39m\u001b[38;5;124m\"\u001b[39m\u001b[38;5;124mvector dimensions: \u001b[39m\u001b[38;5;132;01m{\u001b[39;00m\u001b[38;5;28mlen\u001b[39m(pfam_vector)\u001b[38;5;132;01m}\u001b[39;00m\u001b[38;5;124m\"\u001b[39m)\n\u001b[1;32m      9\u001b[0m \u001b[38;5;28mprint\u001b[39m(\u001b[38;5;124mf\u001b[39m\u001b[38;5;124m\"\u001b[39m\u001b[38;5;124mnum pfam ids: \u001b[39m\u001b[38;5;132;01m{\u001b[39;00m\u001b[38;5;28mlen\u001b[39m(evo_pfam_ids)\u001b[38;5;132;01m}\u001b[39;00m\u001b[38;5;124m\"\u001b[39m)\n\u001b[0;32m---> 11\u001b[0m \u001b[38;5;28mprint\u001b[39m(\u001b[43mpfam_ids\u001b[49m)\n",
      "\u001b[0;31mNameError\u001b[0m: name 'pfam_ids' is not defined"
     ]
    }
   ],
   "source": [
    "#read_evo_matrix()\n",
    "distance_matrix, pfam_vector = read_evo_files(evo_npy_file)\n",
    "\n",
    "# get the pfam ids used in evo distance\n",
    "evo_pfam_ids = parse_pfam_list(pfam_vector)\n",
    "\n",
    "print(f\"distance matrix dimensions, {distance_matrix.shape}\")\n",
    "print(f\"vector dimensions: {len(pfam_vector)}\")\n",
    "print(f\"num pfam ids: {len(evo_pfam_ids)}\")\n"
   ]
  },
  {
   "cell_type": "code",
   "execution_count": 24,
   "metadata": {},
   "outputs": [
    {
     "name": "stdout",
     "output_type": "stream",
     "text": [
      "A0A494VWX5.1/156-191|PF10417\n",
      "A0A8H7GQB6.1/169-204|PF10417\n",
      "A0A813XZ73.1/210-236|PF10417\n",
      "A0A543ENH6.1/156-193|PF10417\n",
      "A0A3B0IY01.1/159-193|PF10417\n",
      "A0A8E0AWB5.1/157-179|PF10417\n",
      "A0A2T1KKJ5.1/156-196|PF10417\n",
      "F0IWG0.1/50-305|PF00389\n",
      "A0A561BAP4.1/9-324|PF00389\n"
     ]
    }
   ],
   "source": [
    "print(pfam_vector[0])\n",
    "print(pfam_vector[1])\n",
    "print(pfam_vector[2])\n",
    "print(pfam_vector[3])\n",
    "print(pfam_vector[4])\n",
    "print(pfam_vector[5])\n",
    "print(pfam_vector[6])\n",
    "print(pfam_vector[7])\n",
    "print(pfam_vector[8])\n",
    "#print(evo_pfam_ids)"
   ]
  },
  {
   "cell_type": "code",
   "execution_count": 19,
   "metadata": {},
   "outputs": [
    {
     "name": "stdout",
     "output_type": "stream",
     "text": [
      "0.0\n",
      "0.9905660377358491\n",
      "0.9802071772105069\n",
      "0.9963004069552349\n",
      "0.9951905290418054\n",
      "0.9835368109507954\n",
      "0.9911209766925638\n",
      "0.9950055493895672\n",
      "0.9870514243433223\n",
      "30,17384 0.9933407325194229\n",
      "30,17384 0.9946355900850906\n"
     ]
    }
   ],
   "source": [
    "print(distance_matrix[0,0])\n",
    "print(distance_matrix[0,1])\n",
    "print(distance_matrix[0,2])\n",
    "print(distance_matrix[0,3])\n",
    "print(distance_matrix[0,4])\n",
    "print(distance_matrix[0,5])\n",
    "print(distance_matrix[0,6])\n",
    "print(distance_matrix[0,7])\n",
    "print(distance_matrix[0,20650])\n",
    "#print(distance_matrix[0,20651])# out of bounds\n",
    "\n",
    "print(f\"30,17384 {distance_matrix[30,17384]}\")\n",
    "print(f\"30,17384 {distance_matrix[30,17385]}\")"
   ]
  }
 ],
 "metadata": {
  "kernelspec": {
   "display_name": "conda_ucl_base",
   "language": "python",
   "name": "python3"
  },
  "language_info": {
   "codemirror_mode": {
    "name": "ipython",
    "version": 3
   },
   "file_extension": ".py",
   "mimetype": "text/x-python",
   "name": "python",
   "nbconvert_exporter": "python",
   "pygments_lexer": "ipython3",
   "version": "3.12.4"
  }
 },
 "nbformat": 4,
 "nbformat_minor": 2
}
