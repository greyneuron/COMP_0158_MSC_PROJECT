{
 "cells": [
  {
   "cell_type": "code",
   "execution_count": 34,
   "metadata": {},
   "outputs": [],
   "source": [
    "import pandas as pd\n",
    "import seaborn as sns\n",
    "from matplotlib import pyplot as plt\n"
   ]
  },
  {
   "cell_type": "markdown",
   "metadata": {},
   "source": [
    "# before running this notebook, you need to first extract the metadata from the tokens file\n",
    "awk 'FS=\"|\" {print $1}' corpus/uniref100_e_tokens_combined_20240910.dat > corpus/uniref100_e_tokens_combined_20240910_metadata.dat"
   ]
  },
  {
   "cell_type": "code",
   "execution_count": 35,
   "metadata": {},
   "outputs": [],
   "source": [
    "header_columns = ['id', 'len', 'num_tokens', 'num_pfam', 'num_disorder']\n",
    "tokens_file = \"/Users/patrick/dev/ucl/word2vec/comp_0158_msc_project/data/corpus/uniref100_e_tokens_combined_20240910_metadata.dat\""
   ]
  },
  {
   "cell_type": "code",
   "execution_count": 36,
   "metadata": {},
   "outputs": [],
   "source": [
    "df = pd.read_csv(tokens_file, sep=':', engine='python', names=header_columns)\n",
    "df.head()"
   ]
  },
  {
   "cell_type": "code",
   "execution_count": 4,
   "metadata": {},
   "outputs": [],
   "source": [
    "# get entries that only have at least one pfam entry\n",
    "#pfam_df = df[df['num_pfam'] >= 0]"
   ]
  },
  {
   "cell_type": "code",
   "execution_count": null,
   "metadata": {},
   "outputs": [],
   "source": [
    "#for col in ['len',  'num_tokens', 'num_pfam', 'num_disorder']:\n",
    "for col in ['num_tokens']:\n",
    "  print(col)\n",
    "  sns.histplot(data=df, x=col)\n",
    "  plt.show()"
   ]
  },
  {
   "cell_type": "code",
   "execution_count": null,
   "metadata": {},
   "outputs": [],
   "source": [
    "#for col in ['len',  'num_tokens', 'num_pfam', 'num_disorder']:\n",
    "for col in ['num_tokens', 'num_pfam','num_disorder' ]:\n",
    "    print(col, '\\t|', df[col].max(), '|',  df[col].min(), '|', df[col].mean(), '|',  df[col].std(), '\\t>', df[col].quantile(0.9), '|', df[col].quantile(0.95), '|', df[col].quantile(0.975), '|', df[col].quantile(0.99))\n",
    "    \n",
    "    \n",
    "    \n"
   ]
  },
  {
   "cell_type": "code",
   "execution_count": null,
   "metadata": {},
   "outputs": [],
   "source": [
    "for col in ['num_tokens', 'num_pfam','num_disorder' ]:\n",
    "    percentile = df.quantile(0.975)\n",
    "    \n",
    "    colq_df = df[col][ df[col] <= percentile]\n",
    "\n",
    "    print( colq_df.max())"
   ]
  },
  {
   "cell_type": "code",
   "execution_count": null,
   "metadata": {},
   "outputs": [],
   "source": [
    "def num_summary(dataframe, numerical_col, plot= False):\n",
    "    #quantiles = [0.05, 0.10, 0.20, 0.30, 0.40, 0.50, 0.60, 0.70, 0.80, 0.90, 0.95, 0.99]\n",
    "    quantiles =  [0.90, 0.95, 0.99]\n",
    "    print(dataframe[numerical_col].describe(quantiles).T)\n",
    "\n",
    "    if plot:\n",
    "        dataframe[numerical_col].hist(bins=20)\n",
    "        plt.xlabel(numerical_col)\n",
    "        plt.title(numerical_col)\n",
    "        plt.show()\n",
    "\n",
    "#num_cols = ['len',  'num_tokens', 'num_pfam', 'num_disorder']\n",
    "num_cols = ['num_pfam']\n",
    "\n",
    "for col in num_cols:\n",
    "    num_summary(df, col,plot=True)\n",
    "\n",
    "#sns.pairplot(df, hue='OUTCOME')"
   ]
  }
 ],
 "metadata": {
  "kernelspec": {
   "display_name": "COMP0082_BIOINF_2",
   "language": "python",
   "name": "python3"
  },
  "language_info": {
   "codemirror_mode": {
    "name": "ipython",
    "version": 3
   },
   "file_extension": ".py",
   "mimetype": "text/x-python",
   "name": "python",
   "nbconvert_exporter": "python",
   "pygments_lexer": "ipython3",
   "version": "3.12.4"
  }
 },
 "nbformat": 4,
 "nbformat_minor": 2
}
