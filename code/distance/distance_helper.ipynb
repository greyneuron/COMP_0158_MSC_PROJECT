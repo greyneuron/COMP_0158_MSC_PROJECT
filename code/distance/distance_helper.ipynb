{
 "cells": [
  {
   "cell_type": "code",
   "execution_count": 1,
   "metadata": {},
   "outputs": [],
   "source": [
    "import gensim\n",
    "import logging\n",
    "import itertools\n",
    "import math\n",
    "import glob\n",
    "import numpy as np\n",
    "from gensim.models import Word2Vec\n",
    "import duckdb\n",
    "import re\n",
    "import os\n",
    "import time\n",
    "import random\n",
    "from skbio.stats.distance import DistanceMatrix\n",
    "from scipy.spatial.distance import correlation"
   ]
  },
  {
   "cell_type": "code",
   "execution_count": null,
   "metadata": {},
   "outputs": [],
   "source": [
    "'''\n",
    "\n",
    "This notebook is used to experiment with distance matrices and make sure they \n",
    "work before I moive them to a .py file\n",
    "\n",
    "'''"
   ]
  },
  {
   "cell_type": "markdown",
   "metadata": {},
   "source": [
    "### Util : Extract vectors and matrices from rand_rep"
   ]
  },
  {
   "cell_type": "code",
   "execution_count": 2,
   "metadata": {},
   "outputs": [
    {
     "name": "stderr",
     "output_type": "stream",
     "text": [
      "<>:25: SyntaxWarning: invalid escape sequence '\\|'\n",
      "<>:25: SyntaxWarning: invalid escape sequence '\\|'\n",
      "/var/folders/kp/bqnb4b7n4ng50xtbznpbx7xh0000gn/T/ipykernel_5230/2271292818.py:25: SyntaxWarning: invalid escape sequence '\\|'\n",
      "  pfam_search  = re.search(\"\\|(PF.*)\", item)\n"
     ]
    }
   ],
   "source": [
    "evo_npy         = \"/Users/patrick/dev/ucl/word2vec/comp_0158_msc_project/data/distances/evo/rand_rep_distance_matrix.npy\"\n",
    "\n",
    "#\n",
    "# extract vocab vector and matrix from npy file\n",
    "#                \n",
    "def extract_evo_matrix_vector_files(npy_file_name):\n",
    "    print(f\"- loading {npy_file_name}\")\n",
    "    npy_f               = open(npy_file_name, 'rb')\n",
    "    dist_matrix_norm    = np.load(npy_f) #loads second matrix\n",
    "    vocab_vector        = np.load(npy_f)\n",
    "    \n",
    "    return vocab_vector, dist_matrix_norm\n",
    "\n",
    "\n",
    "# ------------------- GET PFAM IDS FROM EVO VECTOR ----------------------------\n",
    "\n",
    "#\n",
    "# vectors in evo matrix have format K1SVA3.1/50-86|PF02829\n",
    "# need to extract these\n",
    "#\n",
    "def extract_evo_pfam_ids(evo_vector):\n",
    "    pfam_ids = []\n",
    "    for item in evo_vector:\n",
    "        #print(f\"searching in {item}\")\n",
    "        pfam_search  = re.search(\"\\|(PF.*)\", item)\n",
    "        pfam_id       = pfam_search.group(1)\n",
    "        #print(f\"found {pfam_id}\")\n",
    "        pfam_ids.append(pfam_id)\n",
    "    return pfam_ids"
   ]
  },
  {
   "cell_type": "code",
   "execution_count": 3,
   "metadata": {},
   "outputs": [
    {
     "name": "stdout",
     "output_type": "stream",
     "text": [
      "- loading /Users/patrick/dev/ucl/word2vec/comp_0158_msc_project/data/distances/evo/rand_rep_distance_matrix.npy\n",
      "- rand_rep extracted. number of pfams : 20651 matrix shape: (20651, 20651)\n"
     ]
    }
   ],
   "source": [
    "evo_vocab_vector, evo_dist_matrix = extract_evo_matrix_vector_files(evo_npy)\n",
    "evo_vocab   = extract_evo_pfam_ids(evo_vocab_vector)\n",
    "print(f\"- rand_rep extracted. number of pfams : {len(evo_vocab)} matrix shape: {evo_dist_matrix.shape}\")"
   ]
  },
  {
   "cell_type": "markdown",
   "metadata": {},
   "source": [
    "### Calculate distance matrices - use sklearn"
   ]
  },
  {
   "cell_type": "code",
   "execution_count": 4,
   "metadata": {},
   "outputs": [],
   "source": [
    "from sklearn.metrics.pairwise import cosine_distances\n",
    "from sklearn.metrics.pairwise import euclidean_distances\n",
    "\n",
    "def get_distances(model_path):\n",
    "    model           = Word2Vec.load(model_path)\n",
    "    word_vectors    = model.wv\n",
    "    \n",
    "    print('- w2v word vectors shape:', word_vectors.vectors.shape)\n",
    "    \n",
    "    # grab the pfam words\n",
    "    pfams = []\n",
    "    vocab           = model.wv.key_to_index\n",
    "    for i, word in enumerate(vocab):\n",
    "        pfams.append(word)\n",
    "\n",
    "    # get cosine and normalise\n",
    "    print('- calculating cosine distances')\n",
    "    cosine_distance_matrix = cosine_distances(word_vectors.vectors, word_vectors.vectors)\n",
    "    non_diag_elements       = cosine_distance_matrix[np.triu_indices_from(cosine_distance_matrix, k=1)]\n",
    "    max_value               = np.max(np.abs(non_diag_elements))\n",
    "    cosine_distance_matrix_norm = cosine_distance_matrix / max_value\n",
    "    np.fill_diagonal(cosine_distance_matrix_norm, 0)\n",
    "    \n",
    "    # get euclidean and normalise\n",
    "    print('- calculating euclidean distances')\n",
    "    euclidean_distance_matrix   = euclidean_distances(word_vectors.vectors, word_vectors.vectors)\n",
    "    non_diag_elements           = euclidean_distance_matrix[np.triu_indices_from(euclidean_distance_matrix, k=1)]\n",
    "    max_value                   = np.max(np.abs(non_diag_elements))\n",
    "    euclidean_distance_matrix_norm = euclidean_distance_matrix / max_value\n",
    "    np.fill_diagonal(euclidean_distance_matrix_norm, 0)\n",
    "    \n",
    "    return pfams, euclidean_distance_matrix, cosine_distance_matrix, euclidean_distance_matrix_norm, cosine_distance_matrix_norm"
   ]
  },
  {
   "cell_type": "markdown",
   "metadata": {},
   "source": [
    "### RUN ME: Test distances"
   ]
  },
  {
   "cell_type": "code",
   "execution_count": 5,
   "metadata": {},
   "outputs": [
    {
     "name": "stdout",
     "output_type": "stream",
     "text": [
      "- w2v word vectors shape: (15485, 10)\n",
      "- calculating cosine distances\n",
      "- calculating euclidean distances\n"
     ]
    }
   ],
   "source": [
    "model_dir       = \"/Users/patrick/dev/ucl/word2vec/comp_0158_msc_project/data/models/cbow/\"\n",
    "model_name      = 'w2v_20240911_cbow_mc1_w3_v10'\n",
    "model_path      = model_dir+model_name+'.model'\n",
    "model           = Word2Vec.load(model_path)\n",
    "\n",
    "#\n",
    "# ---------- get distance matrices\n",
    "#\n",
    "w2v_vocab, w2v_euc_dist_matrix, w2v_cos_dist_matrix, w2v_euc_dist_matrix_n, w2v_cos_dist_matrix_n = get_distances(model_path)\n",
    "#\n",
    "#"
   ]
  },
  {
   "cell_type": "code",
   "execution_count": 6,
   "metadata": {},
   "outputs": [
    {
     "name": "stdout",
     "output_type": "stream",
     "text": [
      "Testing distances for : PF14736 against PF17987\n",
      "\n",
      "Vector 1:\n",
      "[-1.4850833  -0.49669972  1.571958    0.84423685 -0.16456014  0.7867039\n",
      "  3.2310567   0.7853137   1.8917574  -1.1023983 ]\n",
      "Vector 2:\n",
      "[ 0.91540474  0.28253043  1.1064982   1.5303342   0.7691935  -0.8112851\n",
      "  2.2297175   1.5800493   1.4424465  -0.74132717]\n",
      "\n",
      " - Euc Distance calculated directly : 3.528303623199463 \n",
      " - Euc Distance in matrix :3.528303623199463\n",
      "\n",
      " - Cos Distance calculated directly : 0.31845784187316895 \n",
      " - Cos Distance in matrix :0.3184579014778137\n",
      "\n",
      "Checking conversion to Distance Matrix...\n",
      " - w2v old v new: 3.528303623199463 : 3.528303623199463\n",
      " - evo old v new: 0.9660087719298246 : 0.9660087719298246\n"
     ]
    }
   ],
   "source": [
    "# ---------------------------------------------------------------------------------------------\n",
    "#           Confirmed many times (last time being 17/09 that distance calcs are correct)\n",
    "# ---------------------------------------------------------------------------------------------\n",
    "\n",
    "#\n",
    "# ----------- check that the w2v distance matrices are correct\n",
    "#\n",
    "\n",
    "# randomly select 2 pfams\n",
    "word_vectors    = model.wv\n",
    "rnd_pfam_1_idx  = random.randint(0, len(w2v_vocab))\n",
    "rnd_pfam_1      = w2v_vocab[rnd_pfam_1_idx]\n",
    "rnd_pfam_2_idx  = random.randint(0, len(w2v_vocab))\n",
    "rnd_pfam_2      = w2v_vocab[rnd_pfam_2_idx]\n",
    "\n",
    "# get their vectors\n",
    "pfam_1_vector = model.wv[rnd_pfam_1]\n",
    "pfam_2_vector = model.wv[rnd_pfam_2]\n",
    "\n",
    "print(f\"Testing distances for : {rnd_pfam_1} against {rnd_pfam_2}\\n\")\n",
    "print(f\"Vector 1:\\n{pfam_1_vector}\\nVector 2:\\n{pfam_2_vector}\")\n",
    "\n",
    "# get distances for those vectors directly\n",
    "w2v_euc_dist        = np.linalg.norm(pfam_1_vector - pfam_2_vector)\n",
    "cosine_similarity   = np.dot(pfam_1_vector, pfam_2_vector) / (np.linalg.norm(pfam_1_vector) * np.linalg.norm(pfam_2_vector))\n",
    "w2v_cos_dist        = 1 - cosine_similarity\n",
    "\n",
    "# get the distances from the matrices\n",
    "print(f\"\\n - Euc Distance calculated directly : {w2v_euc_dist} \\n - Euc Distance in matrix :{w2v_euc_dist_matrix[rnd_pfam_1_idx, rnd_pfam_2_idx]}\")\n",
    "print(f\"\\n - Cos Distance calculated directly : {w2v_cos_dist} \\n - Cos Distance in matrix :{w2v_cos_dist_matrix[rnd_pfam_1_idx, rnd_pfam_2_idx]}\")\n",
    "\n",
    "#\n",
    "# ----------- check that converting distance matrices to skbio.stats.distance.DistanceMatrices stil gives the same results\n",
    "#\n",
    "print('\\nChecking conversion to Distance Matrix...')\n",
    "w2v_distance_matrix_fl  = w2v_euc_dist_matrix.astype(np.float64)\n",
    "w2v_vocab_np            = np.array(w2v_vocab)\n",
    "evo_vocab_np            = np.array(evo_vocab)\n",
    "            \n",
    "# not entirely sure I need new matrices as already have one\n",
    "w2v_dist_matrix_new = DistanceMatrix(w2v_distance_matrix_fl, ids=w2v_vocab_np)\n",
    "evo_dist_matrix_new = DistanceMatrix(evo_dist_matrix, ids=evo_vocab_np)\n",
    "\n",
    "print(' - w2v old v new:', w2v_distance_matrix_fl[rnd_pfam_1_idx, rnd_pfam_2_idx], ':', w2v_dist_matrix_new.data[rnd_pfam_1_idx, rnd_pfam_2_idx])\n",
    "print(' - evo old v new:', evo_dist_matrix[rnd_pfam_1_idx, rnd_pfam_2_idx], ':', evo_dist_matrix_new.data[rnd_pfam_1_idx, rnd_pfam_2_idx])\n"
   ]
  },
  {
   "cell_type": "code",
   "execution_count": 7,
   "metadata": {},
   "outputs": [
    {
     "name": "stdout",
     "output_type": "stream",
     "text": [
      "\n",
      "Checking if I reduce the size of the Evo Matrix, does it keep things in order...\n",
      " - Current matrix shapes. \t w2v: (15485, 15485) evo : (20651, 20651)\n",
      " - New matrix shapes. \t w2v: (15040, 15040) evo : (15040, 15040)\n"
     ]
    },
    {
     "data": {
      "text/plain": [
       "'\\ncorrcoeff = np.corrcoef(new_evo, new_w2v)\\nprint(corrcoeff)\\n'"
      ]
     },
     "execution_count": 7,
     "metadata": {},
     "output_type": "execute_result"
    }
   ],
   "source": [
    "# ---------------------------------------------------------------------------------------------\n",
    "#           Check if resizing matrices has any impact\n",
    "#\n",
    "# 17 Sept 2024 : They work as expected\n",
    "# ---------------------------------------------------------------------------------------------\n",
    "\n",
    "\n",
    "print('\\nChecking if I reduce the size of the Evo Matrix, does it keep things in order...')\n",
    "print(f\" - Current matrix shapes. \\t w2v: {w2v_distance_matrix_fl.shape} evo : {evo_dist_matrix.shape}\")\n",
    "\n",
    "try:\n",
    "    # create a new evo matrix to only have the pfams that it shares with the w2v one\n",
    "    new_evo         = evo_dist_matrix_new.filter(w2v_vocab_np, False)\n",
    "    new_evo_ids     = new_evo.ids\n",
    "    # create a new w2v matrix to only have the pfams that it shares with the new evo one!\n",
    "    new_w2v         = w2v_dist_matrix_new.filter(new_evo_ids, False)\n",
    "    new_w2v_ids     = new_w2v.ids\n",
    "except Exception as e:\n",
    "    print('Error', e)\n",
    "\n",
    "print(f\" - New matrix shapes. \\t w2v: {new_w2v.shape} evo : {new_evo.shape}\")\n"
   ]
  },
  {
   "cell_type": "code",
   "execution_count": 14,
   "metadata": {},
   "outputs": [
    {
     "name": "stdout",
     "output_type": "stream",
     "text": [
      "Checking that positions in vocabs are the same.\n",
      " -  PF00939 PF00939\n",
      " -  PF11627 PF11627\n",
      "\n",
      "Random pfams to compare : PF00939 PF11627\n",
      " - dist entry in orig w2v matrix : 11.363613\n",
      " - dist entry in new w2v matrix : 11.36361312866211\n",
      " - dist entry in orig evo matrix : 0.9703947368421053\n",
      " - dist entry in new evo matrix : 0.9703947368421053\n"
     ]
    },
    {
     "data": {
      "text/plain": [
       "\"\\nprint(new_evo.data.shape)\\nprint(new_w2v.data.shape)\\n\\nprint(new_evo[idx_1, idx_2])\\nprint(new_w2v[idx_1, idx_2])\\n\\n\\nfrom scipy.spatial.distance import is_valid_dm\\nprint(is_valid_dm(new_evo))\\nprint(is_valid_dm(new_w2v))\\n\\n#correlation = correlation(new_evo, new_w2v)\\n#print(correlation)\\n\\n# the matrix is actually stored in the data attribute of Distance Matrix\\ntry:\\n    corrcoeff = np.corrcoef(new_evo.data, new_w2v.data)\\n    mean_corr = np.mean(corrcoeff)\\n    print(mean_corr)\\nexcept Exception as e:\\n    print('Error ', e)\\n    \""
      ]
     },
     "execution_count": 14,
     "metadata": {},
     "output_type": "execute_result"
    }
   ],
   "source": [
    "# ---------------------------------------------------------------------------------------------\n",
    "#           Check that distances are stil correct based upon re-ordered matrices\n",
    "#\n",
    "# 17 Sept 2024 : They work as expected\n",
    "# ---------------------------------------------------------------------------------------------\n",
    "\n",
    "idx_1 = random.randint(0, len(new_w2v_ids))\n",
    "idx_2 = random.randint(0, len(new_w2v_ids))\n",
    "\n",
    "# the position of pfam ids should be the same\n",
    "print('Checking that positions in vocabs are the same.')\n",
    "print(' - ', new_w2v_ids[idx_1], new_evo_ids[idx_1])\n",
    "print(' - ', new_w2v_ids[idx_2], new_evo_ids[idx_2])\n",
    "\n",
    "pf_1 = new_w2v_ids[idx_1]\n",
    "pf_2 = new_evo_ids[idx_2]\n",
    "\n",
    "print('\\nRandom pfams to compare :',pf_1, pf_2)\n",
    "\n",
    "# find indices of pfam items in original matrices and their distance entries\n",
    "orig_w2v_idx_1 = w2v_vocab.index(pf_1)\n",
    "orig_w2v_idx_2 = w2v_vocab.index(pf_2)\n",
    "orig_evo_idx_1 = evo_vocab.index(pf_1)\n",
    "orig_evo_idx_2 = evo_vocab.index(pf_2)\n",
    "\n",
    "orig_w2v_dist  = w2v_euc_dist_matrix[orig_w2v_idx_1, orig_w2v_idx_2]\n",
    "orig_evo_dist   = evo_dist_matrix[orig_evo_idx_1, orig_evo_idx_2]\n",
    "\n",
    "print(' - dist entry in orig w2v matrix :', orig_w2v_dist)\n",
    "print(' - dist entry in new w2v matrix :', new_w2v[idx_1, idx_2])\n",
    "\n",
    "print(' - dist entry in orig evo matrix :', orig_evo_dist)\n",
    "print(' - dist entry in new evo matrix :', new_evo[idx_1, idx_2])\n",
    "\n",
    "\n",
    "\n",
    "\n",
    "'''\n",
    "print(new_evo.data.shape)\n",
    "print(new_w2v.data.shape)\n",
    "\n",
    "print(new_evo[idx_1, idx_2])\n",
    "print(new_w2v[idx_1, idx_2])\n",
    "\n",
    "\n",
    "from scipy.spatial.distance import is_valid_dm\n",
    "print(is_valid_dm(new_evo))\n",
    "print(is_valid_dm(new_w2v))\n",
    "\n",
    "#correlation = correlation(new_evo, new_w2v)\n",
    "#print(correlation)\n",
    "\n",
    "# the matrix is actually stored in the data attribute of Distance Matrix\n",
    "try:\n",
    "    corrcoeff = np.corrcoef(new_evo.data, new_w2v.data)\n",
    "    mean_corr = np.mean(corrcoeff)\n",
    "    print(mean_corr)\n",
    "except Exception as e:\n",
    "    print('Error ', e)\n",
    "    '''\n"
   ]
  },
  {
   "cell_type": "markdown",
   "metadata": {},
   "source": [
    "### Matrix Correlations"
   ]
  },
  {
   "cell_type": "code",
   "execution_count": 20,
   "metadata": {},
   "outputs": [
    {
     "name": "stdout",
     "output_type": "stream",
     "text": [
      "\n",
      "Converting to Distance Matrix ahead of correlation and distance calculations...\n",
      " - Current matrix shapes. \t w2v: (15485, 15485) evo : (20651, 20651)\n",
      " - New matrix shapes. \t w2v: (15040, 15040) evo : (15040, 15040)\n"
     ]
    }
   ],
   "source": [
    "# ---------------------------------------------------------------------------------------------\n",
    "#           Perform simple matrix correlation\n",
    "#\n",
    "# 17 Sept 2024 : \n",
    "# ---------------------------------------------------------------------------------------------\n",
    "\n",
    "# To get the correlation need to work with normalised distance matrices\n",
    "# w2v_euc_dist_matrix_n, w2v_cos_dist_matrix_n\n",
    "\n",
    "#\n",
    "# -------------------------- Convert normalised w2v and evo to scikitbio.DistanceMatrix -------------------\n",
    "#\n",
    "from skbio.stats.distance import DistanceMatrix\n",
    "\n",
    "print('\\nConverting to Distance Matrix ahead of correlation and distance calculations...')\n",
    "w2v_euc_dist_matrix_n_fl   = w2v_euc_dist_matrix_n.astype(np.float64)\n",
    "\n",
    "w2v_vocab_np            = np.array(w2v_vocab)\n",
    "evo_vocab_np            = np.array(evo_vocab)\n",
    "            \n",
    "# Convert existing matrices to DistanceMatrix\n",
    "w2v_dist_matrix_new = DistanceMatrix(w2v_euc_dist_matrix_n_fl, ids=w2v_vocab_np)\n",
    "evo_dist_matrix_new = DistanceMatrix(evo_dist_matrix, ids=evo_vocab_np)\n",
    "\n",
    "#\n",
    "# ------------------ Modify to have only shared pfam ids (have checked above that this works) -------------------\n",
    "#\n",
    "print(f\" - Current matrix shapes. \\t w2v: {w2v_distance_matrix_fl.shape} evo : {evo_dist_matrix.shape}\")\n",
    "\n",
    "try:\n",
    "    # create a new evo matrix to only have the pfams that it shares with the w2v one\n",
    "    new_evo         = evo_dist_matrix_new.filter(w2v_vocab_np, False)\n",
    "    new_evo_ids     = new_evo.ids\n",
    "    # create a new w2v matrix to only have the pfams that it shares with the new evo one!\n",
    "    new_w2v         = w2v_dist_matrix_new.filter(new_evo_ids, False)\n",
    "    new_w2v_ids     = new_w2v.ids\n",
    "except Exception as e:\n",
    "    print('Error', e)\n",
    "\n",
    "print(f\" - New matrix shapes. \\t w2v: {new_w2v.shape} evo : {new_evo.shape}\")"
   ]
  },
  {
   "cell_type": "code",
   "execution_count": 16,
   "metadata": {},
   "outputs": [
    {
     "name": "stdout",
     "output_type": "stream",
     "text": [
      "0.3481976741193307\n"
     ]
    }
   ],
   "source": [
    "# With new matrices, can get the correlations\n",
    "try:\n",
    "    corrcoeff = np.corrcoef(new_w2v.data, new_evo.data)\n",
    "    mean_corr = np.mean(corrcoeff)\n",
    "    print(mean_corr)\n",
    "except Exception as e:\n",
    "    print('Error ', e)"
   ]
  },
  {
   "cell_type": "code",
   "execution_count": 50,
   "metadata": {},
   "outputs": [
    {
     "name": "stdout",
     "output_type": "stream",
     "text": [
      "113093280 113093280\n",
      " - scipy correlation: 0.9562341407339019\n",
      " - scipy correlation (flat): 0.9544681116068903\n",
      "- mantel test corr : 0.0438 p_val : 0.0196 num: 15040.\n",
      "\n"
     ]
    }
   ],
   "source": [
    "# ---------------- Standard correlation comparison\n",
    "#\n",
    "# also try with scipy - need to extract data as 1D\n",
    "#\n",
    "from scipy.spatial.distance import correlation\n",
    "from skbio.stats.distance import mantel\n",
    "\n",
    "# extract in condesed form - basically a 1D array\n",
    "new_w2v_condensed = new_w2v.condensed_form()\n",
    "new_evo_condensed = new_evo.condensed_form()\n",
    "print(len(new_w2v_condensed), len(new_evo_condensed))\n",
    "my_correlation = correlation(new_w2v_condensed, new_evo_condensed)\n",
    "print(' - scipy correlation:', my_correlation)\n",
    "\n",
    "# flatten\n",
    "new_w2v_flat = new_w2v.data.flatten()\n",
    "new_evo_flat = new_evo.data.flatten()\n",
    "my_correlation_flat = correlation(new_w2v_flat, new_evo_flat)\n",
    "print(' - scipy correlation (flat):', my_correlation_flat)\n",
    "\n",
    "# mantel\n",
    "n=50\n",
    "corr_coeff, p_value, num = mantel(new_w2v, new_evo, permutations=n, strict=False)\n",
    "print(f\"- mantel test corr : {round(corr_coeff,4)} p_val : {round(p_value,4)} num: {num}.\\n\")"
   ]
  },
  {
   "cell_type": "code",
   "execution_count": 49,
   "metadata": {},
   "outputs": [
    {
     "name": "stdout",
     "output_type": "stream",
     "text": [
      "w2v shape: (15040, 15040)\n",
      "w2v condensed length: 113093280\n",
      "w2v flattened length: 226201600\n",
      "---------------------\n",
      "0.5567417740821838\n",
      "0.0\n",
      "0.0\n",
      "---------------------\n",
      "0.5567417740821838\n",
      "0.5567417740821838\n",
      "0.5567417740821838\n",
      "---------------------\n",
      "0.5339210629463196\n",
      "0.5339210629463196\n",
      "0.5339210629463196\n",
      "---------------------\n",
      "0.4893765151500702\n",
      "0.4893765151500702\n",
      "0.4893765151500702\n",
      "---------------------\n",
      "0.3729321360588074\n",
      "0.3729321360588074\n",
      "0.3729321360588074\n",
      "---------------------\n",
      "0.48700857162475586\n",
      "0.4913928806781769\n",
      "0.4821048676967621\n",
      "0.4885183274745941\n",
      "0.3729321360588074\n",
      "0.3890213072299957\n",
      "0.5567417740821838\n",
      "0.5567417740821838\n"
     ]
    }
   ],
   "source": [
    "# condensing the matrix reoves the diagonals and only takes the upper (or lower triangle)\n",
    "# flattening it flattens the entire matrix and returns all variables\n",
    "\n",
    "print('w2v shape:', new_w2v.data.shape)\n",
    "print('w2v condensed length:', len(new_w2v_condensed))\n",
    "print('w2v flattened length:', len(new_w2v_flat))\n",
    "\n",
    "print('---------------------')\n",
    "print(new_w2v_condensed[0])\n",
    "print(new_w2v_flat[0])\n",
    "print(new_w2v[0,0])\n",
    "\n",
    "print('---------------------')\n",
    "print(new_w2v_condensed[0])\n",
    "print(new_w2v_flat[1])\n",
    "print(new_w2v[0,1])\n",
    "\n",
    "print('---------------------')\n",
    "print(new_w2v_condensed[1])\n",
    "print(new_w2v_flat[2])\n",
    "print(new_w2v[0,2])\n",
    "\n",
    "print('---------------------')\n",
    "print(new_w2v_condensed[15029])\n",
    "print(new_w2v_flat[15030])\n",
    "print(new_w2v[0,15030])\n",
    "\n",
    "print('---------------------')\n",
    "print(new_w2v_condensed[15039])\n",
    "print(new_w2v_flat[15042])\n",
    "print(new_w2v[1,2])\n",
    "\n",
    "print('---------------------')\n",
    "print(new_w2v_condensed[15035])\n",
    "print(new_w2v_condensed[15036])\n",
    "print(new_w2v_condensed[15037])\n",
    "print(new_w2v_condensed[15038])\n",
    "print(new_w2v_condensed[15039])\n",
    "print(new_w2v_condensed[15040])\n",
    "print(new_w2v_flat[15040])\n",
    "print(new_w2v[1,0])"
   ]
  },
  {
   "cell_type": "code",
   "execution_count": 21,
   "metadata": {},
   "outputs": [
    {
     "name": "stdout",
     "output_type": "stream",
     "text": [
      "- mantel test corr : 0.0438 p_val : 0.0196 num: 15040.\n",
      "\n"
     ]
    }
   ],
   "source": [
    "# -------------- Mantel test comparision\n",
    "from skbio.stats.distance import mantel\n",
    "\n",
    "n=50\n",
    "corr_coeff, p_value, num = mantel(new_w2v, new_evo, permutations=n, strict=False)\n",
    "\n",
    "print(f\"- mantel test corr : {round(corr_coeff,4)} p_val : {round(p_value,4)} num: {num}.\\n\")\n"
   ]
  },
  {
   "cell_type": "code",
   "execution_count": null,
   "metadata": {},
   "outputs": [],
   "source": []
  },
  {
   "cell_type": "markdown",
   "metadata": {},
   "source": [
    "### Try to resize randrep"
   ]
  },
  {
   "cell_type": "code",
   "execution_count": 43,
   "metadata": {},
   "outputs": [],
   "source": [
    "w2v_distance_matrix_fl = euclidean_distance_matrix.astype(np.float64)\n",
    "w2v_vocab_np = np.array(w2v_vocab)\n",
    "evo_vocab_np = np.array(evo_vocab)\n",
    "            \n",
    "# not entirely sure I need new matrices as alreaady have one\n",
    "w2v_dist_matrix = DistanceMatrix(w2v_distance_matrix_fl, ids=w2v_vocab_np)\n",
    "evo_dist_matrix = DistanceMatrix(evo_dist_matrix, ids=evo_vocab_np)"
   ]
  },
  {
   "cell_type": "code",
   "execution_count": null,
   "metadata": {},
   "outputs": [],
   "source": []
  },
  {
   "cell_type": "code",
   "execution_count": null,
   "metadata": {},
   "outputs": [],
   "source": []
  },
  {
   "cell_type": "markdown",
   "metadata": {},
   "source": [
    "## --------- OLDER STUFF"
   ]
  },
  {
   "cell_type": "code",
   "execution_count": 4,
   "metadata": {},
   "outputs": [
    {
     "name": "stdout",
     "output_type": "stream",
     "text": [
      "Model Path: /Users/patrick/dev/ucl/word2vec/comp_0158_msc_project/data/models/skip/w2v_20240912_skip_mc8_w13_v50.model, \tModel name: w2v_20240912_skip_mc8_w13_v50, Extension: .model\n",
      "Model Path: /Users/patrick/dev/ucl/word2vec/comp_0158_msc_project/data/models/skip/w2v_20240911_sg1_mc1_w8_v25.model, \tModel name: w2v_20240911_sg1_mc1_w8_v25, Extension: .model\n",
      "Model Path: /Users/patrick/dev/ucl/word2vec/comp_0158_msc_project/data/models/skip/w2v_20240912_skip_mc8_w13_v5.model, \tModel name: w2v_20240912_skip_mc8_w13_v5, Extension: .model\n",
      "Model Path: /Users/patrick/dev/ucl/word2vec/comp_0158_msc_project/data/models/skip/w2v_20240910_sg1_mc8_w44_v5.model, \tModel name: w2v_20240910_sg1_mc8_w44_v5, Extension: .model\n",
      "Model Path: /Users/patrick/dev/ucl/word2vec/comp_0158_msc_project/data/models/skip/w2v_20240912_skip_mc8_w21_v10.model, \tModel name: w2v_20240912_skip_mc8_w21_v10, Extension: .model\n",
      "Model Path: /Users/patrick/dev/ucl/word2vec/comp_0158_msc_project/data/models/skip/w2v_20240911_skip_mc5_w3_v5.model, \tModel name: w2v_20240911_skip_mc5_w3_v5, Extension: .model\n",
      "Model Path: /Users/patrick/dev/ucl/word2vec/comp_0158_msc_project/data/models/skip/w2v_20240910_sg1_mc3_w5_v50.model, \tModel name: w2v_20240910_sg1_mc3_w5_v50, Extension: .model\n",
      "Model Path: /Users/patrick/dev/ucl/word2vec/comp_0158_msc_project/data/models/skip/w2v_20240911_skip_mc5_w8_v50.model, \tModel name: w2v_20240911_skip_mc5_w8_v50, Extension: .model\n",
      "Model Path: /Users/patrick/dev/ucl/word2vec/comp_0158_msc_project/data/models/skip/w2v_20240912_skip_mc8_w5_v5.model, \tModel name: w2v_20240912_skip_mc8_w5_v5, Extension: .model\n",
      "Model Path: /Users/patrick/dev/ucl/word2vec/comp_0158_msc_project/data/models/skip/w2v_20240911_skip_mc5_w21_v50.model, \tModel name: w2v_20240911_skip_mc5_w21_v50, Extension: .model\n",
      "Model Path: /Users/patrick/dev/ucl/word2vec/comp_0158_msc_project/data/models/skip/w2v_20240910_sg1_mc8_w44_v10.model, \tModel name: w2v_20240910_sg1_mc8_w44_v10, Extension: .model\n",
      "Model Path: /Users/patrick/dev/ucl/word2vec/comp_0158_msc_project/data/models/skip/w2v_20240911_sg1_mc1_w5_v25.model, \tModel name: w2v_20240911_sg1_mc1_w5_v25, Extension: .model\n",
      "Model Path: /Users/patrick/dev/ucl/word2vec/comp_0158_msc_project/data/models/skip/w2v_20240911_skip_mc5_w13_v10.model, \tModel name: w2v_20240911_skip_mc5_w13_v10, Extension: .model\n",
      "Model Path: /Users/patrick/dev/ucl/word2vec/comp_0158_msc_project/data/models/skip/w2v_20240911_skip_mc5_w8_v5.model, \tModel name: w2v_20240911_skip_mc5_w8_v5, Extension: .model\n",
      "Model Path: /Users/patrick/dev/ucl/word2vec/comp_0158_msc_project/data/models/skip/w2v_20240910_sg1_mc3_w13_v25.model, \tModel name: w2v_20240910_sg1_mc3_w13_v25, Extension: .model\n",
      "Model Path: /Users/patrick/dev/ucl/word2vec/comp_0158_msc_project/data/models/skip/w2v_20240911_skip_mc5_w5_v50.model, \tModel name: w2v_20240911_skip_mc5_w5_v50, Extension: .model\n",
      "Model Path: /Users/patrick/dev/ucl/word2vec/comp_0158_msc_project/data/models/skip/w2v_20240910_sg1_mc3_w8_v50.model, \tModel name: w2v_20240910_sg1_mc3_w8_v50, Extension: .model\n",
      "Model Path: /Users/patrick/dev/ucl/word2vec/comp_0158_msc_project/data/models/skip/w2v_20240911_sg1_mc1_w21_v5.model, \tModel name: w2v_20240911_sg1_mc1_w21_v5, Extension: .model\n",
      "Model Path: /Users/patrick/dev/ucl/word2vec/comp_0158_msc_project/data/models/skip/w2v_20240911_skip_mc8_w3_v10.model, \tModel name: w2v_20240911_skip_mc8_w3_v10, Extension: .model\n",
      "Model Path: /Users/patrick/dev/ucl/word2vec/comp_0158_msc_project/data/models/skip/w2v_20240910_sg1_mc3_w5_v5.model, \tModel name: w2v_20240910_sg1_mc3_w5_v5, Extension: .model\n",
      "Model Path: /Users/patrick/dev/ucl/word2vec/comp_0158_msc_project/data/models/skip/w2v_20240910_sg1_mc3_w3_v50.model, \tModel name: w2v_20240910_sg1_mc3_w3_v50, Extension: .model\n",
      "Model Path: /Users/patrick/dev/ucl/word2vec/comp_0158_msc_project/data/models/skip/w2v_20240911_skip_mc1_w44_v50.model, \tModel name: w2v_20240911_skip_mc1_w44_v50, Extension: .model\n",
      "Model Path: /Users/patrick/dev/ucl/word2vec/comp_0158_msc_project/data/models/skip/w2v_20240911_skip_mc5_w44_v50.model, \tModel name: w2v_20240911_skip_mc5_w44_v50, Extension: .model\n",
      "Model Path: /Users/patrick/dev/ucl/word2vec/comp_0158_msc_project/data/models/skip/w2v_20240911_sg1_mc1_w21_v25.model, \tModel name: w2v_20240911_sg1_mc1_w21_v25, Extension: .model\n",
      "Model Path: /Users/patrick/dev/ucl/word2vec/comp_0158_msc_project/data/models/skip/w2v_20240911_skip_mc5_w3_v50.model, \tModel name: w2v_20240911_skip_mc5_w3_v50, Extension: .model\n",
      "Model Path: /Users/patrick/dev/ucl/word2vec/comp_0158_msc_project/data/models/skip/w2v_20240910_sg1_mc8_w44_v100.model, \tModel name: w2v_20240910_sg1_mc8_w44_v100, Extension: .model\n",
      "Model Path: /Users/patrick/dev/ucl/word2vec/comp_0158_msc_project/data/models/skip/w2v_20240911_sg1_mc1_w3_v25.model, \tModel name: w2v_20240911_sg1_mc1_w3_v25, Extension: .model\n",
      "Model Path: /Users/patrick/dev/ucl/word2vec/comp_0158_msc_project/data/models/skip/w2v_20240910_sg1_mc3_w3_v5.model, \tModel name: w2v_20240910_sg1_mc3_w3_v5, Extension: .model\n",
      "Model Path: /Users/patrick/dev/ucl/word2vec/comp_0158_msc_project/data/models/skip/w2v_20240911_skip_mc5_w44_v10.model, \tModel name: w2v_20240911_skip_mc5_w44_v10, Extension: .model\n",
      "Model Path: /Users/patrick/dev/ucl/word2vec/comp_0158_msc_project/data/models/skip/w2v_20240910_sg1_mc3_w44_v25.model, \tModel name: w2v_20240910_sg1_mc3_w44_v25, Extension: .model\n",
      "Model Path: /Users/patrick/dev/ucl/word2vec/comp_0158_msc_project/data/models/skip/w2v_20240911_skip_mc5_w44_v5.model, \tModel name: w2v_20240911_skip_mc5_w44_v5, Extension: .model\n",
      "Model Path: /Users/patrick/dev/ucl/word2vec/comp_0158_msc_project/data/models/skip/w2v_20240911_skip_mc1_w44_v10.model, \tModel name: w2v_20240911_skip_mc1_w44_v10, Extension: .model\n",
      "Model Path: /Users/patrick/dev/ucl/word2vec/comp_0158_msc_project/data/models/skip/w2v_20240910_sg1_mc3_w3_v10.model, \tModel name: w2v_20240910_sg1_mc3_w3_v10, Extension: .model\n",
      "Model Path: /Users/patrick/dev/ucl/word2vec/comp_0158_msc_project/data/models/skip/w2v_20240911_skip_mc8_w3_v50.model, \tModel name: w2v_20240911_skip_mc8_w3_v50, Extension: .model\n",
      "Model Path: /Users/patrick/dev/ucl/word2vec/comp_0158_msc_project/data/models/skip/w2v_20240910_sg1_mc3_w44_v5.model, \tModel name: w2v_20240910_sg1_mc3_w44_v5, Extension: .model\n",
      "Model Path: /Users/patrick/dev/ucl/word2vec/comp_0158_msc_project/data/models/skip/w2v_20240910_sg1_mc3_w8_v5.model, \tModel name: w2v_20240910_sg1_mc3_w8_v5, Extension: .model\n",
      "Model Path: /Users/patrick/dev/ucl/word2vec/comp_0158_msc_project/data/models/skip/w2v_20240911_sg1_mc1_w13_v25.model, \tModel name: w2v_20240911_sg1_mc1_w13_v25, Extension: .model\n",
      "Model Path: /Users/patrick/dev/ucl/word2vec/comp_0158_msc_project/data/models/skip/w2v_20240911_skip_mc5_w3_v10.model, \tModel name: w2v_20240911_skip_mc5_w3_v10, Extension: .model\n",
      "Model Path: /Users/patrick/dev/ucl/word2vec/comp_0158_msc_project/data/models/skip/w2v_20240910_sg1_mc3_w5_v10.model, \tModel name: w2v_20240910_sg1_mc3_w5_v10, Extension: .model\n",
      "Model Path: /Users/patrick/dev/ucl/word2vec/comp_0158_msc_project/data/models/skip/w2v_20240911_sg1_mc1_w13_v5.model, \tModel name: w2v_20240911_sg1_mc1_w13_v5, Extension: .model\n",
      "Model Path: /Users/patrick/dev/ucl/word2vec/comp_0158_msc_project/data/models/skip/w2v_20240911_skip_mc5_w8_v10.model, \tModel name: w2v_20240911_skip_mc5_w8_v10, Extension: .model\n",
      "Model Path: /Users/patrick/dev/ucl/word2vec/comp_0158_msc_project/data/models/skip/w2v_20240912_skip_mc8_w21_v50.model, \tModel name: w2v_20240912_skip_mc8_w21_v50, Extension: .model\n",
      "Model Path: /Users/patrick/dev/ucl/word2vec/comp_0158_msc_project/data/models/skip/w2v_20240912_skip_mc8_w8_v25.model, \tModel name: w2v_20240912_skip_mc8_w8_v25, Extension: .model\n",
      "Model Path: /Users/patrick/dev/ucl/word2vec/comp_0158_msc_project/data/models/skip/w2v_20240911_skip_mc5_w5_v5.model, \tModel name: w2v_20240911_skip_mc5_w5_v5, Extension: .model\n",
      "Model Path: /Users/patrick/dev/ucl/word2vec/comp_0158_msc_project/data/models/skip/w2v_20240912_skip_mc8_w13_v10.model, \tModel name: w2v_20240912_skip_mc8_w13_v10, Extension: .model\n",
      "Model Path: /Users/patrick/dev/ucl/word2vec/comp_0158_msc_project/data/models/skip/w2v_20240911_skip_mc5_w5_v10.model, \tModel name: w2v_20240911_skip_mc5_w5_v10, Extension: .model\n",
      "Model Path: /Users/patrick/dev/ucl/word2vec/comp_0158_msc_project/data/models/skip/w2v_20240910_sg1_mc3_w8_v10.model, \tModel name: w2v_20240910_sg1_mc3_w8_v10, Extension: .model\n",
      "Model Path: /Users/patrick/dev/ucl/word2vec/comp_0158_msc_project/data/models/skip/w2v_20240911_skip_mc5_w13_v50.model, \tModel name: w2v_20240911_skip_mc5_w13_v50, Extension: .model\n",
      "Model Path: /Users/patrick/dev/ucl/word2vec/comp_0158_msc_project/data/models/skip/w2v_20240912_skip_mc8_w5_v25.model, \tModel name: w2v_20240912_skip_mc8_w5_v25, Extension: .model\n",
      "Model Path: /Users/patrick/dev/ucl/word2vec/comp_0158_msc_project/data/models/skip/w2v_20240912_skip_mc8_w21_v5.model, \tModel name: w2v_20240912_skip_mc8_w21_v5, Extension: .model\n",
      "Model Path: /Users/patrick/dev/ucl/word2vec/comp_0158_msc_project/data/models/skip/w2v_20240912_skip_mc8_w8_v5.model, \tModel name: w2v_20240912_skip_mc8_w8_v5, Extension: .model\n",
      "Model Path: /Users/patrick/dev/ucl/word2vec/comp_0158_msc_project/data/models/skip/w2v_20240910_sg1_mc3_w21_v25.model, \tModel name: w2v_20240910_sg1_mc3_w21_v25, Extension: .model\n",
      "Model Path: /Users/patrick/dev/ucl/word2vec/comp_0158_msc_project/data/models/skip/w2v_20240911_skip_mc5_w21_v10.model, \tModel name: w2v_20240911_skip_mc5_w21_v10, Extension: .model\n",
      "Model Path: /Users/patrick/dev/ucl/word2vec/comp_0158_msc_project/data/models/skip/w2v_20240910_sg1_mc8_w44_v50.model, \tModel name: w2v_20240910_sg1_mc8_w44_v50, Extension: .model\n",
      "Model Path: /Users/patrick/dev/ucl/word2vec/comp_0158_msc_project/data/models/skip/w2v_20240911_skip_mc5_w44_v25.model, \tModel name: w2v_20240911_skip_mc5_w44_v25, Extension: .model\n",
      "Model Path: /Users/patrick/dev/ucl/word2vec/comp_0158_msc_project/data/models/skip/w2v_20240910_sg1_mc3_w44_v10.model, \tModel name: w2v_20240910_sg1_mc3_w44_v10, Extension: .model\n",
      "Model Path: /Users/patrick/dev/ucl/word2vec/comp_0158_msc_project/data/models/skip/w2v_20240911_skip_mc1_w44_v25.model, \tModel name: w2v_20240911_skip_mc1_w44_v25, Extension: .model\n",
      "Model Path: /Users/patrick/dev/ucl/word2vec/comp_0158_msc_project/data/models/skip/w2v_20240910_sg1_mc3_w3_v25.model, \tModel name: w2v_20240910_sg1_mc3_w3_v25, Extension: .model\n",
      "Model Path: /Users/patrick/dev/ucl/word2vec/comp_0158_msc_project/data/models/skip/w2v_20240911_skip_mc1_w44_v5.model, \tModel name: w2v_20240911_skip_mc1_w44_v5, Extension: .model\n",
      "Model Path: /Users/patrick/dev/ucl/word2vec/comp_0158_msc_project/data/models/skip/w2v_20240911_sg1_mc1_w3_v5.model, \tModel name: w2v_20240911_sg1_mc1_w3_v5, Extension: .model\n",
      "Model Path: /Users/patrick/dev/ucl/word2vec/comp_0158_msc_project/data/models/skip/w2v_20240911_sg1_mc1_w3_v50.model, \tModel name: w2v_20240911_sg1_mc1_w3_v50, Extension: .model\n",
      "Model Path: /Users/patrick/dev/ucl/word2vec/comp_0158_msc_project/data/models/skip/w2v_20240911_skip_mc8_w3_v5.model, \tModel name: w2v_20240911_skip_mc8_w3_v5, Extension: .model\n",
      "Model Path: /Users/patrick/dev/ucl/word2vec/comp_0158_msc_project/data/models/skip/w2v_20240911_sg1_mc1_w13_v10.model, \tModel name: w2v_20240911_sg1_mc1_w13_v10, Extension: .model\n",
      "Model Path: /Users/patrick/dev/ucl/word2vec/comp_0158_msc_project/data/models/skip/w2v_20240911_skip_mc5_w3_v25.model, \tModel name: w2v_20240911_skip_mc5_w3_v25, Extension: .model\n",
      "Model Path: /Users/patrick/dev/ucl/word2vec/comp_0158_msc_project/data/models/skip/w2v_20240911_sg1_mc1_w8_v5.model, \tModel name: w2v_20240911_sg1_mc1_w8_v5, Extension: .model\n",
      "Model Path: /Users/patrick/dev/ucl/word2vec/comp_0158_msc_project/data/models/skip/w2v_20240911_sg1_mc1_w21_v50.model, \tModel name: w2v_20240911_sg1_mc1_w21_v50, Extension: .model\n",
      "Model Path: /Users/patrick/dev/ucl/word2vec/comp_0158_msc_project/data/models/skip/w2v_20240911_skip_mc5_w8_v25.model, \tModel name: w2v_20240911_skip_mc5_w8_v25, Extension: .model\n",
      "Model Path: /Users/patrick/dev/ucl/word2vec/comp_0158_msc_project/data/models/skip/w2v_20240910_sg1_mc3_w5_v25.model, \tModel name: w2v_20240910_sg1_mc3_w5_v25, Extension: .model\n",
      "Model Path: /Users/patrick/dev/ucl/word2vec/comp_0158_msc_project/data/models/skip/w2v_20240912_skip_mc8_w8_v10.model, \tModel name: w2v_20240912_skip_mc8_w8_v10, Extension: .model\n",
      "Model Path: /Users/patrick/dev/ucl/word2vec/comp_0158_msc_project/data/models/skip/w2v_20240912_skip_mc8_w13_v25.model, \tModel name: w2v_20240912_skip_mc8_w13_v25, Extension: .model\n",
      "Model Path: /Users/patrick/dev/ucl/word2vec/comp_0158_msc_project/data/models/skip/w2v_20240911_sg1_mc1_w8_v50.model, \tModel name: w2v_20240911_sg1_mc1_w8_v50, Extension: .model\n",
      "Model Path: /Users/patrick/dev/ucl/word2vec/comp_0158_msc_project/data/models/skip/w2v_20240910_sg1_mc3_w21_v5.model, \tModel name: w2v_20240910_sg1_mc3_w21_v5, Extension: .model\n",
      "Model Path: /Users/patrick/dev/ucl/word2vec/comp_0158_msc_project/data/models/skip/w2v_20240910_sg1_mc3_w8_v25.model, \tModel name: w2v_20240910_sg1_mc3_w8_v25, Extension: .model\n",
      "Model Path: /Users/patrick/dev/ucl/word2vec/comp_0158_msc_project/data/models/skip/w2v_20240911_skip_mc5_w5_v25.model, \tModel name: w2v_20240911_skip_mc5_w5_v25, Extension: .model\n",
      "Model Path: /Users/patrick/dev/ucl/word2vec/comp_0158_msc_project/data/models/skip/w2v_20240910_sg1_mc3_w13_v50.model, \tModel name: w2v_20240910_sg1_mc3_w13_v50, Extension: .model\n",
      "Model Path: /Users/patrick/dev/ucl/word2vec/comp_0158_msc_project/data/models/skip/w2v_20240912_skip_mc8_w5_v10.model, \tModel name: w2v_20240912_skip_mc8_w5_v10, Extension: .model\n",
      "Model Path: /Users/patrick/dev/ucl/word2vec/comp_0158_msc_project/data/models/skip/w2v_20240910_sg1_mc3_w21_v10.model, \tModel name: w2v_20240910_sg1_mc3_w21_v10, Extension: .model\n",
      "Model Path: /Users/patrick/dev/ucl/word2vec/comp_0158_msc_project/data/models/skip/w2v_20240911_skip_mc5_w21_v25.model, \tModel name: w2v_20240911_skip_mc5_w21_v25, Extension: .model\n",
      "Model Path: /Users/patrick/dev/ucl/word2vec/comp_0158_msc_project/data/models/skip/w2v_20240911_sg1_mc1_w5_v50.model, \tModel name: w2v_20240911_sg1_mc1_w5_v50, Extension: .model\n",
      "Model Path: /Users/patrick/dev/ucl/word2vec/comp_0158_msc_project/data/models/skip/w2v_20240911_skip_mc5_w21_v5.model, \tModel name: w2v_20240911_skip_mc5_w21_v5, Extension: .model\n",
      "Model Path: /Users/patrick/dev/ucl/word2vec/comp_0158_msc_project/data/models/skip/w2v_20240911_skip_mc5_w13_v5.model, \tModel name: w2v_20240911_skip_mc5_w13_v5, Extension: .model\n",
      "Model Path: /Users/patrick/dev/ucl/word2vec/comp_0158_msc_project/data/models/skip/w2v_20240911_sg1_mc1_w8_v10.model, \tModel name: w2v_20240911_sg1_mc1_w8_v10, Extension: .model\n",
      "Model Path: /Users/patrick/dev/ucl/word2vec/comp_0158_msc_project/data/models/skip/w2v_20240912_skip_mc8_w21_v25.model, \tModel name: w2v_20240912_skip_mc8_w21_v25, Extension: .model\n",
      "Model Path: /Users/patrick/dev/ucl/word2vec/comp_0158_msc_project/data/models/skip/w2v_20240912_skip_mc8_w8_v50.model, \tModel name: w2v_20240912_skip_mc8_w8_v50, Extension: .model\n",
      "Model Path: /Users/patrick/dev/ucl/word2vec/comp_0158_msc_project/data/models/skip/w2v_20240910_sg1_mc8_w44_v25.model, \tModel name: w2v_20240910_sg1_mc8_w44_v25, Extension: .model\n",
      "Model Path: /Users/patrick/dev/ucl/word2vec/comp_0158_msc_project/data/models/skip/w2v_20240911_sg1_mc1_w5_v10.model, \tModel name: w2v_20240911_sg1_mc1_w5_v10, Extension: .model\n",
      "Model Path: /Users/patrick/dev/ucl/word2vec/comp_0158_msc_project/data/models/skip/w2v_20240910_sg1_mc3_w13_v5.model, \tModel name: w2v_20240910_sg1_mc3_w13_v5, Extension: .model\n",
      "Model Path: /Users/patrick/dev/ucl/word2vec/comp_0158_msc_project/data/models/skip/w2v_20240910_sg1_mc3_w21_v50.model, \tModel name: w2v_20240910_sg1_mc3_w21_v50, Extension: .model\n",
      "Model Path: /Users/patrick/dev/ucl/word2vec/comp_0158_msc_project/data/models/skip/w2v_20240911_skip_mc5_w13_v25.model, \tModel name: w2v_20240911_skip_mc5_w13_v25, Extension: .model\n",
      "Model Path: /Users/patrick/dev/ucl/word2vec/comp_0158_msc_project/data/models/skip/w2v_20240912_skip_mc8_w5_v50.model, \tModel name: w2v_20240912_skip_mc8_w5_v50, Extension: .model\n",
      "Model Path: /Users/patrick/dev/ucl/word2vec/comp_0158_msc_project/data/models/skip/w2v_20240910_sg1_mc3_w13_v10.model, \tModel name: w2v_20240910_sg1_mc3_w13_v10, Extension: .model\n",
      "Model Path: /Users/patrick/dev/ucl/word2vec/comp_0158_msc_project/data/models/skip/w2v_20240911_skip_mc8_w3_v25.model, \tModel name: w2v_20240911_skip_mc8_w3_v25, Extension: .model\n",
      "Model Path: /Users/patrick/dev/ucl/word2vec/comp_0158_msc_project/data/models/skip/w2v_20240910_sg1_mc3_w44_v50.model, \tModel name: w2v_20240910_sg1_mc3_w44_v50, Extension: .model\n",
      "Model Path: /Users/patrick/dev/ucl/word2vec/comp_0158_msc_project/data/models/skip/w2v_20240911_sg1_mc1_w5_v5.model, \tModel name: w2v_20240911_sg1_mc1_w5_v5, Extension: .model\n",
      "Model Path: /Users/patrick/dev/ucl/word2vec/comp_0158_msc_project/data/models/skip/w2v_20240911_sg1_mc1_w21_v10.model, \tModel name: w2v_20240911_sg1_mc1_w21_v10, Extension: .model\n",
      "Model Path: /Users/patrick/dev/ucl/word2vec/comp_0158_msc_project/data/models/skip/w2v_20240911_sg1_mc1_w3_v10.model, \tModel name: w2v_20240911_sg1_mc1_w3_v10, Extension: .model\n",
      "Model Path: /Users/patrick/dev/ucl/word2vec/comp_0158_msc_project/data/models/skip/w2v_20240911_sg1_mc1_w13_v50.model, \tModel name: w2v_20240911_sg1_mc1_w13_v50, Extension: .model\n",
      "Model Path: /Users/patrick/dev/ucl/word2vec/comp_0158_msc_project/data/models/cbow/w2v_20240911_cbow_mc8_w5_v5.model, \tModel name: w2v_20240911_cbow_mc8_w5_v5, Extension: .model\n",
      "Model Path: /Users/patrick/dev/ucl/word2vec/comp_0158_msc_project/data/models/cbow/w2v_20240911_cbow_mc8_w44_v10.model, \tModel name: w2v_20240911_cbow_mc8_w44_v10, Extension: .model\n",
      "Model Path: /Users/patrick/dev/ucl/word2vec/comp_0158_msc_project/data/models/cbow/w2v_20240911_cbow_mc8_w44_v5.model, \tModel name: w2v_20240911_cbow_mc8_w44_v5, Extension: .model\n",
      "Model Path: /Users/patrick/dev/ucl/word2vec/comp_0158_msc_project/data/models/cbow/w2v_20240911_cbow_mc3_w13_v25.model, \tModel name: w2v_20240911_cbow_mc3_w13_v25, Extension: .model\n",
      "Model Path: /Users/patrick/dev/ucl/word2vec/comp_0158_msc_project/data/models/cbow/w2v_20240911_cbow_mc5_w3_v50.model, \tModel name: w2v_20240911_cbow_mc5_w3_v50, Extension: .model\n",
      "Model Path: /Users/patrick/dev/ucl/word2vec/comp_0158_msc_project/data/models/cbow/w2v_20240911_cbow_mc3_w5_v50.model, \tModel name: w2v_20240911_cbow_mc3_w5_v50, Extension: .model\n",
      "Model Path: /Users/patrick/dev/ucl/word2vec/comp_0158_msc_project/data/models/cbow/w2v_20240911_cbow_mc1_w5_v5.model, \tModel name: w2v_20240911_cbow_mc1_w5_v5, Extension: .model\n",
      "Model Path: /Users/patrick/dev/ucl/word2vec/comp_0158_msc_project/data/models/cbow/w2v_20240911_cbow_mc5_w21_v50.model, \tModel name: w2v_20240911_cbow_mc5_w21_v50, Extension: .model\n",
      "Model Path: /Users/patrick/dev/ucl/word2vec/comp_0158_msc_project/data/models/cbow/w2v_20240911_cbow_mc1_w13_v10.model, \tModel name: w2v_20240911_cbow_mc1_w13_v10, Extension: .model\n",
      "Model Path: /Users/patrick/dev/ucl/word2vec/comp_0158_msc_project/data/models/cbow/w2v_20240911_cbow_mc8_w3_v10.model, \tModel name: w2v_20240911_cbow_mc8_w3_v10, Extension: .model\n",
      "Model Path: /Users/patrick/dev/ucl/word2vec/comp_0158_msc_project/data/models/cbow/w2v_20240911_cbow_mc5_w13_v10.model, \tModel name: w2v_20240911_cbow_mc5_w13_v10, Extension: .model\n",
      "Model Path: /Users/patrick/dev/ucl/word2vec/comp_0158_msc_project/data/models/cbow/w2v_20240911_cbow_mc1_w21_v50.model, \tModel name: w2v_20240911_cbow_mc1_w21_v50, Extension: .model\n",
      "Model Path: /Users/patrick/dev/ucl/word2vec/comp_0158_msc_project/data/models/cbow/w2v_20240911_cbow_mc3_w8_v50.model, \tModel name: w2v_20240911_cbow_mc3_w8_v50, Extension: .model\n",
      "Model Path: /Users/patrick/dev/ucl/word2vec/comp_0158_msc_project/data/models/cbow/w2v_20240911_cbow_mc1_w44_v50.model, \tModel name: w2v_20240911_cbow_mc1_w44_v50, Extension: .model\n",
      "Model Path: /Users/patrick/dev/ucl/word2vec/comp_0158_msc_project/data/models/cbow/w2v_20240911_cbow_mc8_w8_v10.model, \tModel name: w2v_20240911_cbow_mc8_w8_v10, Extension: .model\n",
      "Model Path: /Users/patrick/dev/ucl/word2vec/comp_0158_msc_project/data/models/cbow/w2v_20240911_cbow_mc3_w3_v50.model, \tModel name: w2v_20240911_cbow_mc3_w3_v50, Extension: .model\n",
      "Model Path: /Users/patrick/dev/ucl/word2vec/comp_0158_msc_project/data/models/cbow/w2v_20240911_cbow_mc5_w5_v50.model, \tModel name: w2v_20240911_cbow_mc5_w5_v50, Extension: .model\n",
      "Model Path: /Users/patrick/dev/ucl/word2vec/comp_0158_msc_project/data/models/cbow/w2v_20240911_cbow_mc5_w44_v50.model, \tModel name: w2v_20240911_cbow_mc5_w44_v50, Extension: .model\n",
      "Model Path: /Users/patrick/dev/ucl/word2vec/comp_0158_msc_project/data/models/cbow/w2v_20240911_cbow_mc8_w13_v50.model, \tModel name: w2v_20240911_cbow_mc8_w13_v50, Extension: .model\n",
      "Model Path: /Users/patrick/dev/ucl/word2vec/comp_0158_msc_project/data/models/cbow/w2v_20240911_cbow_mc8_w5_v10.model, \tModel name: w2v_20240911_cbow_mc8_w5_v10, Extension: .model\n",
      "Model Path: /Users/patrick/dev/ucl/word2vec/comp_0158_msc_project/data/models/cbow/w2v_20240911_cbow_mc1_w13_v5.model, \tModel name: w2v_20240911_cbow_mc1_w13_v5, Extension: .model\n",
      "Model Path: /Users/patrick/dev/ucl/word2vec/comp_0158_msc_project/data/models/cbow/w2v_20240911_cbow_mc5_w8_v50.model, \tModel name: w2v_20240911_cbow_mc5_w8_v50, Extension: .model\n",
      "Model Path: /Users/patrick/dev/ucl/word2vec/comp_0158_msc_project/data/models/cbow/w2v_20240911_cbow_mc8_w21_v10.model, \tModel name: w2v_20240911_cbow_mc8_w21_v10, Extension: .model\n",
      "Model Path: /Users/patrick/dev/ucl/word2vec/comp_0158_msc_project/data/models/cbow/w2v_20240911_cbow_mc1_w5_v25.model, \tModel name: w2v_20240911_cbow_mc1_w5_v25, Extension: .model\n",
      "Model Path: /Users/patrick/dev/ucl/word2vec/comp_0158_msc_project/data/models/cbow/w2v_20240911_cbow_mc5_w44_v10.model, \tModel name: w2v_20240911_cbow_mc5_w44_v10, Extension: .model\n",
      "Model Path: /Users/patrick/dev/ucl/word2vec/comp_0158_msc_project/data/models/cbow/w2v_20240911_cbow_mc1_w21_v5.model, \tModel name: w2v_20240911_cbow_mc1_w21_v5, Extension: .model\n",
      "Model Path: /Users/patrick/dev/ucl/word2vec/comp_0158_msc_project/data/models/cbow/w2v_20240911_cbow_mc3_w3_v10.model, \tModel name: w2v_20240911_cbow_mc3_w3_v10, Extension: .model\n",
      "Model Path: /Users/patrick/dev/ucl/word2vec/comp_0158_msc_project/data/models/cbow/w2v_20240911_cbow_mc5_w5_v10.model, \tModel name: w2v_20240911_cbow_mc5_w5_v10, Extension: .model\n",
      "Model Path: /Users/patrick/dev/ucl/word2vec/comp_0158_msc_project/data/models/cbow/w2v_20240911_cbow_mc1_w44_v10.model, \tModel name: w2v_20240911_cbow_mc1_w44_v10, Extension: .model\n",
      "Model Path: /Users/patrick/dev/ucl/word2vec/comp_0158_msc_project/data/models/cbow/w2v_20240911_cbow_mc8_w8_v50.model, \tModel name: w2v_20240911_cbow_mc8_w8_v50, Extension: .model\n",
      "Model Path: /Users/patrick/dev/ucl/word2vec/comp_0158_msc_project/data/models/cbow/w2v_20240911_cbow_mc3_w44_v25.model, \tModel name: w2v_20240911_cbow_mc3_w44_v25, Extension: .model\n",
      "Model Path: /Users/patrick/dev/ucl/word2vec/comp_0158_msc_project/data/models/cbow/w2v_20240911_cbow_mc1_w8_v25.model, \tModel name: w2v_20240911_cbow_mc1_w8_v25, Extension: .model\n",
      "Model Path: /Users/patrick/dev/ucl/word2vec/comp_0158_msc_project/data/models/cbow/w2v_20240911_cbow_mc3_w44_v5.model, \tModel name: w2v_20240911_cbow_mc3_w44_v5, Extension: .model\n",
      "Model Path: /Users/patrick/dev/ucl/word2vec/comp_0158_msc_project/data/models/cbow/w2v_20240911_cbow_mc8_w21_v50.model, \tModel name: w2v_20240911_cbow_mc8_w21_v50, Extension: .model\n",
      "Model Path: /Users/patrick/dev/ucl/word2vec/comp_0158_msc_project/data/models/cbow/w2v_20240911_cbow_mc5_w8_v10.model, \tModel name: w2v_20240911_cbow_mc5_w8_v10, Extension: .model\n",
      "Model Path: /Users/patrick/dev/ucl/word2vec/comp_0158_msc_project/data/models/cbow/w2v_20240911_cbow_mc8_w13_v10.model, \tModel name: w2v_20240911_cbow_mc8_w13_v10, Extension: .model\n",
      "Model Path: /Users/patrick/dev/ucl/word2vec/comp_0158_msc_project/data/models/cbow/w2v_20240911_cbow_mc8_w5_v50.model, \tModel name: w2v_20240911_cbow_mc8_w5_v50, Extension: .model\n",
      "Model Path: /Users/patrick/dev/ucl/word2vec/comp_0158_msc_project/data/models/cbow/w2v_20240911_cbow_mc5_w3_v10.model, \tModel name: w2v_20240911_cbow_mc5_w3_v10, Extension: .model\n",
      "Model Path: /Users/patrick/dev/ucl/word2vec/comp_0158_msc_project/data/models/cbow/w2v_20240911_cbow_mc8_w3_v5.model, \tModel name: w2v_20240911_cbow_mc8_w3_v5, Extension: .model\n",
      "Model Path: /Users/patrick/dev/ucl/word2vec/comp_0158_msc_project/data/models/cbow/w2v_20240911_cbow_mc3_w5_v10.model, \tModel name: w2v_20240911_cbow_mc3_w5_v10, Extension: .model\n",
      "Model Path: /Users/patrick/dev/ucl/word2vec/comp_0158_msc_project/data/models/cbow/w2v_20240911_cbow_mc1_w8_v5.model, \tModel name: w2v_20240911_cbow_mc1_w8_v5, Extension: .model\n",
      "Model Path: /Users/patrick/dev/ucl/word2vec/comp_0158_msc_project/data/models/cbow/w2v_20240911_cbow_mc8_w44_v50.model, \tModel name: w2v_20240911_cbow_mc8_w44_v50, Extension: .model\n",
      "Model Path: /Users/patrick/dev/ucl/word2vec/comp_0158_msc_project/data/models/cbow/w2v_20240911_cbow_mc1_w3_v25.model, \tModel name: w2v_20240911_cbow_mc1_w3_v25, Extension: .model\n",
      "Model Path: /Users/patrick/dev/ucl/word2vec/comp_0158_msc_project/data/models/cbow/w2v_20240911_cbow_mc3_w21_v25.model, \tModel name: w2v_20240911_cbow_mc3_w21_v25, Extension: .model\n",
      "Model Path: /Users/patrick/dev/ucl/word2vec/comp_0158_msc_project/data/models/cbow/w2v_20240911_cbow_mc5_w13_v50.model, \tModel name: w2v_20240911_cbow_mc5_w13_v50, Extension: .model\n",
      "Model Path: /Users/patrick/dev/ucl/word2vec/comp_0158_msc_project/data/models/cbow/w2v_20240911_cbow_mc1_w3_v5.model, \tModel name: w2v_20240911_cbow_mc1_w3_v5, Extension: .model\n",
      "Model Path: /Users/patrick/dev/ucl/word2vec/comp_0158_msc_project/data/models/cbow/w2v_20240911_cbow_mc3_w8_v10.model, \tModel name: w2v_20240911_cbow_mc3_w8_v10, Extension: .model\n",
      "Model Path: /Users/patrick/dev/ucl/word2vec/comp_0158_msc_project/data/models/cbow/w2v_20240911_cbow_mc1_w21_v10.model, \tModel name: w2v_20240911_cbow_mc1_w21_v10, Extension: .model\n",
      "Model Path: /Users/patrick/dev/ucl/word2vec/comp_0158_msc_project/data/models/cbow/w2v_20240911_cbow_mc8_w3_v50.model, \tModel name: w2v_20240911_cbow_mc8_w3_v50, Extension: .model\n",
      "Model Path: /Users/patrick/dev/ucl/word2vec/comp_0158_msc_project/data/models/cbow/w2v_20240911_cbow_mc8_w8_v5.model, \tModel name: w2v_20240911_cbow_mc8_w8_v5, Extension: .model\n",
      "Model Path: /Users/patrick/dev/ucl/word2vec/comp_0158_msc_project/data/models/cbow/w2v_20240911_cbow_mc5_w21_v10.model, \tModel name: w2v_20240911_cbow_mc5_w21_v10, Extension: .model\n",
      "Model Path: /Users/patrick/dev/ucl/word2vec/comp_0158_msc_project/data/models/cbow/w2v_20240911_cbow_mc1_w13_v50.model, \tModel name: w2v_20240911_cbow_mc1_w13_v50, Extension: .model\n",
      "Model Path: /Users/patrick/dev/ucl/word2vec/comp_0158_msc_project/data/models/cbow/w2v_20240911_cbow_mc5_w44_v5.model, \tModel name: w2v_20240911_cbow_mc5_w44_v5, Extension: .model\n",
      "Model Path: /Users/patrick/dev/ucl/word2vec/comp_0158_msc_project/data/models/cbow/w2v_20240911_cbow_mc8_w13_v5.model, \tModel name: w2v_20240911_cbow_mc8_w13_v5, Extension: .model\n",
      "Model Path: /Users/patrick/dev/ucl/word2vec/comp_0158_msc_project/data/models/cbow/w2v_20240911_cbow_mc1_w5_v10.model, \tModel name: w2v_20240911_cbow_mc1_w5_v10, Extension: .model\n",
      "Model Path: /Users/patrick/dev/ucl/word2vec/comp_0158_msc_project/data/models/cbow/w2v_20240911_cbow_mc5_w21_v5.model, \tModel name: w2v_20240911_cbow_mc5_w21_v5, Extension: .model\n",
      "Model Path: /Users/patrick/dev/ucl/word2vec/comp_0158_msc_project/data/models/cbow/w2v_20240911_cbow_mc5_w44_v25.model, \tModel name: w2v_20240911_cbow_mc5_w44_v25, Extension: .model\n",
      "Model Path: /Users/patrick/dev/ucl/word2vec/comp_0158_msc_project/data/models/cbow/w2v_20240911_cbow_mc3_w3_v25.model, \tModel name: w2v_20240911_cbow_mc3_w3_v25, Extension: .model\n",
      "Model Path: /Users/patrick/dev/ucl/word2vec/comp_0158_msc_project/data/models/cbow/w2v_20240911_cbow_mc5_w5_v25.model, \tModel name: w2v_20240911_cbow_mc5_w5_v25, Extension: .model\n",
      "Model Path: /Users/patrick/dev/ucl/word2vec/comp_0158_msc_project/data/models/cbow/w2v_20240911_cbow_mc1_w44_v25.model, \tModel name: w2v_20240911_cbow_mc1_w44_v25, Extension: .model\n",
      "Model Path: /Users/patrick/dev/ucl/word2vec/comp_0158_msc_project/data/models/cbow/w2v_20240911_cbow_mc3_w44_v10.model, \tModel name: w2v_20240911_cbow_mc3_w44_v10, Extension: .model\n",
      "Model Path: /Users/patrick/dev/ucl/word2vec/comp_0158_msc_project/data/models/cbow/w2v_20240911_cbow_mc1_w8_v10.model, \tModel name: w2v_20240911_cbow_mc1_w8_v10, Extension: .model\n",
      "Model Path: /Users/patrick/dev/ucl/word2vec/comp_0158_msc_project/data/models/cbow/w2v_20240911_cbow_mc5_w8_v25.model, \tModel name: w2v_20240911_cbow_mc5_w8_v25, Extension: .model\n",
      "Model Path: /Users/patrick/dev/ucl/word2vec/comp_0158_msc_project/data/models/cbow/w2v_20240911_cbow_mc8_w13_v25.model, \tModel name: w2v_20240911_cbow_mc8_w13_v25, Extension: .model\n",
      "Model Path: /Users/patrick/dev/ucl/word2vec/comp_0158_msc_project/data/models/cbow/w2v_20240911_cbow_mc5_w5_v5.model, \tModel name: w2v_20240911_cbow_mc5_w5_v5, Extension: .model\n",
      "Model Path: /Users/patrick/dev/ucl/word2vec/comp_0158_msc_project/data/models/cbow/w2v_20240911_cbow_mc3_w8_v5.model, \tModel name: w2v_20240911_cbow_mc3_w8_v5, Extension: .model\n",
      "Model Path: /Users/patrick/dev/ucl/word2vec/comp_0158_msc_project/data/models/cbow/w2v_20240911_cbow_mc5_w3_v25.model, \tModel name: w2v_20240911_cbow_mc5_w3_v25, Extension: .model\n",
      "Model Path: /Users/patrick/dev/ucl/word2vec/comp_0158_msc_project/data/models/cbow/w2v_20240911_cbow_mc3_w5_v25.model, \tModel name: w2v_20240911_cbow_mc3_w5_v25, Extension: .model\n",
      "Model Path: /Users/patrick/dev/ucl/word2vec/comp_0158_msc_project/data/models/cbow/w2v_20240911_cbow_mc3_w13_v50.model, \tModel name: w2v_20240911_cbow_mc3_w13_v50, Extension: .model\n",
      "Model Path: /Users/patrick/dev/ucl/word2vec/comp_0158_msc_project/data/models/cbow/w2v_20240911_cbow_mc3_w21_v10.model, \tModel name: w2v_20240911_cbow_mc3_w21_v10, Extension: .model\n",
      "Model Path: /Users/patrick/dev/ucl/word2vec/comp_0158_msc_project/data/models/cbow/w2v_20240911_cbow_mc1_w3_v10.model, \tModel name: w2v_20240911_cbow_mc1_w3_v10, Extension: .model\n",
      "Model Path: /Users/patrick/dev/ucl/word2vec/comp_0158_msc_project/data/models/cbow/w2v_20240911_cbow_mc3_w21_v5.model, \tModel name: w2v_20240911_cbow_mc3_w21_v5, Extension: .model\n",
      "Model Path: /Users/patrick/dev/ucl/word2vec/comp_0158_msc_project/data/models/cbow/w2v_20240911_cbow_mc1_w44_v5.model, \tModel name: w2v_20240911_cbow_mc1_w44_v5, Extension: .model\n",
      "Model Path: /Users/patrick/dev/ucl/word2vec/comp_0158_msc_project/data/models/cbow/w2v_20240911_cbow_mc3_w8_v25.model, \tModel name: w2v_20240911_cbow_mc3_w8_v25, Extension: .model\n",
      "Model Path: /Users/patrick/dev/ucl/word2vec/comp_0158_msc_project/data/models/cbow/w2v_20240911_cbow_mc1_w21_v25.model, \tModel name: w2v_20240911_cbow_mc1_w21_v25, Extension: .model\n",
      "Model Path: /Users/patrick/dev/ucl/word2vec/comp_0158_msc_project/data/models/cbow/w2v_20240911_cbow_mc3_w3_v5.model, \tModel name: w2v_20240911_cbow_mc3_w3_v5, Extension: .model\n",
      "Model Path: /Users/patrick/dev/ucl/word2vec/comp_0158_msc_project/data/models/cbow/w2v_20240911_cbow_mc5_w21_v25.model, \tModel name: w2v_20240911_cbow_mc5_w21_v25, Extension: .model\n",
      "Model Path: /Users/patrick/dev/ucl/word2vec/comp_0158_msc_project/data/models/cbow/w2v_20240911_cbow_mc3_w21_v50.model, \tModel name: w2v_20240911_cbow_mc3_w21_v50, Extension: .model\n",
      "Model Path: /Users/patrick/dev/ucl/word2vec/comp_0158_msc_project/data/models/cbow/w2v_20240911_cbow_mc1_w3_v50.model, \tModel name: w2v_20240911_cbow_mc1_w3_v50, Extension: .model\n",
      "Model Path: /Users/patrick/dev/ucl/word2vec/comp_0158_msc_project/data/models/cbow/w2v_20240911_cbow_mc8_w44_v25.model, \tModel name: w2v_20240911_cbow_mc8_w44_v25, Extension: .model\n",
      "Model Path: /Users/patrick/dev/ucl/word2vec/comp_0158_msc_project/data/models/cbow/w2v_20240911_cbow_mc3_w13_v10.model, \tModel name: w2v_20240911_cbow_mc3_w13_v10, Extension: .model\n",
      "Model Path: /Users/patrick/dev/ucl/word2vec/comp_0158_msc_project/data/models/cbow/w2v_20240911_cbow_mc3_w13_v5.model, \tModel name: w2v_20240911_cbow_mc3_w13_v5, Extension: .model\n",
      "Model Path: /Users/patrick/dev/ucl/word2vec/comp_0158_msc_project/data/models/cbow/w2v_20240911_cbow_mc3_w5_v5.model, \tModel name: w2v_20240911_cbow_mc3_w5_v5, Extension: .model\n",
      "Model Path: /Users/patrick/dev/ucl/word2vec/comp_0158_msc_project/data/models/cbow/w2v_20240911_cbow_mc1_w13_v25.model, \tModel name: w2v_20240911_cbow_mc1_w13_v25, Extension: .model\n",
      "Model Path: /Users/patrick/dev/ucl/word2vec/comp_0158_msc_project/data/models/cbow/w2v_20240911_cbow_mc8_w3_v25.model, \tModel name: w2v_20240911_cbow_mc8_w3_v25, Extension: .model\n",
      "Model Path: /Users/patrick/dev/ucl/word2vec/comp_0158_msc_project/data/models/cbow/w2v_20240911_cbow_mc5_w13_v25.model, \tModel name: w2v_20240911_cbow_mc5_w13_v25, Extension: .model\n",
      "Model Path: /Users/patrick/dev/ucl/word2vec/comp_0158_msc_project/data/models/cbow/w2v_20240911_cbow_mc8_w8_v25.model, \tModel name: w2v_20240911_cbow_mc8_w8_v25, Extension: .model\n",
      "Model Path: /Users/patrick/dev/ucl/word2vec/comp_0158_msc_project/data/models/cbow/w2v_20240911_cbow_mc1_w5_v50.model, \tModel name: w2v_20240911_cbow_mc1_w5_v50, Extension: .model\n",
      "Model Path: /Users/patrick/dev/ucl/word2vec/comp_0158_msc_project/data/models/cbow/w2v_20240911_cbow_mc5_w8_v5.model, \tModel name: w2v_20240911_cbow_mc5_w8_v5, Extension: .model\n",
      "Model Path: /Users/patrick/dev/ucl/word2vec/comp_0158_msc_project/data/models/cbow/w2v_20240911_cbow_mc8_w5_v25.model, \tModel name: w2v_20240911_cbow_mc8_w5_v25, Extension: .model\n",
      "Model Path: /Users/patrick/dev/ucl/word2vec/comp_0158_msc_project/data/models/cbow/w2v_20240911_cbow_mc1_w8_v50.model, \tModel name: w2v_20240911_cbow_mc1_w8_v50, Extension: .model\n",
      "Model Path: /Users/patrick/dev/ucl/word2vec/comp_0158_msc_project/data/models/cbow/w2v_20240911_cbow_mc5_w13_v5.model, \tModel name: w2v_20240911_cbow_mc5_w13_v5, Extension: .model\n",
      "Model Path: /Users/patrick/dev/ucl/word2vec/comp_0158_msc_project/data/models/cbow/w2v_20240911_cbow_mc8_w21_v25.model, \tModel name: w2v_20240911_cbow_mc8_w21_v25, Extension: .model\n",
      "Model Path: /Users/patrick/dev/ucl/word2vec/comp_0158_msc_project/data/models/cbow/w2v_20240911_cbow_mc3_w44_v50.model, \tModel name: w2v_20240911_cbow_mc3_w44_v50, Extension: .model\n",
      "Model Path: /Users/patrick/dev/ucl/word2vec/comp_0158_msc_project/data/models/cbow/w2v_20240911_cbow_mc5_w3_v5.model, \tModel name: w2v_20240911_cbow_mc5_w3_v5, Extension: .model\n",
      "Model Path: /Users/patrick/dev/ucl/word2vec/comp_0158_msc_project/data/models/cbow/w2v_20240911_cbow_mc8_w21_v5.model, \tModel name: w2v_20240911_cbow_mc8_w21_v5, Extension: .model\n"
     ]
    }
   ],
   "source": [
    "from pathlib import Path\n",
    "\n",
    "model_dir       = \"/Users/patrick/dev/ucl/word2vec/comp_0158_msc_project/data/models/\"\n",
    "def find_files(directory):\n",
    "    files_info = []\n",
    "    # Traverse the directory recursively\n",
    "    for file_path in Path(directory).rglob(f'*model'):\n",
    "        if file_path.is_file():  # Check if it's a file\n",
    "            filename = file_path.stem  # Get the filename without extension\n",
    "            file_extension = file_path.suffix  # Get the file extension\n",
    "            files_info.append((str(file_path), filename, file_extension))\n",
    "    \n",
    "    return files_info\n",
    "\n",
    "\n",
    "models_info = find_files(model_dir)\n",
    "\n",
    "for model_info in models_info:\n",
    "    print(f\"Model Path: {model_info[0]}, \\tModel name: {model_info[1]}, Extension: {model_info[2]}\")\n"
   ]
  },
  {
   "cell_type": "markdown",
   "metadata": {},
   "source": [
    "### Calculate distances for pfam entries in a model"
   ]
  },
  {
   "cell_type": "code",
   "execution_count": 35,
   "metadata": {},
   "outputs": [],
   "source": [
    "def calculate_distances(model_dir, model_name, vocab_dir):\n",
    "    vocab_file = vocab_dir+model_name+'_vocab.txt'\n",
    "    \n",
    "    # get pfam ids from the models vocab\n",
    "    #print(f\"Encoding vocab file: {vocab_file}\")\n",
    "    model = Word2Vec.load(model_dir+model_name+'.model')\n",
    "    pfam_ids = []\n",
    "    with open(vocab_file, 'r') as vf:\n",
    "        for line in vf:\n",
    "            line = line.rstrip()\n",
    "            line =  line.lstrip()\n",
    "            if line.startswith('PF'):\n",
    "                pfam_ids.append(line)\n",
    "                #encoding = model.wv[line]\n",
    "                #print(f\"Encoding :{line}: {encoding}\")\n",
    "    #print(pfam_ids)\n",
    "    vf.close()\n",
    "    \n",
    "    # calculate matrix size and initialise\n",
    "    num_entries = len(pfam_ids)\n",
    "    distance_matrix = np.zeros((num_entries, num_entries))\n",
    "    \n",
    "    # create empty distance matrix\n",
    "    #print(f\"Calculating distances for {num_entries} pfam ids under model {model_name}\")\n",
    "    error_count = 0\n",
    "    success_count = 0\n",
    "    s = time.time()\n",
    "    for i in range(num_entries):\n",
    "        for j in range(i+1, num_entries):\n",
    "            pfam_1 = pfam_ids[i]\n",
    "            pfam_2 = pfam_ids[j]\n",
    "            try:\n",
    "                v1 = model.wv[pfam_1]\n",
    "                v2 = model.wv[pfam_2]\n",
    "                distance = np.linalg.norm(v1 - v2)\n",
    "                distance_matrix[i][j] = distance\n",
    "                success_count +=1\n",
    "            except Exception as e: # a bit convoluted, but want to print out the missing pfam\n",
    "                #print(f\"Exception calculating {pfam_1} to {pfam_2} : {e.args[0]}\")\n",
    "                missing = re.search(\"Key '(.*)' not\", e.args[0] )\n",
    "                print(missing.group(1))\n",
    "                #of.write(missing.group(1) + '\\n')\n",
    "                error_count +=1\n",
    "                continue\n",
    "    # close the output file\n",
    "    #of.close()\n",
    "    \n",
    "    output_name = vocab_dir+model_name+\"_dist\"\n",
    "    np.save(output_name, distance_matrix)\n",
    "    e = time.time()\n",
    "    print(f\"distance matrix computed for model: {model_name}. num words: {num_entries}. time: {round(e-s,2)}s. success: {success_count} fail: {error_count} output: {output_name}.npy\")\n",
    "    "
   ]
  },
  {
   "cell_type": "code",
   "execution_count": 68,
   "metadata": {},
   "outputs": [],
   "source": [
    "# get distances for one model\n",
    "vocab_dir=\"/Users/patrick/dev/ucl/word2vec/COMP_0158_MSC_PROJECT/data/models/vocab/\"\n",
    "model_dir=\"/Users/patrick/dev/ucl/word2vec/COMP_0158_MSC_PROJECT/data/models/\"\n",
    "\n",
    "# get vocab for a particular file\n",
    "model_name = \"w2v_20240811_v5_w5_mc3\"\n",
    "#calculate_distances(model_dir, model_name, vocab_dir)"
   ]
  },
  {
   "cell_type": "code",
   "execution_count": 69,
   "metadata": {},
   "outputs": [
    {
     "name": "stderr",
     "output_type": "stream",
     "text": [
      "<>:7: SyntaxWarning: invalid escape sequence '\\.'\n",
      "<>:7: SyntaxWarning: invalid escape sequence '\\.'\n",
      "/var/folders/kp/bqnb4b7n4ng50xtbznpbx7xh0000gn/T/ipykernel_15954/63249940.py:7: SyntaxWarning: invalid escape sequence '\\.'\n",
      "  model_name_s  = re.search(\"(w2v_.*)\\.model\", file_path)\n"
     ]
    }
   ],
   "source": [
    "# get distances for all models\n",
    "vocab_dir=\"/Users/patrick/dev/ucl/word2vec/COMP_0158_MSC_PROJECT/data/models/vocab/\"\n",
    "model_dir=\"/Users/patrick/dev/ucl/word2vec/COMP_0158_MSC_PROJECT/data/models/\"\n",
    "\n",
    "file_list = glob.glob(os.path.join(model_dir, '*.model'))\n",
    "for file_path in file_list:\n",
    "    model_name_s  = re.search(\"(w2v_.*)\\.model\", file_path)\n",
    "    model_name         = model_name_s.group(1)\n",
    "    #calculate_distances(model_dir, model_name, vocab_dir)\n"
   ]
  },
  {
   "cell_type": "markdown",
   "metadata": {},
   "source": [
    "### Get vocab for a model for pfam words only"
   ]
  },
  {
   "cell_type": "code",
   "execution_count": 45,
   "metadata": {},
   "outputs": [],
   "source": [
    "def get_model_vocab(vocab_dir, model_name):\n",
    "    # extracts pfam ids from the vecotr\n",
    "\n",
    "    pfam_ids = []\n",
    "    vocab_file = vocab_dir+model_name+'_vocab.txt'\n",
    "    \n",
    "    with open(vocab_file, 'r') as vf:\n",
    "        for line in vf:\n",
    "            line = line.rstrip()\n",
    "            line =  line.lstrip()\n",
    "            if line.startswith('PF'):\n",
    "                pfam_ids.append(line)\n",
    "    vf.close()\n",
    "    \n",
    "    np_pfam_ids = np.array(pfam_ids)\n",
    "    \n",
    "    return pfam_ids, np_pfam_ids"
   ]
  },
  {
   "cell_type": "markdown",
   "metadata": {},
   "source": [
    "### REMOVE ROWS/COLS FROM TARGET IF NOT IN SOUCRE"
   ]
  },
  {
   "cell_type": "code",
   "execution_count": 75,
   "metadata": {},
   "outputs": [
    {
     "name": "stdout",
     "output_type": "stream",
     "text": [
      "Model w2v_20240811_v5_w5_mc5 vocab size: 12802.\n",
      "Model w2v_20240811_v5_w5_mc3 vocab size: 13529.\n",
      "Shared model words: 12802.\n",
      "Loading target dist matrix /Users/patrick/dev/ucl/word2vec/COMP_0158_MSC_PROJECT/data/models/vocab/w2v_20240811_v5_w5_mc3_dist.npy\n",
      "Target dist matrix reduced from (13529, 13529) to (12802, 12802)\n"
     ]
    }
   ],
   "source": [
    "vocab_dir=\"/Users/patrick/dev/ucl/word2vec/COMP_0158_MSC_PROJECT/data/models/vocab/\"\n",
    "model_dir=\"/Users/patrick/dev/ucl/word2vec/COMP_0158_MSC_PROJECT/data/models/\"\n",
    "\n",
    "# models to compare - ulitmately we want a new target model with only entries that are in the soure as well\n",
    "source_model_name = \"w2v_20240811_v5_w5_mc5\"\n",
    "target_model_name = \"w2v_20240811_v5_w5_mc3\"\n",
    "\n",
    "# get te vocab list for both models we wish to compare\n",
    "source_vocab, np_source_vocab = get_model_vocab(vocab_dir, source_model_name)\n",
    "target_vocab, np_target_vocab = get_model_vocab(vocab_dir, target_model_name)\n",
    "\n",
    "print(f\"Model {source_model_name} vocab size: {len(source_vocab)}.\")\n",
    "print(f\"Model {target_model_name} vocab size: {len(target_vocab)}.\")\n",
    "\n",
    "# create a True/False mask with True where the item from the source array is in the target array\n",
    "mask = np.isin(np_target_vocab, np_source_vocab)\n",
    "print(f\"Shared model words: {mask.sum()}.\")\n",
    "\n",
    "# load the target matrix\n",
    "distance_matrix_name = vocab_dir+target_model_name+'_dist.npy'\n",
    "print(f\"Loading target dist matrix {distance_matrix_name}\")\n",
    "dist_matrix = np.load(distance_matrix_name)\n",
    "\n",
    "\n",
    "# remove non-common rows/columns from the target matrix\n",
    "\n",
    "mask                = np.isin(np_target_vocab, np_source_vocab)\n",
    "dist_matrix_subset  = dist_matrix[np.ix_(mask, mask)]\n",
    "\n",
    "print(f\"Target dist matrix reduced from {dist_matrix.shape} to {dist_matrix_subset.shape}\")"
   ]
  },
  {
   "cell_type": "code",
   "execution_count": 66,
   "metadata": {},
   "outputs": [
    {
     "name": "stdout",
     "output_type": "stream",
     "text": [
      "[ True  True False False False  True False]\n",
      "[[11 12 16]\n",
      " [21 22 26]\n",
      " [61 62 66]]\n"
     ]
    }
   ],
   "source": [
    "# sample code to test the use of masks\n",
    "# compare two vectors and find the indices in the second for common entries\n",
    "source_v = np.array(['a', 'b', 'f'])\n",
    "target_v = np.array(['a', 'b', 'c', 'd', 'e', 'f', 'g'])\n",
    "\n",
    "mask = np.isin(target_v, source_v)\n",
    "print(mask)\n",
    "\n",
    "\n",
    "# apply this mask to a target matrix - the mask should be applied to ros and columns\n",
    "target_matrix = np.array([  [11, 12, 13, 14, 15, 16], \\\n",
    "                            [21, 22, 23, 24, 25, 26], \\\n",
    "                            [31, 32, 33, 34, 35, 36], \\\n",
    "                            [41, 42, 43, 44, 45, 46], \\\n",
    "                            [51, 52, 53, 54, 55, 56], \\\n",
    "                            [61, 62, 63, 64, 55, 66]])\n",
    "\n",
    "# new matrix has the dimensions corresponding to the number of shared items in the two original vectors\n",
    "# the entries in the matrix are the row/column entries that had 'True' in the mask\n",
    "target_subset = target_matrix[np.ix_(mask, mask)]\n",
    "print(target_subset)\n"
   ]
  },
  {
   "cell_type": "code",
   "execution_count": 51,
   "metadata": {},
   "outputs": [
    {
     "name": "stdout",
     "output_type": "stream",
     "text": [
      "[ True False  True False False False  True]\n",
      "[[11 13 17]\n",
      " [31 33 37]\n",
      " [71 73 77]]\n"
     ]
    }
   ],
   "source": [
    "# sample code to test the use of masks - this modifies the target to only include\n",
    "# elements that are in the source, but doe not reorder them - see next section\n",
    "\n",
    "# source and target vectors - need to get the items in target that are only in source\n",
    "source_v = np.array(['a', 'g', 'c'])\n",
    "target_v = np.array(['a', 'b', 'c', 'd', 'e', 'f', 'g'])\n",
    "\n",
    "# this tells us whcih items in target are also in source\n",
    "mask = np.isin(target_v, source_v)\n",
    "print(mask)\n",
    "\n",
    "# create a target matrix to test\n",
    "target_matrix = np.array([  [11, 12, 13, 14, 15, 16, 17], \\\n",
    "                            [21, 22, 23, 24, 25, 26, 27], \\\n",
    "                            [31, 32, 33, 34, 35, 36, 37], \\\n",
    "                            [41, 42, 43, 44, 45, 46, 47], \\\n",
    "                            [51, 52, 53, 54, 55, 56, 57], \\\n",
    "                            [61, 62, 63, 64, 55, 66, 67], \\\n",
    "                            [71, 72, 73, 74, 75, 76, 77]])\n",
    "\n",
    "# apply the mask to rows and columns\n",
    "target_subset = target_matrix[np.ix_(mask, mask)]\n",
    "\n",
    "# print output\n",
    "print(target_subset)\n"
   ]
  },
  {
   "cell_type": "code",
   "execution_count": null,
   "metadata": {},
   "outputs": [],
   "source": []
  },
  {
   "cell_type": "code",
   "execution_count": 3,
   "metadata": {},
   "outputs": [
    {
     "name": "stdout",
     "output_type": "stream",
     "text": [
      "indices needed in target matrix and in new order [3, 1] \n",
      "\n",
      "\n",
      " [[43 41]\n",
      " [23 21]]\n"
     ]
    }
   ],
   "source": [
    "# this code reduces the target matrix to only have entries according to the \n",
    "# common elements between source and target vectors. it also reorders\n",
    "# the target matrix so that the order of its rows and columns matches\n",
    "# those of the source\n",
    "\n",
    "# source and target vectors of elements - for example if source has 'd' 'a' in that order\n",
    "# we need to find 'd' and 'a' in the target vector and the reorder the matrix so that\n",
    "# a) it only contains rows/cols in the source vector\n",
    "# b) those rows and cols appear in the same order\n",
    "source_v = np.array(['d', 'b'])\n",
    "target_v = np.array(['a', 'b', 'c', 'd'])\n",
    "\n",
    "target_matrix = np.array([  [10, 11, 12, 13],\n",
    "                            [20, 21, 22, 23],\n",
    "                            [30, 31, 32, 33],\n",
    "                            [40, 41, 42, 43]])\n",
    "\n",
    "reorder_indices = []\n",
    "for item in source_v:\n",
    "    index = np.where(target_v == item)[0]\n",
    "    reorder_indices.append(index[0])\n",
    "\n",
    "print('indices needed in target matrix and in new order', reorder_indices, '\\n')\n",
    "\n",
    "reordered_matrix = target_matrix[reorder_indices, :]\n",
    "reordered_matrix = reordered_matrix[:, reorder_indices]\n",
    "\n",
    "# Print the result\n",
    "print('\\n', reordered_matrix)"
   ]
  },
  {
   "cell_type": "code",
   "execution_count": 36,
   "metadata": {},
   "outputs": [
    {
     "name": "stdout",
     "output_type": "stream",
     "text": [
      "\n",
      " [[21 23]\n",
      " [41 43]]\n",
      "\n",
      " [[43 41]\n",
      " [23 21]]\n"
     ]
    }
   ],
   "source": [
    "import numpy as np\n",
    "\n",
    "# Original matrix\n",
    "matrix = np.array([[10, 11, 12, 13],\n",
    "                   [20, 21, 22, 23],\n",
    "                   [30, 31, 32, 33],\n",
    "                   [40, 41, 42, 43]])\n",
    "\n",
    "# Indices to reorder the rows and columns\n",
    "# current row 2 becomes first, row 0 comes second, row 1 comes last  \n",
    "reorder_indices = [1, 3]\n",
    "\n",
    "# Reorder rows\n",
    "reordered_matrix = matrix[reorder_indices, :]\n",
    "reordered_matrix = reordered_matrix[:, reorder_indices]\n",
    "\n",
    "# Print the result\n",
    "print('\\n', reordered_matrix)\n",
    "\n",
    "\n",
    "reorder_indices = [3, 1]\n",
    "\n",
    "# Reorder rows\n",
    "reordered_matrix = matrix[reorder_indices, :]\n",
    "reordered_matrix = reordered_matrix[:, reorder_indices]\n",
    "\n",
    "# Print the result\n",
    "print('\\n', reordered_matrix)\n"
   ]
  },
  {
   "cell_type": "markdown",
   "metadata": {},
   "source": []
  }
 ],
 "metadata": {
  "kernelspec": {
   "display_name": "conda_ucl_base",
   "language": "python",
   "name": "python3"
  },
  "language_info": {
   "codemirror_mode": {
    "name": "ipython",
    "version": 3
   },
   "file_extension": ".py",
   "mimetype": "text/x-python",
   "name": "python",
   "nbconvert_exporter": "python",
   "pygments_lexer": "ipython3",
   "version": "3.12.4"
  }
 },
 "nbformat": 4,
 "nbformat_minor": 2
}
