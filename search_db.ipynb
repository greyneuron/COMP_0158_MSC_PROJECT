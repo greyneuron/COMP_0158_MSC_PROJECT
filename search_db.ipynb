{
 "cells": [
  {
   "cell_type": "code",
   "execution_count": null,
   "metadata": {},
   "outputs": [],
   "source": [
    "from Bio import SeqIO\n",
    "import duckdb\n",
    "from protein_db import ProteinDB\n",
    "import os \n",
    "pdb = ProteinDB()"
   ]
  },
  {
   "cell_type": "code",
   "execution_count": null,
   "metadata": {},
   "outputs": [],
   "source": [
    "con = duckdb.connect(database=ProteinDB.db_string)\n",
    "\n",
    "\n",
    "res = con.execute(\"SELECT * FROM duckdb_transactions\")\n",
    "\n",
    "print(res)\n",
    "\n",
    "con.close()"
   ]
  },
  {
   "cell_type": "code",
   "execution_count": null,
   "metadata": {},
   "outputs": [],
   "source": [
    "import duckdb\n",
    "\n",
    "def is_locked(db_path):\n",
    "    lock_file = f'{db_path}.lock'\n",
    "    return os.path.exists(lock_file)\n",
    "\n",
    "db_path = 'ProteinDB.db_string'\n",
    "\n",
    "if is_locked(db_path):\n",
    "    print(\"Database is locked\")\n",
    "    con.close()\n"
   ]
  },
  {
   "cell_type": "code",
   "execution_count": null,
   "metadata": {},
   "outputs": [],
   "source": [
    "# test the connection worked\n",
    "con = duckdb.connect(database=ProteinDB.db_string)           \n",
    "\n",
    "#count = con.execute(\"SELECT COUNT(*) FROM PROTEIN\").fetchall()\n",
    "#result = con.execute(\"SELECT * FROM PROTEIN\").fetchall()\n",
    "result = con.execute(\"SELECT * FROM PROTEIN WHERE PROTEIN.UNIPROT_ID = 'Q6GZX3'\").fetchall()\n",
    "\n",
    "for i in range(len(result)):\n",
    "    print(result[i])\n",
    "con.close()"
   ]
  },
  {
   "cell_type": "code",
   "execution_count": null,
   "metadata": {},
   "outputs": [],
   "source": [
    "# test the connection worked\n",
    "con = duckdb.connect(database=ProteinDB.db_string)           \n",
    "\n",
    "#count = con.execute(\"SELECT COUNT(*) FROM PROTEIN\").fetchall()\n",
    "#result = con.execute(\"SELECT * FROM PROTEIN\").fetchall()\n",
    "pfam_result = con.execute(\"SELECT * FROM PROTEIN_WORD WHERE UNIPROT_ID = 'Q6GZX3'\").fetchall()\n",
    "\n",
    "for i in range(len(pfam_result)):\n",
    "    print(pfam_result[i])\n",
    "con.close()"
   ]
  },
  {
   "cell_type": "code",
   "execution_count": null,
   "metadata": {},
   "outputs": [],
   "source": [
    "# test the connection worked\n",
    "con = duckdb.connect(database=ProteinDB.db_string)           \n",
    "\n",
    "proteins = con.execute(\"SELECT * FROM PROTEIN\").fetchall()\n",
    "\n",
    "for i in range(10):\n",
    "    id = proteins[i][0]\n",
    "    pfam_result = con.execute(\"SELECT * FROM PROTEIN_WORD WHERE UNIPROT_ID = ?\", [id]).fetchall()\n",
    "    \n",
    "    print(pfam_result)\n",
    "con.close()"
   ]
  }
 ],
 "metadata": {
  "kernelspec": {
   "display_name": "conda_ucl_base",
   "language": "python",
   "name": "python3"
  },
  "language_info": {
   "codemirror_mode": {
    "name": "ipython",
    "version": 3
   },
   "file_extension": ".py",
   "mimetype": "text/x-python",
   "name": "python",
   "nbconvert_exporter": "python",
   "pygments_lexer": "ipython3",
   "version": "3.12.3"
  }
 },
 "nbformat": 4,
 "nbformat_minor": 2
}
