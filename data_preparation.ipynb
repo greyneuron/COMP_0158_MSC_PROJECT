{
 "cells": [
  {
   "cell_type": "code",
   "execution_count": null,
   "metadata": {},
   "outputs": [],
   "source": [
    "import argparse\n",
    "from Bio import SeqIO\n",
    "import re\n",
    "import csv\n",
    "import duckdb\n",
    "\n",
    "# internal representation\n",
    "from protein_metadata import ProteinSentence\n",
    "from protein_metadata import ProteinWord\n",
    "from protein_db import ProteinDB\n",
    "\n",
    "# file handles\n",
    "protein_fasta_file = \"/Users/patrick/dev/ucl/comp0158_mscproject/data/uniref100_10M.fasta\";\n",
    "interpro_file = \"/Users/patrick/dev/ucl/comp0158_mscproject/data/protein2ipr.dat\";"
   ]
  },
  {
   "cell_type": "markdown",
   "metadata": {},
   "source": [
    "### File Examples\n",
    "\n",
    "<p>>Uniref100 Fasta\n",
    ">\\>UniRef100_Q197F3 Uncharacterized protein 007R n=1 Tax=Invertebrate iridescent virus 3 TaxID=345201 RepID=007R_IIV3\n",
    "MEAKNITIDNTTYNFFKFYNINQPLTNLKYLNSERLCFSNAVMGKIVDDASTITITYHRV\n",
    "YFGISGPKPRQVADLGEYYDVNELLNYDTYTKTQEFAQKYNSLVKPTIDAKNWSGNELVL\n",
    "\n",
    "<p> Protein2ipr.dat\n",
    ">A0A000\tIPR004839\tAminotransferase, class I/classII\tPF00155\t41\t381<br>\n",
    "A0A000\tIPR010961\tTetrapyrrole biosynthesis, 5-aminolevulinic acid synthase\tTIGR01821\t12\t391<br>\n",
    "A0A000\tIPR015421\tPyridoxal phosphate-dependent transferase, major domain\tG3DSA:3.40.640.10\t48\t288<br>\n",
    "\n",
    "<p>> Explanation\n",
    "A0A0 Means its uniprot but not yet verified"
   ]
  },
  {
   "cell_type": "markdown",
   "metadata": {},
   "source": [
    "### Useful snippets"
   ]
  },
  {
   "cell_type": "code",
   "execution_count": null,
   "metadata": {},
   "outputs": [],
   "source": [
    "#### grep protein id from interpro"
   ]
  },
  {
   "cell_type": "code",
   "execution_count": null,
   "metadata": {},
   "outputs": [],
   "source": [
    "#file = \"/Users/patrick/dev/ucl/comp0158_mscproject/data/protein2ipr.dat\";\n",
    "#file = \"/Users/patrick/dev/ucl/comp0158_mscproject/data/protein2ipr_pfam.dat\"; # protein2ipr with only pfam entries\n",
    "#file = \"/Users/patrick/dev/ucl/comp0158_mscproject/data/protein2ipr_pfam_20M.dat\"; # protein2ipr with only pfam entries 0 20M lines only\n",
    "file = \"/Users/patrick/dev/ucl/comp0158_mscproject/data/A8KBH6_ipr_pfam.dat\"; # protein2ipr with only pfam entries - only for one protein\n",
    "\n",
    "#\n",
    "# greps for an id in interpro dat file\n",
    "# For A8KBH6, this will match A0A01A8KBH6 and A8KBH6\n",
    "# Time to parse the full protein2ipr.dat for A8KBH6 : 22min 56s\n",
    "#\n",
    "def grep_interpro(id):\n",
    "    with open(file, 'r') as input_file:\n",
    "        for line_number, line in enumerate(input_file):\n",
    "            #match_string = \"ç\"            # works\n",
    "            #match_string = \"[A0A0-9]*A8KBH6\"   # works\n",
    "            #match_string = \"^[A0A0-9]*\"+id     # works\n",
    "            match_string = \"^[A0A0-9]*\"+id\n",
    "            match = re.search(match_string, line)\n",
    "            if match:\n",
    "                print('Matched:', id, 'in line:', line.strip())\n",
    "                \n",
    "grep_interpro('A8KBH6')\n",
    "grep_interpro('A0A1A8KBH6')"
   ]
  },
  {
   "cell_type": "markdown",
   "metadata": {},
   "source": [
    "## Data Preparation\n"
   ]
  },
  {
   "cell_type": "markdown",
   "metadata": {},
   "source": [
    "#### Create extract file of PFAM entries from Interpro protein2ipr"
   ]
  },
  {
   "cell_type": "code",
   "execution_count": null,
   "metadata": {},
   "outputs": [],
   "source": [
    "#10M lines 10000000 : 20s\n",
    "#MAX_LINES = 10000000\n",
    "\n",
    "limit       = True # if True, onLy parses Max_lines lines \n",
    "MAX_COUNT   = 25000000\n",
    "\n",
    "# ------------------------------------------------------------------------------------------\n",
    "# 26 June 2024\n",
    "# parses protein2ipr.dat for entries with'PFNNN' and outpts those lines to a separate file\n",
    "# protein2ipr.dat       : 98.7GB,   1,355,591,115 entries\n",
    "# protein2ipr_new.dat   : 20.73GB,  298,766,058 entries\n",
    "# parsing time          : 23mins\n",
    "# ----------------------------------------------------------------------------------------\n",
    "\n",
    "input = \"/Users/patrick/dev/ucl/comp0158_mscproject/data/protein2ipr.dat\"\n",
    "output = \"/Users/patrick/dev/ucl/comp0158_mscproject/data/protein2ipr_pfam_25M.dat\"\n",
    "\n",
    "#\n",
    "# parse an Interpro file and grep out those with pfam domains\n",
    "# Parsing the full protein2ipr.dat file in python took: 23mins 40s\n",
    "#\n",
    "def create_pfam_interpro():\n",
    "    match_count  = 0\n",
    "    output_file = open(output, \"w\")\n",
    "\n",
    "    with open(input, 'r') as input_file:\n",
    "        for line_number, line in enumerate(input_file):\n",
    "\n",
    "            # just match for PF\n",
    "            match = re.search(\"PF[0-9]+\", line) \n",
    "            \n",
    "            if match:\n",
    "                match_count += 1\n",
    "                if match_count > MAX_COUNT:\n",
    "                    print(MAX_COUNT, 'limit reached, breaking.')\n",
    "                    break\n",
    "\n",
    "                output_file.write(line)\n",
    "    output_file.close()\n",
    "\n",
    "#create_pfam_interpro()"
   ]
  },
  {
   "cell_type": "markdown",
   "metadata": {},
   "source": [
    "### DATABASE"
   ]
  },
  {
   "cell_type": "markdown",
   "metadata": {},
   "source": [
    "##### Create db tables"
   ]
  },
  {
   "cell_type": "code",
   "execution_count": null,
   "metadata": {},
   "outputs": [],
   "source": [
    "db = ProteinDB()\n",
    "db.create_tables()\n",
    "db.describe_tables()"
   ]
  },
  {
   "cell_type": "markdown",
   "metadata": {},
   "source": [
    "#### Create indexes after data load"
   ]
  },
  {
   "cell_type": "code",
   "execution_count": null,
   "metadata": {},
   "outputs": [],
   "source": [
    "db.create_indexes()"
   ]
  },
  {
   "cell_type": "markdown",
   "metadata": {},
   "source": [
    "#### Drop Tables"
   ]
  },
  {
   "cell_type": "code",
   "execution_count": null,
   "metadata": {},
   "outputs": [],
   "source": [
    "con = duckdb.connect(database=ProteinDB.db_string)           \n",
    "result = con.execute(\"DROP TABLE PROTEIN_SENTENCE\")\n",
    "con.close()"
   ]
  },
  {
   "cell_type": "code",
   "execution_count": null,
   "metadata": {},
   "outputs": [],
   "source": [
    "con = duckdb.connect(database=ProteinDB.db_string)           \n",
    "#result = con.execute(\"DROP TABLE PROTEIN_SENTENCE\")\n",
    "\n",
    "con.execute(\"\\\n",
    "    CREATE TABLE PROTEIN_SENTENCE (\\\n",
    "        UNIPROT_ID VARCHAR,\\\n",
    "        IPR VARCHAR,\\\n",
    "        DESCRIPTION VARCHAR,\\\n",
    "        TAX_NAME VARCHAR,\\\n",
    "        TAX_ID VARCHAR,\\\n",
    "        DOM_TYPE VARCHAR,\\\n",
    "        START_POS USMALLINT,\\\n",
    "        END_POS USMALLINT\\\n",
    "            )\")\n",
    "con.close()"
   ]
  },
  {
   "cell_type": "markdown",
   "metadata": {},
   "source": [
    "#### Read PFAM values into DB"
   ]
  },
  {
   "cell_type": "code",
   "execution_count": null,
   "metadata": {},
   "outputs": [],
   "source": [
    "# 10M lines 10000000 took 20s\n",
    "\n",
    "PROCESS_LIMIT   = 1000000 # number of lines to process, set to -1 to ignore\n",
    "OUTPUT_LIMIT    = 10000  # determines how often to print a progress message\n",
    "\n",
    "# DuckDB was loading about 10k rows ever 20s\n",
    "# 10M rows took 27min and created 83MB on disk - but this was with an index in place, prob quicker\n",
    "# to apply the index afterwards\n",
    "\n",
    "#file = \"/Users/patrick/dev/ucl/comp0158_mscproject/data/protein2ipr.dat\"; # full file\n",
    "#file = \"/Users/patrick/dev/ucl/comp0158_mscproject/data/protein2ipr_new.dat\"; # pfam only\n",
    "file = \"/Users/patrick/dev/ucl/comp0158_mscproject/data/protein2ipr_pfam_25M.dat\"; # pfam only\n",
    "#file = \"/Users/patrick/dev/ucl/comp0158_mscproject/data/A8KBH6_ipr_pfam.dat\"; # as above but only entries for A8KBH6 (pfam only)\n",
    "\n",
    "# holds a sentence for each sequence\n",
    "sentences = {}\n",
    "\n",
    "#\n",
    "# parse an Interpro file and create ProteinSentences and Words\n",
    "#\n",
    "def parse_interpro():\n",
    "    count = 0\n",
    "    con = duckdb.connect(database=ProteinDB.db_string)  \n",
    "    with open(file, 'r') as input_file:\n",
    "        for line_number, line in enumerate(input_file):\n",
    "            \n",
    "            # check if want to output progress\n",
    "            if ((line_number // OUTPUT_LIMIT > 0) and (line_number % OUTPUT_LIMIT) == 0):\n",
    "                count += 1\n",
    "                print(count * OUTPUT_LIMIT, 'lines processed.....')\n",
    "                 \n",
    "            # check if we've hit the line limit\n",
    "            if(PROCESS_LIMIT != -1):\n",
    "                if line_number == PROCESS_LIMIT:\n",
    "                    print('Last line:', line)\n",
    "                if line_number > PROCESS_LIMIT:\n",
    "                    print('Processing limit reached %s stopping' % (PROCESS_LIMIT))\n",
    "                    break\n",
    "        \n",
    "            # NB: Make sure the file is tab delimited\n",
    "\n",
    "            # Works for both in: A8KBH6_ipr_pfam.dat\n",
    "            match = re.search(\"([A0A0-9]*[a-zA-Z0-9]+)\\\\tIPR[0-9]+\\\\t.*\\\\t(PF[0-9]+)\\\\t([0-9]+)\\\\t([0-9]+)\", line)\n",
    "                      \n",
    "            if match is not None:\n",
    "                uniprot_id  = match.group(1)\n",
    "                pfam_word   = match.group(2)\n",
    "                start       = match.group(3)\n",
    "                end         = match.group(4)\n",
    "                item_type   = \"PFAM\"\n",
    "                \n",
    "                #print(uniprot_id, '\\t', pfam_word, '\\t', start, '\\t', end)\n",
    "                \n",
    "                '''\n",
    "                # create a new word item\n",
    "                word = ProteinWord('pfam', pfam_word, start, end)\n",
    "                # check if already have a protein with this id\n",
    "                if (id in sentences.keys()):\n",
    "                    sentences[id].add_word(word)\n",
    "                else:\n",
    "                    sentence = ProteinSentence(id, word)\n",
    "                    sentences[id] = sentence\n",
    "                '''\n",
    "                \n",
    "                # put into db....\n",
    "                con.execute(\"INSERT INTO PROTEIN_WORD (UNIPROT_ID, WORD_TYPE, REF_ID, START_POS, END_POS) VALUES(?,?,?,?,?)\", (uniprot_id, item_type, pfam_word, start, end))\n",
    "    con.close()\n",
    "                \n",
    "parse_interpro()\n"
   ]
  },
  {
   "cell_type": "code",
   "execution_count": null,
   "metadata": {},
   "outputs": [],
   "source": [
    "# test the connection worked\n",
    "con = duckdb.connect(database=ProteinDB.db_string)           \n",
    "#id = 'A0A059X392'\n",
    "id = 'A0A009GV07' # this has multiple pfam entries\n",
    "result = con.execute(\"SELECT * FROM PROTEIN_WORD WHERE UNIPROT_ID = ?\", [id]).fetchall()\n",
    "print(result)\n",
    "\n",
    "#print(sentences['A0A009GV07'])"
   ]
  },
  {
   "cell_type": "markdown",
   "metadata": {},
   "source": [
    "### UNIREF FASTA"
   ]
  },
  {
   "cell_type": "markdown",
   "metadata": {},
   "source": [
    "#### Parse UniRef100 FASTA 1 > Check for ProteinSentences"
   ]
  },
  {
   "cell_type": "code",
   "execution_count": null,
   "metadata": {},
   "outputs": [],
   "source": [
    "# 500k is enough for matches to be found\n",
    "MAX_LINES = 10000000\n",
    "matched = []\n",
    "not_matched = []\n",
    "\n",
    "#\n",
    "# parse a fasta file to get protein ids\n",
    "# for uniref, these ids are the characters after UniRef100_\n",
    "# TODO: Check if ids are proteins or protein clusters\n",
    "#\n",
    "def parse_fasta():\n",
    "    with open(protein_fasta_file, 'r') as input_file:\n",
    "        for line_number, line in enumerate(input_file):\n",
    "            \n",
    "            if line_number > MAX_LINES:  # line_number starts at 0.\n",
    "                break\n",
    "            #print('Processing :', line)\n",
    "            # note that the raw interpro file is tab delimited between fields\n",
    "            match = re.search(\"UniRef100_([A-Z0-9]+) \", line)\n",
    "            if match is not None:\n",
    "                id = match.group(1)\n",
    "\n",
    "                if id in sentences.keys():\n",
    "                    #print(line_number, 'Found sentence for protein :', id, sentences[id].text)\n",
    "                    if id not in matched:\n",
    "                        matched.append(id)\n",
    "                else:\n",
    "                    not_matched.append(id)\n",
    "parse_fasta()"
   ]
  },
  {
   "cell_type": "markdown",
   "metadata": {},
   "source": [
    "#### Parse UniRef100 FASTA 2 > Extract id, length, taxonomy"
   ]
  },
  {
   "cell_type": "markdown",
   "metadata": {},
   "source": []
  },
  {
   "cell_type": "code",
   "execution_count": null,
   "metadata": {},
   "outputs": [],
   "source": [
    "'''\n",
    "# 500k is enough for matches to be found\n",
    "MAX_LINES = 1000\n",
    "matched = []\n",
    "not_matched = []\n",
    "\n",
    "file = \"/Users/patrick/dev/ucl/comp0158_mscproject/data/uniref100_500M.fasta\"\n",
    "\n",
    "#\n",
    "# parse a fasta file to get protein ids\n",
    "# for uniref, these ids are the characters after UniRef100_\n",
    "# TODO: Check if ids are proteins or protein clusters\n",
    "#\n",
    "def parse_fasta_2():\n",
    "    matchline = \"\"\n",
    "    id = \"\"\n",
    "    match_inprogress = False\n",
    "    \n",
    "    with open(file, 'r') as input_file:\n",
    "        for line_number, line in enumerate(input_file):\n",
    "            \n",
    "            if line_number > MAX_LINES:  # line_number starts at 0.\n",
    "                break\n",
    "\n",
    "            match = re.search(\">UniRef100_([A-Z0-9]+).*TaxID=([0-9]+).*\", line)\n",
    "            \n",
    "            #match = re.search(\">UniRef100_([A-Z0-9]+)\", line) # works\n",
    "            \n",
    "            if match is not None:\n",
    "                if(id != \"\"):\n",
    "                    print(id, '\\t', len(matchline), '\\t', tax_id, '\\t', matchline)\n",
    "                matchline = \"\"\n",
    "                id = match.group(1)\n",
    "                tax_id = match.group(2)\n",
    "                continue\n",
    "            else:\n",
    "                matchline += line.strip()\n",
    "parse_fasta_2()\n",
    "'''"
   ]
  },
  {
   "cell_type": "code",
   "execution_count": null,
   "metadata": {},
   "outputs": [],
   "source": [
    "print(len(matched),'Matched proteins:\\n', matched)\n",
    "print(len(not_matched), 'Unmatched proteins:\\n',not_matched)"
   ]
  },
  {
   "cell_type": "markdown",
   "metadata": {},
   "source": [
    "#### Parse UniRef100 FASTA 3 > Modified parse_masked_regions from Daniel - outputs masked_regions.dat"
   ]
  },
  {
   "cell_type": "code",
   "execution_count": null,
   "metadata": {},
   "outputs": [],
   "source": [
    "'''\n",
    "from Bio import SeqIO\n",
    "import re\n",
    "\n",
    "# re_string = \"\\|(.+)\\|\" # original version\n",
    "re_string = \"UniRef100_([A-Z0-9]+)\" # modified for UniRef100\n",
    "\n",
    "input = \"/Users/patrick/dev/ucl/comp0158_mscproject/data/uniref100_10M.fasta\"\n",
    "output = \"/Users/patrick/dev/ucl/comp0158_mscproject/data/masked_regions.dat\"\n",
    "\n",
    "def parse_file(path, dom_type):\n",
    "    output_file = open(output, \"w\")\n",
    "    for record in SeqIO.parse(path, \"fasta\"):\n",
    "        # record.name = UniRef100_Q6GZX3\n",
    "        # record.description = UniRef100_Q6GZX3 Putative transc....\n",
    "        \n",
    "        # this removes the name from the description removes commas\n",
    "        raw_desc = record.description.replace(record.name+\" \", \"\")\n",
    "        raw_desc = raw_desc.replace(\",\", \"\")\n",
    "        \n",
    "        # extracts the id from the name\n",
    "        result = re.search(re_string, record.name)\n",
    "        uniprot_id = result.group(1)\n",
    "        \n",
    "        # loops throgh the sequence 3 dots at a time - not sure why\n",
    "        # is this supposed to return a line for each collection of at least 3 sequence characters?\n",
    "        # sequence characters?\n",
    "        #for m in re.finditer(r'\\.{3,}', str(record.seq)):          # original version\n",
    "        for m in re.finditer(r'.{3,}', str(record.seq)):            # modified for UniRef100\n",
    "            print(uniprot_id+\"\\tIPRXXXXXX\\t\"+raw_desc+\"\\t\"+dom_type+\"\\t\" + str(m.start()+1)+\"\\t\"+str(m.end()+1))\n",
    "            #output_file.write(uniprot_id+\"\\tIPRXXXXXX\\t\"+raw_desc+\"\\t\"+dom_type+\"\\t\" + str(m.start()+1)+\"\\t\"+str(m.end()+1) + '\\n')\n",
    "        # return()\n",
    "    output_file.close()\n",
    "\n",
    "parse_file(input, \"LowComplexity\")\n",
    "#parse_file(file, \"CoiledCoil\")\n",
    "'''\n"
   ]
  },
  {
   "cell_type": "markdown",
   "metadata": {},
   "source": [
    "#### Read proteins into DB"
   ]
  },
  {
   "cell_type": "code",
   "execution_count": null,
   "metadata": {},
   "outputs": [],
   "source": [
    "\n",
    "def parse_fasta_to_db(dom_type):\n",
    "    \n",
    "    path = \"/Users/patrick/dev/ucl/comp0158_mscproject/data/uniref100_10M.fasta\"\n",
    "    re_string = \"UniRef100_([A-Z0-9]+)\" # modified for UniRef100\n",
    "    \n",
    "    PROCESS_LIMIT   = 1000 # number of lines to process, set to -1 to ignore\n",
    "    OUTPUT_LIMIT    = 100  # determines how often to print a progress message\n",
    "    \n",
    "    line_number = 0\n",
    "    count = 0\n",
    "    con = duckdb.connect(database=ProteinDB.db_string) \n",
    "    \n",
    "    for record in SeqIO.parse(path, \"fasta\"):\n",
    "        \n",
    "        # this removes the name from the description and removes commas\n",
    "        raw_desc = record.description.replace(record.name+\" \", \"\")\n",
    "        raw_desc = raw_desc.replace(\",\", \"\")\n",
    "        \n",
    "        # extracts the id from the name\n",
    "        result = re.search(re_string, record.name)\n",
    "        uniprot_id = result.group(1)\n",
    "        \n",
    "        # check if want to output progress\n",
    "        if ((line_number // OUTPUT_LIMIT > 0) and (line_number % OUTPUT_LIMIT) == 0):\n",
    "            count += 1\n",
    "            print(count * OUTPUT_LIMIT, 'lines processed.....')\n",
    "                \n",
    "        # check if we've hit the line limit\n",
    "        if(PROCESS_LIMIT != -1):\n",
    "            if line_number == PROCESS_LIMIT:\n",
    "                print('Last entry:', uniprot_id)\n",
    "            if line_number > PROCESS_LIMIT:\n",
    "                print('Processing limit reached %s stopping' % (PROCESS_LIMIT))\n",
    "                break\n",
    "        \n",
    "        line_number += 1\n",
    "        \n",
    "        # loops throgh the sequence 3 dots at a time - not sure why? Is this supposed to \n",
    "        # return a line for each collection of at least 3 sequence characters?\n",
    "        #for m in re.finditer(r'\\.{3,}', str(record.seq)):          # original version\n",
    "        for m in re.finditer(r'.{3,}', str(record.seq)):            # modified for UniRef100\n",
    "            #print(uniprot_id+\"\\tIPRXXXXXX\\t\"+raw_desc+\"\\t\"+dom_type+\"\\t\" + str(m.start()+1)+\"\\t\"+str(m.end()+1))\n",
    "            ipr=\"IPRXXXXXX\"\n",
    "            start = str(m.start()+1)\n",
    "            end = str(m.end()+1)\n",
    "            con.execute(\"INSERT INTO PROTEIN_SENTENCE (UNIPROT_ID, IPR, DESCRIPTION, DOM_TYPE, START_POS, END_POS) VALUES(?,?,?,?,?,?,)\", (uniprot_id, ipr, raw_desc, dom_type, start, end))\n",
    "            #output_file.write(uniprot_id+\"\\tIPRXXXXXX\\t\"+raw_desc+\"\\t\"+dom_type+\"\\t\" + str(m.start()+1)+\"\\t\"+str(m.end()+1) + '\\n')\n",
    "        # return()\n",
    "    con.close()\n",
    "\n",
    "parse_fasta_to_db(\"LowComplexity\")\n",
    "#parse_file(file, \"CoiledCoil\")"
   ]
  },
  {
   "cell_type": "code",
   "execution_count": null,
   "metadata": {},
   "outputs": [],
   "source": [
    "# test the connection worked\n",
    "con = duckdb.connect(database=ProteinDB.db_string)           \n",
    "#id = 'A0A059X392'\n",
    "id = 'Q99L13' # this has multiple pfam entries\n",
    "result = con.execute(\"SELECT * FROM PROTEIN_SENTENCE WHERE UNIPROT_ID = ?\", [id]).fetchall()\n",
    "print(result)"
   ]
  },
  {
   "cell_type": "markdown",
   "metadata": {},
   "source": [
    "## DISORDERED REGIONS"
   ]
  },
  {
   "cell_type": "code",
   "execution_count": null,
   "metadata": {},
   "outputs": [],
   "source": [
    "'''\n",
    "#\n",
    "# TRIED .gz file directly but too complex\n",
    "# \n",
    "\n",
    "import gzip\n",
    "import re\n",
    "\n",
    "input = \"/Users/patrick/dev/ucl/comp0158_mscproject/data/disordered/extra.xml.gz\"\n",
    "MAX_LINES = 10\n",
    "\n",
    "def parse_disordered():\n",
    "    #pattern = \"dbname=\\\"MOBIDBLT\\\"\"\n",
    "    pattern = \".*\"\n",
    "    \n",
    "    regex = re.compile(pattern)\n",
    "    buffer_size = 3\n",
    "    count = 0\n",
    "\n",
    "    # Open the gzip file\n",
    "    with gzip.open(input, 'rt') as file:  # 'rt' mode opens the file in text mode\n",
    "        buffer = []\n",
    "        \n",
    "        for line in file:\n",
    "            \n",
    "            protein_match = re.search(\"<protein id=\\\"([A-Z0-9]+).*>\", line)\n",
    "            if(protein_match is not None):\n",
    "                uniprot_id = protein_match.groups(1)\n",
    "                print('Protein :', uniprot_id, line.strip())\n",
    "            else:\n",
    "                db_match = re.search(\"dbname=\\\"MOBIDBLT\\\"([A-Z0-9]+).*>\", line)\n",
    "            \n",
    "            \n",
    "            count +=1\n",
    "            if count >= MAX_LINES:\n",
    "                break\n",
    "           \n",
    "            buffer.append(line)\n",
    "            # Keep the buffer size within the specified limit\n",
    "            if len(buffer) > buffer_size:\n",
    "                buffer.pop(0)\n",
    "            \n",
    "            # Join the buffer lines into a single string for regex matching\n",
    "            combined_lines = ''.join(buffer)\n",
    "            \n",
    "            matches = re.search(\"(.*)\", line)\n",
    "            if matches:\n",
    "                print('Match :', matches.groups(1), line.strip())\n",
    "\n",
    "parse_disordered()\n",
    "'''"
   ]
  },
  {
   "cell_type": "markdown",
   "metadata": {},
   "source": [
    "#### Read disordered region info into DB"
   ]
  },
  {
   "cell_type": "code",
   "execution_count": 52,
   "metadata": {},
   "outputs": [
    {
     "ename": "ParseError",
     "evalue": "no element found: line 10001, column 0 (<string>)",
     "output_type": "error",
     "traceback": [
      "Traceback \u001b[0;36m(most recent call last)\u001b[0m:\n",
      "\u001b[0m  File \u001b[1;32m~/miniconda3/envs/conda_ucl_base/lib/python3.12/site-packages/IPython/core/interactiveshell.py:3577\u001b[0m in \u001b[1;35mrun_code\u001b[0m\n    exec(code_obj, self.user_global_ns, self.user_ns)\u001b[0m\n",
      "\u001b[0m  Cell \u001b[1;32mIn[52], line 25\u001b[0m\n    for event, protein in context:\u001b[0m\n",
      "\u001b[0m  File \u001b[1;32m~/miniconda3/envs/conda_ucl_base/lib/python3.12/xml/etree/ElementTree.py:1242\u001b[0m in \u001b[1;35miterator\u001b[0m\n    root = pullparser._close_and_return_root()\u001b[0m\n",
      "\u001b[0;36m  File \u001b[0;32m~/miniconda3/envs/conda_ucl_base/lib/python3.12/xml/etree/ElementTree.py:1290\u001b[0;36m in \u001b[0;35m_close_and_return_root\u001b[0;36m\n\u001b[0;31m    root = self._parser.close()\u001b[0;36m\n",
      "\u001b[0;36m  File \u001b[0;32m<string>\u001b[0;36m\u001b[0m\n\u001b[0;31mParseError\u001b[0m\u001b[0;31m:\u001b[0m no element found: line 10001, column 0\n"
     ]
    }
   ],
   "source": [
    "#\n",
    "# This works directly on the uncompressed .gz file\n",
    "# No space on laptop for fully extracted extra.xml\n",
    "#\n",
    "\n",
    "# Used this command to extract first 10000 lines into a separate file:\n",
    "#\n",
    "# zgrep . -m 10000 data/disordered/extra.xml.gz > data/disordered/extra.10000.xml\n",
    "#\n",
    "\n",
    "import xml.etree.ElementTree as ElementTree\n",
    "\n",
    "file = '/Users/patrick/dev/ucl/comp0158_mscproject/data/disordered/extra.10000.xml'\n",
    "\n",
    "# get an iterable\n",
    "context = ElementTree.iterparse(file, events=(\"start\", \"end\"))\n",
    "\n",
    "# turn it into an iterator\n",
    "context = iter(context)\n",
    "\n",
    "# get the root element\n",
    "event, root = next(context)\n",
    "con = duckdb.connect(database=ProteinDB.db_string)\n",
    " \n",
    "for event, protein in context:\n",
    "    if event == \"end\" and protein.tag == \"protein\":\n",
    "        # print(elem.attrib['id'])\n",
    "        for match in protein:\n",
    "            if 'MOBIDBLT' in match.attrib['dbname']:\n",
    "                for coords in match:\n",
    "                    uniprot_id = protein.attrib['id']\n",
    "                    word_type=\"DISORDER\"\n",
    "                    start_pos = coords.attrib['start']\n",
    "                    end_pos = coords.attrib['end']\n",
    "                    '''\n",
    "                    print(protein.attrib['id']+\"\\tIPRXXXXXX\\t\" +\n",
    "                          match.attrib['name']+\"\\t\"+match.attrib['id']+\"\\t\" +\n",
    "                          coords.attrib['start']+\"\\t\"+coords.attrib['end'])\n",
    "                    '''\n",
    "                    con.execute(\"INSERT INTO PROTEIN_WORD (UNIPROT_ID, WORD_TYPE, START_POS, END_POS) VALUES(?,?,?,?)\", (uniprot_id, word_type, start_pos, end_pos))\n",
    "        # exit()\n",
    "        root.clear()\n",
    "con.close()"
   ]
  },
  {
   "cell_type": "code",
   "execution_count": 51,
   "metadata": {},
   "outputs": [
    {
     "name": "stdout",
     "output_type": "stream",
     "text": [
      "[('A0A001', 'DISORDER', None, None, 312, 340), ('A0A001', 'DISORDER', None, None, 571, 591), ('A0A003', 'DISORDER', None, None, 321, 340), ('A0A007', 'DISORDER', None, None, 368, 395), ('A0A008', 'DISORDER', None, None, 1, 37), ('A0A008', 'DISORDER', None, None, 7, 21), ('A0A009GNL6', 'DISORDER', None, None, 27, 47), ('A0A009GNL6', 'DISORDER', None, None, 33, 47), ('A0A009GPD0', 'DISORDER', None, None, 138, 164), ('A0A009GRX3', 'DISORDER', None, None, 61, 118), ('A0A009GS49', 'DISORDER', None, None, 499, 537), ('A0A009GS49', 'DISORDER', None, None, 511, 531), ('A0A009GT65', 'DISORDER', None, None, 121, 138), ('A0A009GT65', 'DISORDER', None, None, 121, 144), ('A0A009GTE2', 'DISORDER', None, None, 112, 143), ('A0A009GTE2', 'DISORDER', None, None, 115, 129), ('A0A009GU26', 'DISORDER', None, None, 343, 362), ('A0A009GUZ2', 'DISORDER', None, None, 209, 273), ('A0A009GUZ2', 'DISORDER', None, None, 212, 254), ('A0A009GUZ2', 'DISORDER', None, None, 255, 269), ('A0A009GVC4', 'DISORDER', None, None, 44, 63), ('A0A009GVG5', 'DISORDER', None, None, 612, 627), ('A0A009GVG5', 'DISORDER', None, None, 612, 635), ('A0A009GVV9', 'DISORDER', None, None, 252, 271), ('A0A009GVW2', 'DISORDER', None, None, 178, 201), ('A0A009GVW2', 'DISORDER', None, None, 184, 201), ('A0A009GVY1', 'DISORDER', None, None, 82, 114), ('A0A009GVY1', 'DISORDER', None, None, 91, 114), ('A0A009GWA0', 'DISORDER', None, None, 1, 32), ('A0A009GWD0', 'DISORDER', None, None, 1, 20), ('A0A009GY70', 'DISORDER', None, None, 23, 67), ('A0A009GY70', 'DISORDER', None, None, 32, 47), ('A0A009GYF0', 'DISORDER', None, None, 189, 223), ('A0A009GYY0', 'DISORDER', None, None, 103, 131), ('A0A009GYY0', 'DISORDER', None, None, 105, 120), ('A0A009GZ83', 'DISORDER', None, None, 1, 23), ('A0A009GZ83', 'DISORDER', None, None, 1, 24), ('A0A009GZC0', 'DISORDER', None, None, 24, 44), ('A0A009GZC0', 'DISORDER', None, None, 28, 44), ('A0A009GZC5', 'DISORDER', None, None, 1, 20), ('A0A009GZC5', 'DISORDER', None, None, 161, 178), ('A0A009GZC5', 'DISORDER', None, None, 161, 180), ('A0A009GZF0', 'DISORDER', None, None, 29, 76), ('A0A009GZF0', 'DISORDER', None, None, 59, 76), ('A0A009GZN8', 'DISORDER', None, None, 575, 611), ('A0A009GZN8', 'DISORDER', None, None, 595, 611), ('A0A009H000', 'DISORDER', None, None, 711, 792), ('A0A009H000', 'DISORDER', None, None, 733, 768), ('A0A009H045', 'DISORDER', None, None, 25, 147), ('A0A009H045', 'DISORDER', None, None, 66, 89), ('A0A009H045', 'DISORDER', None, None, 90, 104), ('A0A009H045', 'DISORDER', None, None, 106, 126), ('A0A009H0H9', 'DISORDER', None, None, 1, 34), ('A0A009H0H9', 'DISORDER', None, None, 1, 44), ('A0A009H0R6', 'DISORDER', None, None, 409, 453), ('A0A009H0R6', 'DISORDER', None, None, 415, 443), ('A0A009H0S0', 'DISORDER', None, None, 224, 247), ('A0A009H0S0', 'DISORDER', None, None, 230, 244), ('A0A009H0Z7', 'DISORDER', None, None, 522, 571), ('A0A009H0Z7', 'DISORDER', None, None, 550, 571), ('A0A009H0Z9', 'DISORDER', None, None, 137, 157), ('A0A009H105', 'DISORDER', None, None, 52, 66), ('A0A009H105', 'DISORDER', None, None, 52, 88), ('A0A009H178', 'DISORDER', None, None, 150, 173), ('A0A009H178', 'DISORDER', None, None, 150, 174), ('A0A009H1E9', 'DISORDER', None, None, 381, 620), ('A0A009H1E9', 'DISORDER', None, None, 415, 620), ('A0A009H1L3', 'DISORDER', None, None, 42, 69), ('A0A009H1Q3', 'DISORDER', None, None, 1, 22), ('A0A009H2E7', 'DISORDER', None, None, 39, 61), ('A0A009H2F4', 'DISORDER', None, None, 1, 17), ('A0A009H2F4', 'DISORDER', None, None, 1, 35), ('A0A009H2N6', 'DISORDER', None, None, 32, 63), ('A0A009H2N6', 'DISORDER', None, None, 46, 63), ('A0A009H2Q2', 'DISORDER', None, None, 530, 569), ('A0A009H2Q2', 'DISORDER', None, None, 548, 569), ('A0A009H2Q3', 'DISORDER', None, None, 832, 872), ('A0A009H2Q9', 'DISORDER', None, None, 27, 46), ('A0A009H300', 'DISORDER', None, None, 1, 32), ('A0A009H300', 'DISORDER', None, None, 10, 32), ('A0A009H367', 'DISORDER', None, None, 103, 123), ('A0A009H371', 'DISORDER', None, None, 21, 55), ('A0A009H371', 'DISORDER', None, None, 28, 45), ('A0A009H3B1', 'DISORDER', None, None, 1, 20)]\n"
     ]
    }
   ],
   "source": [
    "# test the connection worked\n",
    "con = duckdb.connect(database=ProteinDB.db_string)           \n",
    "word_type=\"DISORDER\"\n",
    "result = con.execute(\"SELECT * FROM PROTEIN_WORD WHERE WORD_TYPE = ?\", [word_type]).fetchall()\n",
    "print(result)\n",
    "con.close()"
   ]
  },
  {
   "cell_type": "code",
   "execution_count": null,
   "metadata": {},
   "outputs": [],
   "source": [
    "# test the connection worked\n",
    "con = duckdb.connect(database=ProteinDB.db_string)           \n",
    "word_type=\"DISORDER\"\n",
    "result = con.execute(\"SELECT * FROM PROTEIN_WORD WHERE WORD_TYPE = ?\", [word_type]).fetchall()\n",
    "print(result)\n",
    "con.close()"
   ]
  },
  {
   "cell_type": "markdown",
   "metadata": {},
   "source": [
    "## Taxonomy"
   ]
  },
  {
   "cell_type": "code",
   "execution_count": null,
   "metadata": {},
   "outputs": [],
   "source": [
    "import csv\n",
    "import sys\n",
    "csv.field_size_limit(sys.maxsize)\n",
    "# parse protein2ipr to output just the pfam domains\n",
    "\n",
    "#\n",
    "# get these by extracting taxdump.tar.gz and taxcat.tar.gz\n",
    "#\n",
    "names_file = '/Users/patrick/dev/ucl/comp0158_mscproject/data/taxonomy/names.dmp'\n",
    "cats_file = '/Users/patrick/dev/ucl/comp0158_mscproject/data/taxonomy/categories.dmp'\n",
    "\n",
    "name_lookup = {}\n",
    "\n",
    "# print(\"Reading TAXA names\")\n",
    "with open(names_file) as nf:\n",
    "    namesreader = csv.reader(nf, delimiter='|', quotechar='\\'')\n",
    "    # each row has 4 cols, but col names have \\t - need to remove via rstrip and lstrip\n",
    "    # cleanrow becomes, fir example : [ 1, root, scientific name, ''] \n",
    "    # cleanrow[0] refers to the entry on the first column of the current row\n",
    "    for row in namesreader:\n",
    "        clean_row = [x.rstrip().lstrip() for x in row]\n",
    "        if 'scientific name' in clean_row[3]:\n",
    "            # print(clean_row)\n",
    "            clean_row[1] = clean_row[1].replace(',', '')\n",
    "            \n",
    "            name_lookup[clean_row[0]] = {}\n",
    "            name_lookup[clean_row[0]]['name'] = clean_row[1]\n",
    "            name_lookup[clean_row[0]]['kingdom'] = 'unknown'\n",
    "            \n",
    "            \n",
    "# print(\"Reading TAXA categories\")\n",
    "with open(cats_file) as cf:\n",
    "    catreader = csv.reader(cf, delimiter='\\t', quotechar='\\'')\n",
    "    for row in catreader:\n",
    "        # check if item at pos 1 in current row is in namelookup\n",
    "        if row[1] in name_lookup:\n",
    "            name_lookup[row[1]]['kingdom'] = row[0]\n",
    "        if row[2] in name_lookup:\n",
    "            name_lookup[row[1]]['kingdom'] = row[0]\n",
    "            \n",
    "            \n",
    "'''\n",
    "\n",
    "# print(name_lookup)\n",
    "uniprot_lookup = {}\n",
    "# print(\"Annotating UNIPROT\")\n",
    "with open('/scratch1/NOT_BACKED_UP/dbuchan/uniprot/idmapping_selected.tab') as mapping:\n",
    "    mappingreader = csv.reader(mapping, delimiter='\\t', quotechar='\\'')\n",
    "    for row in mappingreader:\n",
    "        if row[12] in name_lookup:\n",
    "            # print(row)\n",
    "            uniprot_lookup[row[0]] = name_lookup[row[12]]\n",
    "            uniprot_lookup[row[0]]['taxaid'] = row[12]\n",
    "            # break\n",
    "\n",
    "# print(\"Annotating UNIPROT PFam\")\n",
    "\n",
    "# print(uniprot_lookup)\n",
    "with open('/scratch1/NOT_BACKED_UP/dbuchan/interpro/derived/protein2ipr_pfam.dat') as pfam:\n",
    "# with open('/scratch1/NOT_BACKED_UP/dbuchan/interpro/masked_regions.dat') as pfam:\n",
    "#with open('/scratch1/NOT_BACKED_UP/dbuchan/interpro/disorder_regions.dat') as pfam:\n",
    "    pfamreader = csv.reader(pfam, delimiter=',', quotechar='\\'')\n",
    "    for row in pfamreader:\n",
    "        if row[0] in uniprot_lookup:\n",
    "            new_line = [row[0], uniprot_lookup[row[0]]['taxaid'],\n",
    "                        uniprot_lookup[row[0]]['kingdom'],\n",
    "                        uniprot_lookup[row[0]]['name']] + row[1:]\n",
    "            print(\",\".join(new_line))\n",
    "            sys.stdout.flush()\n",
    "'''"
   ]
  }
 ],
 "metadata": {
  "kernelspec": {
   "display_name": "conda_ucl_base",
   "language": "python",
   "name": "python3"
  },
  "language_info": {
   "codemirror_mode": {
    "name": "ipython",
    "version": 3
   },
   "file_extension": ".py",
   "mimetype": "text/x-python",
   "name": "python",
   "nbconvert_exporter": "python",
   "pygments_lexer": "ipython3",
   "version": "3.12.3"
  }
 },
 "nbformat": 4,
 "nbformat_minor": 2
}
