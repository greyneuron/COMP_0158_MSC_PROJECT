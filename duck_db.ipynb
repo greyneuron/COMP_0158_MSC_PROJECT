{
 "cells": [
  {
   "cell_type": "code",
   "execution_count": 34,
   "metadata": {},
   "outputs": [],
   "source": [
    "import duckdb\n"
   ]
  },
  {
   "cell_type": "code",
   "execution_count": 43,
   "metadata": {},
   "outputs": [
    {
     "ename": "CatalogException",
     "evalue": "Catalog Error: Table with name \"PROTEIN_SENTENCE_1\" already exists!",
     "output_type": "error",
     "traceback": [
      "\u001b[0;31m---------------------------------------------------------------------------\u001b[0m",
      "\u001b[0;31mCatalogException\u001b[0m                          Traceback (most recent call last)",
      "Cell \u001b[0;32mIn[43], line 5\u001b[0m\n\u001b[1;32m      2\u001b[0m con \u001b[38;5;241m=\u001b[39m duckdb\u001b[38;5;241m.\u001b[39mconnect(database\u001b[38;5;241m=\u001b[39m\u001b[38;5;124m'\u001b[39m\u001b[38;5;124m:memory:\u001b[39m\u001b[38;5;124m'\u001b[39m)\n\u001b[1;32m      4\u001b[0m \u001b[38;5;66;03m# Create table\u001b[39;00m\n\u001b[0;32m----> 5\u001b[0m \u001b[43mduckdb\u001b[49m\u001b[38;5;241;43m.\u001b[39;49m\u001b[43msql\u001b[49m\u001b[43m(\u001b[49m\u001b[38;5;124;43m\"\u001b[39;49m\u001b[38;5;130;43;01m\\\u001b[39;49;00m\n\u001b[1;32m      6\u001b[0m \u001b[38;5;124;43m    CREATE TABLE PROTEIN_SENTENCE_1 (\u001b[39;49m\u001b[38;5;130;43;01m\\\u001b[39;49;00m\n\u001b[1;32m      7\u001b[0m \u001b[38;5;124;43m        UNIPROT_ID VARCHAR,\u001b[39;49m\u001b[38;5;130;43;01m\\\u001b[39;49;00m\n\u001b[1;32m      8\u001b[0m \u001b[38;5;124;43m        DESCRIPTION VARCHAR,\u001b[39;49m\u001b[38;5;130;43;01m\\\u001b[39;49;00m\n\u001b[1;32m      9\u001b[0m \u001b[38;5;124;43m        NAME VARCHAR,\u001b[39;49m\u001b[38;5;130;43;01m\\\u001b[39;49;00m\n\u001b[1;32m     10\u001b[0m \u001b[38;5;124;43m        TAX_ID VARCHAR,\u001b[39;49m\u001b[38;5;130;43;01m\\\u001b[39;49;00m\n\u001b[1;32m     11\u001b[0m \u001b[38;5;124;43m        TAX_DESCRIPTION VARCHAR\u001b[39;49m\u001b[38;5;130;43;01m\\\u001b[39;49;00m\n\u001b[1;32m     12\u001b[0m \u001b[38;5;124;43m    )\u001b[39;49m\u001b[38;5;124;43m\"\u001b[39;49m\u001b[43m)\u001b[49m\n\u001b[1;32m     14\u001b[0m duckdb\u001b[38;5;241m.\u001b[39msql(\u001b[38;5;124m\"\u001b[39m\u001b[38;5;130;01m\\\u001b[39;00m\n\u001b[1;32m     15\u001b[0m \u001b[38;5;124m    CREATE TABLE PROTEIN_WORD_1 (\u001b[39m\u001b[38;5;130;01m\\\u001b[39;00m\n\u001b[1;32m     16\u001b[0m \u001b[38;5;124m        UNIPROT_ID VARCHAR,\u001b[39m\u001b[38;5;130;01m\\\u001b[39;00m\n\u001b[0;32m   (...)\u001b[0m\n\u001b[1;32m     21\u001b[0m \u001b[38;5;124m        END_POS USMALLINT\u001b[39m\u001b[38;5;130;01m\\\u001b[39;00m\n\u001b[1;32m     22\u001b[0m \u001b[38;5;124m    )\u001b[39m\u001b[38;5;124m\"\u001b[39m)\n\u001b[1;32m     24\u001b[0m \u001b[38;5;66;03m# Close the connection\u001b[39;00m\n",
      "File \u001b[0;32m~/miniconda3/envs/conda_ucl_base/lib/python3.12/site-packages/duckdb/__init__.py:457\u001b[0m, in \u001b[0;36msql\u001b[0;34m(query, **kwargs)\u001b[0m\n\u001b[1;32m    455\u001b[0m \u001b[38;5;28;01melse\u001b[39;00m:\n\u001b[1;32m    456\u001b[0m     conn \u001b[38;5;241m=\u001b[39m duckdb\u001b[38;5;241m.\u001b[39mconnect(\u001b[38;5;124m\"\u001b[39m\u001b[38;5;124m:default:\u001b[39m\u001b[38;5;124m\"\u001b[39m)\n\u001b[0;32m--> 457\u001b[0m \u001b[38;5;28;01mreturn\u001b[39;00m \u001b[43mconn\u001b[49m\u001b[38;5;241;43m.\u001b[39;49m\u001b[43msql\u001b[49m\u001b[43m(\u001b[49m\u001b[43mquery\u001b[49m\u001b[43m,\u001b[49m\u001b[43m \u001b[49m\u001b[38;5;241;43m*\u001b[39;49m\u001b[38;5;241;43m*\u001b[39;49m\u001b[43mkwargs\u001b[49m\u001b[43m)\u001b[49m\n",
      "\u001b[0;31mCatalogException\u001b[0m: Catalog Error: Table with name \"PROTEIN_SENTENCE_1\" already exists!"
     ]
    }
   ],
   "source": [
    "# Connect in memory\n",
    "con = duckdb.connect(database=':memory:')\n",
    "\n",
    "# Create table\n",
    "duckdb.sql(\"\\\n",
    "    CREATE TABLE PROTEIN_SENTENCE_1 (\\\n",
    "        UNIPROT_ID VARCHAR,\\\n",
    "        DESCRIPTION VARCHAR,\\\n",
    "        NAME VARCHAR,\\\n",
    "        TAX_ID VARCHAR,\\\n",
    "        TAX_DESCRIPTION VARCHAR\\\n",
    "    )\")\n",
    "\n",
    "duckdb.sql(\"\\\n",
    "    CREATE TABLE PROTEIN_WORD_1 (\\\n",
    "        UNIPROT_ID VARCHAR,\\\n",
    "        WORD_TYPE VARCHAR,\\\n",
    "        REF_ID VARCHAR,\\\n",
    "        REF_TXT VARCHAR,\\\n",
    "        START_POS USMALLINT,\\\n",
    "        END_POS USMALLINT\\\n",
    "    )\")\n",
    "\n",
    "# Close the connection\n",
    "con.close()\n"
   ]
  },
  {
   "cell_type": "code",
   "execution_count": 44,
   "metadata": {},
   "outputs": [
    {
     "name": "stdout",
     "output_type": "stream",
     "text": [
      "┌─────────────────┬─────────────┬─────────┬─────────┬─────────┬─────────┐\n",
      "│   column_name   │ column_type │  null   │   key   │ default │  extra  │\n",
      "│     varchar     │   varchar   │ varchar │ varchar │ varchar │ varchar │\n",
      "├─────────────────┼─────────────┼─────────┼─────────┼─────────┼─────────┤\n",
      "│ UNIPROT_ID      │ VARCHAR     │ YES     │ NULL    │ NULL    │ NULL    │\n",
      "│ DESCRIPTION     │ VARCHAR     │ YES     │ NULL    │ NULL    │ NULL    │\n",
      "│ NAME            │ VARCHAR     │ YES     │ NULL    │ NULL    │ NULL    │\n",
      "│ TAX_ID          │ VARCHAR     │ YES     │ NULL    │ NULL    │ NULL    │\n",
      "│ TAX_DESCRIPTION │ VARCHAR     │ YES     │ NULL    │ NULL    │ NULL    │\n",
      "└─────────────────┴─────────────┴─────────┴─────────┴─────────┴─────────┘\n",
      "\n"
     ]
    }
   ],
   "source": [
    "# Connect in memory\n",
    "con = duckdb.connect(database=':memory:')\n",
    "\n",
    "result = duckdb.sql('DESCRIBE PROTEIN_SENTENCE_1')\n",
    "print(result)\n",
    "\n",
    "# Close the connection\n",
    "con.close()"
   ]
  },
  {
   "cell_type": "markdown",
   "metadata": {},
   "source": []
  },
  {
   "cell_type": "markdown",
   "metadata": {},
   "source": []
  },
  {
   "cell_type": "code",
   "execution_count": 33,
   "metadata": {},
   "outputs": [
    {
     "data": {
      "text/plain": [
       "┌────────────┬───────────┬───────────────────────────────────────────────────────────────┬─────────┬─────────┬─────────┐\n",
       "│  column0   │  column1  │                            column2                            │ column3 │ column4 │ column5 │\n",
       "│  varchar   │  varchar  │                            varchar                            │ varchar │  int64  │  int64  │\n",
       "├────────────┼───────────┼───────────────────────────────────────────────────────────────┼─────────┼─────────┼─────────┤\n",
       "│ A0A000     │ IPR004839 │ Aminotransferase, class I/classII                             │ PF00155 │      41 │     381 │\n",
       "│ A0A001     │ IPR003439 │ ABC transporter-like, ATP-binding domain                      │ PF00005 │     361 │     503 │\n",
       "│ A0A001     │ IPR011527 │ ABC transporter type 1, transmembrane domain                  │ PF00664 │      17 │     276 │\n",
       "│ A0A002     │ IPR003439 │ ABC transporter-like, ATP-binding domain                      │ PF00005 │     340 │     489 │\n",
       "│ A0A002     │ IPR011527 │ ABC transporter type 1, transmembrane domain                  │ PF00664 │      20 │     279 │\n",
       "│ A0A003     │ IPR001509 │ NAD-dependent epimerase/dehydratase                           │ PF01370 │      15 │     249 │\n",
       "│ A0A004     │ IPR001962 │ Asparagine synthase                                           │ PF00733 │     240 │     627 │\n",
       "│ A0A006     │ IPR001962 │ Asparagine synthase                                           │ PF00733 │     166 │     412 │\n",
       "│ A0A007     │ IPR006158 │ Cobalamin (vitamin B12)-binding domain                        │ PF02310 │       3 │     104 │\n",
       "│ A0A007     │ IPR007197 │ Radical SAM                                                   │ PF04055 │     163 │     325 │\n",
       "│   ·        │     ·     │      ·                                                        │    ·    │       · │       · │\n",
       "│   ·        │     ·     │      ·                                                        │    ·    │       · │       · │\n",
       "│   ·        │     ·     │      ·                                                        │    ·    │       · │       · │\n",
       "│ A0A009MED9 │ IPR001451 │ Hexapeptide repeat                                            │ PF14602 │      73 │      98 │\n",
       "│ A0A009MEE2 │ IPR005565 │ Haemolysin activator HlyB, C-terminal                         │ PF03865 │     223 │     543 │\n",
       "│ A0A009MEE2 │ IPR013686 │ Polypeptide-transport-associated, ShlB-type                   │ PF08479 │     102 │     157 │\n",
       "│ A0A009MEE2 │ IPR035251 │ ShlB, POTRA domain                                            │ PF17287 │     175 │     213 │\n",
       "│ A0A009MEE9 │ IPR003439 │ ABC transporter-like, ATP-binding domain                      │ PF00005 │      25 │     172 │\n",
       "│ A0A009MEE9 │ IPR032823 │ Branched-chain amino acid ATP-binding cassette transporter,…  │ PF12399 │     221 │     245 │\n",
       "│ A0A009MEF3 │ IPR005501 │ LamB/YcsF/PxpA-like                                           │ PF03746 │       3 │     240 │\n",
       "│ A0A009MEF4 │ IPR018958 │ Knr4/Smi1-like domain                                         │ PF09346 │      50 │     157 │\n",
       "│ A0A009MEF9 │ IPR015273 │ Cysteinyl-tRNA synthetase, class Ia, DALR                     │ PF09190 │     349 │     411 │\n",
       "│ A0A009MEF9 │ IPR032678 │ tRNA synthetases class I, catalytic domain                    │ PF01406 │      17 │     317 │\n",
       "├────────────┴───────────┴───────────────────────────────────────────────────────────────┴─────────┴─────────┴─────────┤\n",
       "│ ? rows (>9999 rows, 20 shown)                                                                              6 columns │\n",
       "└──────────────────────────────────────────────────────────────────────────────────────────────────────────────────────┘"
      ]
     },
     "execution_count": 33,
     "metadata": {},
     "output_type": "execute_result"
    }
   ],
   "source": [
    "import duckdb\n",
    "\n",
    "# read csv file direct into a table - let duckdb \n",
    "file = '/Users/patrick/dev/ucl/comp0158_mscproject/data/protein2ipr_new_20M.dat'\n",
    "duckdb.read_csv(file)"
   ]
  },
  {
   "cell_type": "markdown",
   "metadata": {},
   "source": []
  },
  {
   "cell_type": "markdown",
   "metadata": {},
   "source": []
  },
  {
   "cell_type": "code",
   "execution_count": null,
   "metadata": {},
   "outputs": [],
   "source": [
    "con = duckdb.connect(database=':memory:')\n",
    "duckdb.sql('COPY PROTEIN_PFAM FROM \"/Users/patrick/dev/ucl/comp0158_mscproject/data/protein2ipr_new_20M.dat\"');\n"
   ]
  },
  {
   "cell_type": "code",
   "execution_count": null,
   "metadata": {},
   "outputs": [],
   "source": [
    "duckdb.sql('SELECT * FROM \"PROTEIN_PFAM\"')"
   ]
  }
 ],
 "metadata": {
  "kernelspec": {
   "display_name": "conda_ucl_base",
   "language": "python",
   "name": "python3"
  },
  "language_info": {
   "codemirror_mode": {
    "name": "ipython",
    "version": 3
   },
   "file_extension": ".py",
   "mimetype": "text/x-python",
   "name": "python",
   "nbconvert_exporter": "python",
   "pygments_lexer": "ipython3",
   "version": "3.1.-1"
  }
 },
 "nbformat": 4,
 "nbformat_minor": 2
}
